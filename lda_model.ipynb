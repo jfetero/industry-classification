{
 "cells": [
  {
   "cell_type": "code",
   "metadata": {
    "tags": [],
    "cell_id": "00000-c76593f4-a9b7-4e3c-8afb-f3e672e4c260",
    "deepnote_to_be_reexecuted": false,
    "source_hash": "dcf6230",
    "execution_start": 1635994364046,
    "execution_millis": 0,
    "deepnote_cell_type": "code"
   },
   "source": "import pandas as pd\nimport numpy as np\nfrom sklearn.decomposition import LatentDirichletAllocation as LDA\nfrom sklearn.feature_extraction.text import TfidfVectorizer\nimport nltk",
   "outputs": [],
   "execution_count": null
  },
  {
   "cell_type": "code",
   "source": "!python -m nltk.downloader stopwords >> /dev/null",
   "metadata": {
    "tags": [],
    "cell_id": "00001-950cc937-6d9f-4465-8f12-d83c8a0d9070",
    "deepnote_to_be_reexecuted": false,
    "source_hash": "7cc2298b",
    "execution_start": 1635993247049,
    "execution_millis": 1944,
    "deepnote_cell_type": "code"
   },
   "outputs": [
    {
     "name": "stdout",
     "text": "/usr/local/lib/python3.7/runpy.py:125: RuntimeWarning: 'nltk.downloader' found in sys.modules after import of package 'nltk', but prior to execution of 'nltk.downloader'; this may result in unpredictable behaviour\n  warn(RuntimeWarning(msg))\n[nltk_data] Downloading package stopwords to /root/nltk_data...\n[nltk_data]   Unzipping corpora/stopwords.zip.\n",
     "output_type": "stream"
    }
   ],
   "execution_count": null
  },
  {
   "cell_type": "code",
   "source": "STOP_WORDS = nltk.corpus.stopwords.words(\"english\")",
   "metadata": {
    "tags": [],
    "cell_id": "00002-51cb7bd8-a008-48c5-80cb-72ceb6e57107",
    "deepnote_to_be_reexecuted": false,
    "source_hash": "bf9f8c00",
    "execution_start": 1635994379074,
    "execution_millis": 3,
    "deepnote_cell_type": "code"
   },
   "outputs": [],
   "execution_count": null
  },
  {
   "cell_type": "code",
   "source": "df2 = pd.read_csv('industry_data.csv')\nindustry_corpus = df2['clean_description'].values.astype(str)\n\nindustry_names = df2[\"industry\"].values\n\ncombined_data = pd.read_csv(\"lda_predictions.csv\")\ncorpus = combined_data['clean_description'].values.astype(str)",
   "metadata": {
    "tags": [],
    "cell_id": "00003-dcdbebf1-68e5-442b-a101-af4c0ad82e2d",
    "deepnote_to_be_reexecuted": false,
    "source_hash": "e12de747",
    "execution_start": 1635994575428,
    "execution_millis": 3178,
    "deepnote_cell_type": "code"
   },
   "outputs": [],
   "execution_count": null
  },
  {
   "cell_type": "code",
   "source": "NGRAM = (1,1)\nMIN_DF = 3\nMAX_DF = .7\nMAX_FEATURES = 5000\n\nidf_vec = TfidfVectorizer(\n    preprocessor=lambda x: x,\n    ngram_range=NGRAM,\n    tokenizer=lambda s: s.split(),\n    stop_words=STOP_WORDS,\n    min_df=MIN_DF,\n    max_df=MAX_DF,\n    max_features=MAX_FEATURES,\n    use_idf=True,\n    smooth_idf=True\n)",
   "metadata": {
    "tags": [],
    "cell_id": "00004-17b5fa67-73e9-4134-a599-ef8262cd9ddc",
    "deepnote_to_be_reexecuted": false,
    "source_hash": "e68e6e7f",
    "execution_start": 1635994597923,
    "execution_millis": 6,
    "deepnote_cell_type": "code"
   },
   "outputs": [],
   "execution_count": null
  },
  {
   "cell_type": "code",
   "source": "# fitting TFIDF vectorizer onto whole corpus\nvec = idf_vec.fit(corpus)\n# getting the vectors of the raw data\nvectors = vec.transform(corpus)",
   "metadata": {
    "tags": [],
    "cell_id": "00005-0552096f-15ea-4b4c-b95e-eeda76a508c2",
    "deepnote_to_be_reexecuted": false,
    "source_hash": "c21795b1",
    "execution_start": 1635994649941,
    "execution_millis": 16697,
    "deepnote_cell_type": "code"
   },
   "outputs": [
    {
     "name": "stderr",
     "text": "/shared-libs/python3.7/py/lib/python3.7/site-packages/sklearn/feature_extraction/text.py:517: UserWarning: The parameter 'token_pattern' will not be used since 'tokenizer' is not None'\n  \"The parameter 'token_pattern' will not be used\"\n/shared-libs/python3.7/py/lib/python3.7/site-packages/sklearn/feature_extraction/text.py:1209: UserWarning: Upper case characters found in vocabulary while 'lowercase' is True. These entries will not be matched with any documents\n  \"Upper case characters found in\"\n",
     "output_type": "stream"
    }
   ],
   "execution_count": null
  },
  {
   "cell_type": "code",
   "source": "lda = LDA(n_components=30)",
   "metadata": {
    "tags": [],
    "cell_id": "00006-ee3db72a-f8dc-426b-a31b-926af107fa9e",
    "deepnote_to_be_reexecuted": false,
    "source_hash": "a2b44b0f",
    "execution_start": 1635994669592,
    "execution_millis": 0,
    "deepnote_cell_type": "code"
   },
   "outputs": [],
   "execution_count": null
  },
  {
   "cell_type": "code",
   "source": "# fitting LDA model onto the vectors of the corpus\nfitted_lda = lda.fit(vectors)",
   "metadata": {
    "tags": [],
    "cell_id": "00007-e728a9d4-3ddc-4900-ab3d-c44193e4b545",
    "deepnote_to_be_reexecuted": false,
    "source_hash": "980d7d46",
    "execution_start": 1635994705773,
    "execution_millis": 164386,
    "deepnote_cell_type": "code"
   },
   "outputs": [],
   "execution_count": null
  },
  {
   "cell_type": "code",
   "source": "# transform industry data with fitted vectorizer and fitted LDA model\nindustry_vectors = idf_vec.transform(industry_corpus)\nindustry_topics = fitted_lda.transform(industry_vectors)",
   "metadata": {
    "tags": [],
    "cell_id": "00008-a5785932-51e4-45ea-a90d-ddbe120a6f8a",
    "deepnote_to_be_reexecuted": false,
    "source_hash": "6e957a61",
    "execution_start": 1635994883089,
    "execution_millis": 67,
    "deepnote_cell_type": "code"
   },
   "outputs": [
    {
     "name": "stderr",
     "text": "/shared-libs/python3.7/py/lib/python3.7/site-packages/sklearn/feature_extraction/text.py:1209: UserWarning: Upper case characters found in vocabulary while 'lowercase' is True. These entries will not be matched with any documents\n  \"Upper case characters found in\"\n",
     "output_type": "stream"
    }
   ],
   "execution_count": null
  },
  {
   "cell_type": "code",
   "source": "# transform employer data with fitted vectorizer and fitted LDA model\nemployer_vectors = idf_vec.transform(corpus)\nemployer_topics = fitted_lda.transform(employer_vectors)",
   "metadata": {
    "tags": [],
    "cell_id": "00009-8d494c2e-8a55-41a3-99ca-ea17d120989a",
    "deepnote_to_be_reexecuted": false,
    "source_hash": "e35f6f53",
    "execution_start": 1635994921510,
    "execution_millis": 19174,
    "deepnote_cell_type": "code"
   },
   "outputs": [
    {
     "name": "stderr",
     "text": "/shared-libs/python3.7/py/lib/python3.7/site-packages/sklearn/feature_extraction/text.py:1209: UserWarning: Upper case characters found in vocabulary while 'lowercase' is True. These entries will not be matched with any documents\n  \"Upper case characters found in\"\n",
     "output_type": "stream"
    }
   ],
   "execution_count": null
  },
  {
   "cell_type": "code",
   "source": "# stores the industry which each of the employers fit into\nindustry_prediction = []\n\nfor employer_vec in employer_topics:\n    distances = []\n    for industry_vec in industry_topics:\n        #Look at how close the company topics are from the industry\n        distances.append(np.linalg.norm(industry_vec - employer_vec))\n    #Pick the closest company\n    best_industry_index = np.argmin(distances)\n    industry_prediction.append(industry_names[best_industry_index])",
   "metadata": {
    "tags": [],
    "cell_id": "00010-321802f2-c8a5-401e-ab5a-f0ef8bdf2dd8",
    "deepnote_to_be_reexecuted": false,
    "source_hash": "9f3af934",
    "execution_start": 1635994953996,
    "execution_millis": 3506,
    "deepnote_cell_type": "code"
   },
   "outputs": [],
   "execution_count": null
  },
  {
   "cell_type": "code",
   "source": "# adding new column to match employer to its industry\ncombined_data[\"industry\"] = industry_prediction",
   "metadata": {
    "tags": [],
    "cell_id": "00011-069c4cab-42c8-40fd-863c-ba86edc863c0",
    "deepnote_to_be_reexecuted": false,
    "source_hash": "8620807a",
    "execution_start": 1635994992653,
    "execution_millis": 3,
    "deepnote_cell_type": "code"
   },
   "outputs": [],
   "execution_count": null
  },
  {
   "cell_type": "code",
   "source": "# writing results into the csv file\ncombined_data.to_csv('lda_predictions.csv')",
   "metadata": {
    "tags": [],
    "cell_id": "00012-b4a0e8e6-6426-4327-b697-29a66444d18c",
    "deepnote_to_be_reexecuted": false,
    "source_hash": "3a86fe65",
    "execution_start": 1635995149520,
    "execution_millis": 3553,
    "deepnote_cell_type": "code"
   },
   "outputs": [],
   "execution_count": null
  },
  {
   "cell_type": "code",
   "source": "combined_data",
   "metadata": {
    "tags": [],
    "cell_id": "00013-33d93ca8-88a1-4c9e-9f2c-5ebdc533ffc1",
    "deepnote_to_be_reexecuted": false,
    "source_hash": "89bb0659",
    "execution_start": 1635995255194,
    "execution_millis": 598,
    "deepnote_cell_type": "code"
   },
   "outputs": [
    {
     "output_type": "execute_result",
     "execution_count": 41,
     "data": {
      "application/vnd.deepnote.dataframe.v2+json": {
       "row_count": 20013,
       "column_count": 4,
       "columns": [
        {
         "name": "employers",
         "dtype": "object",
         "stats": {
          "unique_count": 20012,
          "nan_count": 1,
          "categories": [
           {
            "name": "magic touch",
            "count": 1
           },
           {
            "name": "20011 others",
            "count": 20011
           },
           {
            "name": "Missing",
            "count": 1
           }
          ]
         }
        },
        {
         "name": "description",
         "dtype": "object",
         "stats": {
          "unique_count": 20004,
          "nan_count": 0,
          "categories": [
           {
            "name": ".",
            "count": 7
           },
           {
            "name": "Best European Restaurants in Portland, Oregon: Find Tripadvisor traveler reviews of Portland European restaurants and search by price, location, and more. COVID update: Otto & Anita's European Restaurant has updated their hours, takeout & delivery options. 242 reviews of Otto & Anita's European Restaurant \"it was quiet on the weekday night that i visited the homey german restaurant. the service was very warm and i felt like one of the family. i got to try a sample of the pickle soup which surprising as it sounds was very tasty. Eat at the best Modern European Restaurants in Portland, OR. Read local reviews, browse local photos, & discover where to eat the best food. Your search for the right Modern European Restaurants ends here. Know, then go—and never miss a thing near you - Swiss Hibiscus, NORMANDIE, Bosnia Restaurant, Grandpa's Cafe, Küchenhaus, Lovely Rita, Two Brothers Cafe and Grill, Castagna Restaurant ... Find European restaurants near you from 5 million restaurants worldwide with 760 million reviews and opinions from Tripadvisor travelers. Find European Restaurants local business listings in and near Portland, OR. Get European Restaurants business addresses, phone numbers, driving directions, maps, reviews and more. Whether it's breakfast in Post Falls or Pullman that you are in the mood for or a traditional European lunch, The Old European Restaurant is sure to surprise you with their traditional culinary menu. We provide quality dishes and serve them with great affection to offer a captivating eating experience for guests. European foods. catering. our services. our story. about edelweiss. contact us. get started (503) 238-4411 edelweissdeli@aol.com. 0 item(s) - $0.00. Search. Featured. Schweinebauch (Stuffed Bacon) $8.49/lb. In Store Only. Wine Cured Salami . $15.00/lb. In Store Only. Rosemary Garlic Bologna ... European’s Best Restaurant and Bakery welcomes you to enjoy an exceptional dining experience filled with old-world flavor and comfort. We are family…at European’s Best Restaurant and Bakery. It’s family that supports us and grounds us in what truly matters. That’s why at European’s Best Restaurant and Bakery, we’re all family here. Welcome to Phillips European Restaurant. Many guests think of us as their favorite lunch restaurant. For others we are a casual evening retreat for dinner after a busy day. For some the romantic atmosphere in a hidden corner or a secluded booth provides the ideal place for the special moment of engagement, anniversary, birthday or celebration. European's Best Restaurant and Bakery 19608 West 130th Street Strongsville, Ohio 44136 440-572-0600 Business Hours Mon-Thur 7am-3pm Fri 7am-7pm Sat & Sun 7am-3pm We are currently Closed Payment methods We accept cash or check only ©2021 European's Best Bakery and More, LLC. Bruno's European Restaurant in Lakewood, WA. Bruno's European Restaurant proudly serves authentic German and Polish cuisine. They have great food, and friendly service, in a fun, casual atmosphere. Featured on Diners, Drive-ins, and Dives. European Street Cafe is a family-owned restaurant providing award-winning food, beer selection and service for more than 40 years. Four locations throughout Jacksonville, Fla. Locations. Riverside. 2753 Park St. Jacksonville, FL 32205 904-384-9999 info@europeanstreet.com. Ado's Taste of Europe is a European restaurant serving all kinds of authentic dishes. You can split a platter with friends and family or enjoy a European hamburger on flatbread. With flavors from Germany, Slovenia, Italy, Poland and the Balkan area, there's something for everyone. Restaurant menu, map for European Republic located in 11520, Freeport NY, 126 W Merrick Rd. 4147 Labyrinth Rd. Baltimore, Md 21215 Restaurant, B anquet Hall 1.888.450.4555 Catering 410.764.0722 The European is a hybrid creation that evokes memories (and the occasional bit of longing) for the wine bars and cafes of all those places; and the extent to which the concept resonates with Melbournians can be measured in the place's longevity….” Buttercraft is your Sellwood-moreland neighborhood specialty food and wine shop in Portland, Oregon. We stock an assortment of curated wines, farmstead cheese, handcrafted butters, local meats, and french macarons. (503) 238-4411 edelweissdeli@aol.com. 0 item(s) - $0.00. Search old european restaurant menu, the old european post falls, site:zomato.com old europe english restaurant, old european restaurant cour d alene idaho, old bohemian post falls Select Country India",
            "count": 2
           },
           {
            "name": "20002 others",
            "count": 20004
           }
          ]
         }
        },
        {
         "name": "clean_description",
         "dtype": "object",
         "stats": {
          "unique_count": 20003,
          "nan_count": 7,
          "categories": [
           {
            "name": "good european restaurant portland oregon find tripadvisor traveler review portland european restaurant search price location covid update otto anitas european restaurant update hour takeout delivery option review otto anitas european restaurant quiet weekday night visit homey german restaurant service warm feel like one family get try sample pickle soup surprising sound tasty eat good modern european restaurant portland read local review browse local photo discover eat good food search right modern european restaurant end know goand never miss thing near swiss hibiscus normandie bosnia restaurant grandpas cafe kuchenhaus lovely rita two brother cafe grill castagna restaurant find european restaurant near million restaurant worldwide million review opinion tripadvisor traveler find european restaurant local business listing near portland get european restaurant business address phone number drive direction map review whether breakfast post fall pullman mood traditional european lunch old european restaurant sure surprise traditional culinary menu provide quality dish serve great affection offer captivate eat experience guest european food catering services story edelweiss contact we get start item search feature schweinebauch stuff bacon lb store wine cure salami lb store rosemary garlic bologna europeans good restaurant bakery welcome enjoy exceptional dining experience fill oldworld flavor comfort familyat european good restaurant bakery family support we ground we truly matter that s europeans good restaurant bakery family welcome phillip european restaurant many guest think we favorite lunch restaurant other casual evening retreat dinner busy day romantic atmosphere hide corner secluded booth provide ideal place special moment engagement anniversary birthday celebration european good restaurant bakery west th street strongsville ohio business hours monthur ampm fri ampm sat sun ampm currently close payment method accept cash check european good bakery llc brunos european restaurant lakewood wa brunos european restaurant proudly serve authentic german polish cuisine great food friendly service fun casual atmosphere feature diner drivein dive european street cafe familyowne restaurant provide awardwinne food beer selection service year four location throughout jacksonville fla location riverside park st jacksonville fl ado taste europe european restaurant serve kind authentic dish split platter friend family enjoy european hamburger flatbread flavor germany slovenia italy poland balkan area there s something everyone restaurant menu map european republic locate freeport ny w merrick rd labyrinth rd baltimore md restaurant b anquet hall cater european hybrid creation evoke memory occasional bit long wine bar cafe place extent concept resonate melbournian measure place longevity buttercraft sellwoodmoreland neighborhood specialty food wine shop portland oregon stock assortment curate wines farmstead cheese handcraft butter local meat french macaron item search old european restaurant menu old european post fall sitezomatocom old europe english restaurant old european restaurant cour alene idaho old bohemian post fall select country india",
            "count": 2
           },
           {
            "name": "20002 others",
            "count": 20004
           },
           {
            "name": "Missing",
            "count": 7
           }
          ]
         }
        },
        {
         "name": "industry",
         "dtype": "object",
         "stats": {
          "unique_count": 13,
          "nan_count": 0,
          "categories": [
           {
            "name": "Non-Profit",
            "count": 7567
           },
           {
            "name": "Computer and Electronics",
            "count": 3327
           },
           {
            "name": "11 others",
            "count": 9119
           }
          ]
         }
        },
        {
         "name": "_deepnote_index_column",
         "dtype": "int64"
        }
       ],
       "rows_top": [
        {
         "employers": "magic touch",
         "description": "Magic Touch USA has partnered with clicklease to provide your business with industry-leading screen…",
         "clean_description": "magic touch usa partner clicklease provide business industryleade screen print equipment low monthl…",
         "industry": "Non-Profit",
         "_deepnote_index_column": 0
        },
        {
         "employers": "indus valley partners pvt. ltd.",
         "description": "Indus Valley Partners (India) Pvt. Ltd. Unit No. 154, SDF-V, 2nd Floor, SEEPZ SEZ, Andheri (East), …",
         "clean_description": "indus valley partners india pvt ltd unit sdfv nd floor seepz sez andheri east mumbai india indus va…",
         "industry": "Computer and Electronics",
         "_deepnote_index_column": 1
        },
        {
         "employers": "mather hospital",
         "description": "Home - Mather Hospital Find a doctor Patient portal Pay a bill Upcoming Events Due to the COVID-19 …",
         "clean_description": "home mather hospital find doctor patient portal pay bill upcoming event due covid pandemic mather h…",
         "industry": "Non-Profit",
         "_deepnote_index_column": 2
        },
        {
         "employers": "macarena tapas restaurant",
         "description": "The First Tapas Bar in Colombia - Tapas Macarena. At this opportunity we have brought dishes from o…",
         "clean_description": "first tapas bar colombia tapas macarena opportunity bring dish gastronomic history year icon rememb…",
         "industry": "Non-Profit",
         "_deepnote_index_column": 3
        },
        {
         "employers": "ashland specialty ingredients",
         "description": "Ashland specialty chemicals is driven by its vision to make a better world by providing creative so…",
         "clean_description": "ashland specialty chemical drive vision make well world provide creative solution application speci…",
         "industry": "Health, Pharma, and Biotech",
         "_deepnote_index_column": 4
        },
        {
         "employers": "lawrence berkeley labratory",
         "description": "Lawrence Berkeley National Laboratory (Berkeley Lab) is a Department of Energy (DOE) Office of Scie…",
         "clean_description": "lawrence berkeley national laboratory berkeley lab department energy doe office science lab manage …",
         "industry": "Government",
         "_deepnote_index_column": 5
        },
        {
         "employers": "neelkanth tech services",
         "description": "Neelkanth Tech Services Inc. Brooklands. House Cleaning. Get a free quote from this professional. G…",
         "clean_description": "neelkanth tech services inc brooklands house cleaning get free quote professional get free quote pr…",
         "industry": "Agriculture and Mining",
         "_deepnote_index_column": 6
        },
        {
         "employers": "shareholder and managing partner",
         "description": "A managing partner is paid in two ways: As a partner, they receive a distributive share of the part…",
         "clean_description": "manage partner pay two way partner receive distributive share partnership income every year share p…",
         "industry": "Energy and Utilities",
         "_deepnote_index_column": 7
        },
        {
         "employers": "showing solutions,",
         "description": "Appointment Center 800‑SHOWING (800-746‑9464) Support 800‑379‑0057 Sales 800‑347-8001 626-588-2528 …",
         "clean_description": "appointment center show support sale main menu main menu home truss product angle block base plate …",
         "industry": "Health, Pharma, and Biotech",
         "_deepnote_index_column": 8
        },
        {
         "employers": "fcboe",
         "description": "webmaster@fcboe.org | Site Map. Connect with Us... Fayette County Public Schools does not discrimin…",
         "clean_description": "  site map connect us fayette county public school discriminate basis race color religion sex natio…",
         "industry": "Education",
         "_deepnote_index_column": 9
        },
        {
         "employers": "ocbc corporation ltd",
         "description": "OCBC Bank launches first Sustainability-Linked Structured Deposit in Singapore 24 Sep 2021. By addi…",
         "clean_description": "ocbc bank launch first sustainabilitylinke structured deposit singapore sep add diversity sustainab…",
         "industry": "Computer and Electronics",
         "_deepnote_index_column": 10
        },
        {
         "employers": "lab 49",
         "description": "Lab49 is a specialist consultancy that designs and develops bespoke and innovative technology solut…",
         "clean_description": "lab specialist consultancy design develop bespoke innovative technology solution partnership key fi…",
         "industry": "Computer and Electronics",
         "_deepnote_index_column": 11
        },
        {
         "employers": "jabil inc.",
         "description": "With Jabil's help, Shavelogic is here to defy convention and transform a market dominated by a few …",
         "clean_description": "jabil help shavelogic defy convention transform market dominate household brand feature insight we …",
         "industry": "Manufacturing",
         "_deepnote_index_column": 12
        },
        {
         "employers": "pacific pipeline",
         "description": "Pacific Pipeline Supply was established in 1987 on the foundation of exceptional service at the loc…",
         "clean_description": "pacific pipeline supply establish foundation exceptional service local level water agency contracto…",
         "industry": "Non-Profit",
         "_deepnote_index_column": 13
        },
        {
         "employers": "priority medical centers",
         "description": "Priority Medical & Rehab Centers is a state-of-the-art multi-disciplinary practice offering the fol…",
         "clean_description": "priority medical rehab center stateoftheart multidisciplinary practice offering follow service medi…",
         "industry": "Non-Profit",
         "_deepnote_index_column": 14
        },
        {
         "employers": "lc chen's restaurant",
         "description": "Online ordering menu for LC Chen's. LC Chen's serves Pan-Asian dining with new takes on Asian class…",
         "clean_description": "online ordering menu lc chen lc chen serve panasian dining new take asian classic proud one neighbo…",
         "industry": "Non-Profit",
         "_deepnote_index_column": 15
        },
        {
         "employers": "nawather trading co.",
         "description": "Click company name to browse the detail information. 这是本站沙特阿拉伯买家列表，点击公司名称浏览详细信息。. MODERN BUILDING C…",
         "clean_description": "click company name browse detail information modern building contract e al safia trading intl est s…",
         "industry": "Computer and Electronics",
         "_deepnote_index_column": 16
        },
        {
         "employers": "other financial firm - figure technologies",
         "description": "Figure Technologies, Inc. operates as a financial technology company in both the home equity and bl…",
         "clean_description": "figure technologies inc operate financial technology company home equity blockchain space company o…",
         "industry": "Financial Services",
         "_deepnote_index_column": 17
        },
        {
         "employers": "msl",
         "description": "All the latest MLS news, scores, stats, standings and highlights. Plus special coverage of US Socce…",
         "clean_description": "late mls news score stat standing highlight plus special coverage we soccer canada soccer multiple …",
         "industry": "Non-Profit",
         "_deepnote_index_column": 18
        },
        {
         "employers": "cleveland clinic (contract)",
         "description": "Important Information Regarding Cleveland Clinic and UnitedHealthcare At this time, we are discussi…",
         "clean_description": "important information regard cleveland clinic unitedhealthcare time discuss new contract unitedheal…",
         "industry": "Health, Pharma, and Biotech",
         "_deepnote_index_column": 19
        },
        {
         "employers": "collection front end manager at citi (2000-2009)",
         "description": "Collection Front end Head (Snr. Manager) Bank Internasional Indonesia Jan 2007 - Mei ... Jun 2000 -…",
         "clean_description": "collection front end head snr manager bank internasional indonesia jan mei jun sep tahun bulan band…",
         "industry": "Consumer Services",
         "_deepnote_index_column": 20
        },
        {
         "employers": "heritage medical systems",
         "description": "Our Vision. Coming Soon. About Us Heritage Medical Associates is made up of physicians from differe…",
         "clean_description": "vision come soon we heritage medical associate make physician different area medicine include aller…",
         "industry": "Non-Profit",
         "_deepnote_index_column": 21
        },
        {
         "employers": "endoceutics pharma",
         "description": "Lupin Pharma Canada Announces Partnership with Endoceutics for the Commercialization of INTRAROSA® …",
         "clean_description": "lupin pharma canada announce partnership endoceutics commercialization intrarosa march lupin pharma…",
         "industry": "Health, Pharma, and Biotech",
         "_deepnote_index_column": 22
        },
        {
         "employers": "home health lvnmission healthcare services, inc",
         "description": "To view previous revisions of the rule, click the revision date (s) at the bottom of the rule page.…",
         "clean_description": "view previous revision rule click revision date bottom rule page revision available back need old r…",
         "industry": "Non-Profit",
         "_deepnote_index_column": 23
        },
        {
         "employers": "guidewire software, inc.",
         "description": "Guidewire is the platform P&C insurers trust to engage, innovate, and grow efficiently. We combine …",
         "clean_description": "guidewire platform pc insurer trust engage innovate grow efficiently combine digital core analytic …",
         "industry": "Computer and Electronics",
         "_deepnote_index_column": 24
        },
        {
         "employers": "admin assit at robert half - office team (2013-2013)",
         "description": "Experience Elsevier June 2015 - Present Robert Half/Office Team December 2013 - December 2014 Carri…",
         "clean_description": "experience elsevi june present robert halfoffice team december december carrier johnson culture aug…",
         "industry": "Computer and Electronics",
         "_deepnote_index_column": 25
        },
        {
         "employers": "solectrix inc.",
         "description": "Each Solectrix solar project is a site-specific, custom installation. Our aim is to get the custome…",
         "clean_description": "solectrix solar project sitespecific custom installation aim get customer start path energy indepen…",
         "industry": "Financial Services",
         "_deepnote_index_column": 26
        },
        {
         "employers": "georgia regents university/georgia regents health system",
         "description": "Georgia Regents University Institution Mission Statement Our mission is to provide leadership and e…",
         "clean_description": "georgia regents university institution mission statement mission provide leadership excellence teac…",
         "industry": "Government",
         "_deepnote_index_column": 27
        },
        {
         "employers": "jilin province changhong water conservancy project company",
         "description": "The Jilin Lot 3 tunnel is part of the Jilin Yinsong Water Supply Project, which will convey water t…",
         "clean_description": "jilin lot tunnel part jilin yinsong water supply project convey water central city jilin province l…",
         "industry": "Media and Entertainment",
         "_deepnote_index_column": 28
        },
        {
         "employers": "sendinblue (formerly newsletter2go)",
         "description": "Everything! Except for the brand name. We still have our office in Berlin and the whole team that f…",
         "clean_description": "everything except brand name still office berlin whole team formerly work newslettergo everything m…",
         "industry": "Agriculture and Mining",
         "_deepnote_index_column": 29
        },
        {
         "employers": "harrison medical center",
         "description": "St. Michael Medical Center proudly builds on the rich legacy of care that began with the Harrison f…",
         "clean_description": "st michael medical center proudly build rich legacy care begin harrison family year ago premier med…",
         "industry": "Non-Profit",
         "_deepnote_index_column": 30
        },
        {
         "employers": "asymmetry capital management l.p",
         "description": "Asymmetry Capital Management, L.P. is a San Francisco-based alternative asset management firm found…",
         "clean_description": "asymmetry capital management lp san franciscobase alternative asset management firm found scott kay…",
         "industry": "Computer and Electronics",
         "_deepnote_index_column": 31
        },
        {
         "employers": "iyengar institute of new york ~",
         "description": "Institute of New York – Daily Class Schedule. Classes are determined by levels. These levels are de…",
         "clean_description": "institute new york daily class schedule class determine level level design take learn process encom…",
         "industry": "Government",
         "_deepnote_index_column": 32
        },
        {
         "employers": " ​​​​​​​​​pricap advisors llc",
         "description": "About Us. Founded in 2009, PriCap seeks to produce superior risk adjusted returns investing in high…",
         "clean_description": "we found pricap seek produce superior risk adjust return invest high yield security utilize value d…",
         "industry": "Financial Services",
         "_deepnote_index_column": 33
        },
        {
         "employers": "receptionist at volkswagen of america, inc (2013-2013)",
         "description": "Receptionist at Volkswagen of America, Inc Tampa, Florida, United States 27 connections. Join to Co…",
         "clean_description": "receptionist volkswagen america inc tampa florida united states connection join connect volkswagen …",
         "industry": "Consumer Services",
         "_deepnote_index_column": 34
        },
        {
         "employers": "mda",
         "description": "MDA is the nonprofit health agency dedicated to curing muscular dystrophy, ALS and related diseases…",
         "clean_description": "mda nonprofit health agency dedicate cure muscular dystrophy al related disease fund worldwide rese…",
         "industry": "Non-Profit",
         "_deepnote_index_column": 35
        },
        {
         "employers": "supreme court, nassau county",
         "description": "Supreme Court, Nassau County. 100 Supreme Court Drive. Mineola, New York 11501. 516-493-3400. Admin…",
         "clean_description": "supreme court nassau county supreme court drive mineola new york administration act district admini…",
         "industry": "Government",
         "_deepnote_index_column": 36
        },
        {
         "employers": "warner brothers entertainment inc",
         "description": "Home of Warner Bros Movies, TV Shows and Video Games including Harry Potter, DC Comics and more! Wa…",
         "clean_description": "home warner bro movie tv show video game include harry potter dc comics warner bros entertainment i…",
         "industry": "Non-Profit",
         "_deepnote_index_column": 37
        },
        {
         "employers": "german research center for artificial intelligence",
         "description": "For the eighth time, B-Human, the team from the University of Bremen and the German Research Center…",
         "clean_description": "eighth time bhuman team university bremen german research center artificial intelligence dfki succe…",
         "industry": "Agriculture and Mining",
         "_deepnote_index_column": 38
        },
        {
         "employers": "hydro-quebec",
         "description": "The Hydro-Québec home page (www.hydroquebec.com) is also the home page of the section for residenti…",
         "clean_description": "hydroquebec home page wwwhydroquebeccom also home page section residential customer link service we…",
         "industry": "Agriculture and Mining",
         "_deepnote_index_column": 39
        },
        {
         "employers": "thescore",
         "description": "HEADLINES. No. 1 Alabama's Young shines with 4 TD passes in rout of Miami. No. 2 Oklahoma hangs on …",
         "clean_description": "headline alabamas young shine td pass rout miami oklahoma hang narrow win tulane roger stun rank ba…",
         "industry": "Non-Profit",
         "_deepnote_index_column": 40
        },
        {
         "employers": "palmetto pediatrics",
         "description": "Welcome To Palmetto Pediatric & Adolescents Clinic. We emphasize comprehensive care for all our pat…",
         "clean_description": "welcome palmetto pediatric adolescent clinic emphasize comprehensive care patient location hour exp…",
         "industry": "Non-Profit",
         "_deepnote_index_column": 41
        },
        {
         "employers": "copperweld",
         "description": "Copperweld wire combines the strength of steel with the conductivity and corrosion resistance of co…",
         "clean_description": "copperweld wire combine strength steel conductivity corrosion resistance copper property achieve pe…",
         "industry": "Energy and Utilities",
         "_deepnote_index_column": 42
        },
        {
         "employers": "iii / blue technologies",
         "description": "5885 Grant Ave. Cleveland, OH 44105 Phone: 216.271.4800 Service Hotline: 216.271.5800 24x7 IT Suppo…",
         "clean_description": "  grant ave cleveland oh phone service hotline x support toll free blue canyon technologies inc bct…",
         "industry": "Financial Services",
         "_deepnote_index_column": 43
        },
        {
         "employers": "clinique physio accès",
         "description": "Lâ€™EncÃ©phale (2011) Hors-sÃ©rie 3, 6-8 Â© Lâ€™EncÃ©phale, Paris, 2011. Tous droits rÃ©servÃ©s. Ac…",
         "clean_description": "la encaphale horssarie la encaphale paris tous droit raservas actualitas sur le thermalisme intaraa…",
         "industry": "Agriculture and Mining",
         "_deepnote_index_column": 44
        },
        {
         "employers": "exp realty",
         "description": "eXp is a global online brokerage that’s powered by top agents and cutting-edge technology. Whether …",
         "clean_description": "exp global online brokerage that s powered top agent cuttingedge technology whether you re real est…",
         "industry": "Real Estate and Construction",
         "_deepnote_index_column": 45
        },
        {
         "employers": "hospital quality improvement specialist at kaiser permanente (2014-2016)",
         "description": "Kaiser Permanente Hawaii maintains a Quality Improvement Program ... No waiting for charts to be se…",
         "clean_description": "kaiser permanente hawaii maintain quality improvement program wait chart send kaiser permanente spe…",
         "industry": "Non-Profit",
         "_deepnote_index_column": 46
        },
        {
         "employers": "warehouse worker, amazon",
         "description": "newAmazon Warehouse Worker - Earn Up to $19.30/hour. Amazon Workforce Staffing 3.5. Colorado Spring…",
         "clean_description": "newamazon warehouse worker earn hour amazon workforce staff colorado springs co peterson air force …",
         "industry": "Non-Profit",
         "_deepnote_index_column": 47
        },
        {
         "employers": "bain & company (hong kong) ltd",
         "description": "Bain passionately participates in important pro bono work in Greater China, partnering with organiz…",
         "clean_description": "bain passionately participate important pro bono work great china partnering organization like hong…",
         "industry": "Real Estate and Construction",
         "_deepnote_index_column": 48
        },
        {
         "employers": "bridgewater interiors",
         "description": "Bridgewater Interiors was founded in 1998 as a joint venture with Johnson Controls (JCI) to manufac…",
         "clean_description": "bridgewater interior found joint venture johnson control jci manufacture seat general motors curren…",
         "industry": "Computer and Electronics",
         "_deepnote_index_column": 49
        },
        {
         "employers": "de foods inc.",
         "description": "De Foods, Inc., Norwell, MA. 112 likes · 8 talking about this. DE Foods is a growing family run #KF…",
         "clean_description": "de foods inc norwell like talk de food grow family run kfc franchise year today operate kfc kfctaco…",
         "industry": "Non-Profit",
         "_deepnote_index_column": 50
        },
        {
         "employers": "restaurants on the run",
         "description": "Restaurants on the Run | 2,980 followers on LinkedIn. Restaurants on the Run Foodgistics: The scien…",
         "clean_description": "restaurant run follower linkedin restaurant run foodgistic science behind corporate food delivery y…",
         "industry": "Non-Profit",
         "_deepnote_index_column": 51
        },
        {
         "employers": "green-wood cemetery",
         "description": "Green-Wood is open 7 days a week. PLAN YOUR VISIT. 478 Acres of Art, History, AND NATURE in the hea…",
         "clean_description": "greenwood open day week plan visit acre art history nature heart brooklyn free open public day year…",
         "industry": "Non-Profit",
         "_deepnote_index_column": 52
        },
        {
         "employers": "ask chemicals ( east plant)",
         "description": "ASK Chemicals employees do sports for a good cause. Details ASK Chemicals Metallurgy launches new g…",
         "clean_description": "ask chemical employee sport good cause detail ask chemical metallurgy launch new generation inocula…",
         "industry": "Manufacturing",
         "_deepnote_index_column": 53
        },
        {
         "employers": "assemblee nationale",
         "description": "Presentation de l'Assemblee nationale, du palais Bourbon, de ses membres (deputes), de son fonction…",
         "clean_description": "presentation de lassemblee nationale du palais bourbon de ses membre depute de son fonctionnement e…",
         "industry": "Non-Profit",
         "_deepnote_index_column": 54
        },
        {
         "employers": "nick's bar and grill",
         "description": "Nick’s Bar closed their doors for the first time in 40 years in 2018 as they went under major renov…",
         "clean_description": "nick bar closed door first time year go major renovation restaurant nearly completely rebuild origi…",
         "industry": "Non-Profit",
         "_deepnote_index_column": 55
        },
        {
         "employers": "axyz automation group",
         "description": "We are a global team of advanced manufacturing specialists, providing tailored cutting solutions to…",
         "clean_description": "global team advance manufacturing specialist provide tailor cut solution help automate well competi…",
         "industry": "Energy and Utilities",
         "_deepnote_index_column": 56
        },
        {
         "employers": "mary’s haven",
         "description": "Stories. A Place of Peace, Caring and Compassion. Welcome to Mary's Haven. 35 New Street, Saratoga …",
         "clean_description": "story place peace care compassion welcome mary new street saratoga springs ny phone fax mary bedroo…",
         "industry": "Non-Profit",
         "_deepnote_index_column": 57
        },
        {
         "employers": "intuitive bodywork",
         "description": "“I have been going to Intuitive Bodywork for almost 2 years and I couldn’t say better things. They …",
         "clean_description": "go intuitive bodywork almost year could nt say well thing great hour convenient location easy sched…",
         "industry": "Non-Profit",
         "_deepnote_index_column": 58
        },
        {
         "employers": "duke street capital (f/ hambros european ventures)",
         "description": "Duke Street, the leading European midmarket private equity group, announces that it has agreed to a…",
         "clean_description": "duke street lead european midmarket private equity group announce agree acquire kent pharmaceutical…",
         "industry": "Computer and Electronics",
         "_deepnote_index_column": 59
        },
        {
         "employers": "saskatoon health region",
         "description": "Saskatoon Health Region commits to Reconciliation Read more Flowcast Model The Region's predictive …",
         "clean_description": "saskatoon health region commit reconciliation read flowcast model region predictive model forecast …",
         "industry": "Non-Profit",
         "_deepnote_index_column": 60
        },
        {
         "employers": "the institute for the blind and partially sighted (ibos)",
         "description": "The Institute for the Blind and Partially Sighted (IBOS) is the national competence- and rehabilita…",
         "clean_description": "institute blind partially sight ibo national competence rehabilitation centre denmark young adult v…",
         "industry": "Government",
         "_deepnote_index_column": 61
        },
        {
         "employers": "willow park nursing home",
         "description": "Willow Park is a skilled nursing facility nestled directly in the great city of Cleveland, and has …",
         "clean_description": "willow park skilled nursing facility nestle directly great city cleveland friend community year bed…",
         "industry": "Non-Profit",
         "_deepnote_index_column": 62
        },
        {
         "employers": "domino's pizza inc.",
         "description": "Order pizza, pasta, sandwiches & more online for carryout or delivery from Domino's. View menu, fin…",
         "clean_description": "order pizza pasta sandwich online carryout delivery domino view menu find location track order sign…",
         "industry": "Non-Profit",
         "_deepnote_index_column": 63
        },
        {
         "employers": "grey ny",
         "description": "Grey New York. 200 5th Ave New York, NY 10010 United States +1 212 546 2000 Gray, NY Directions {{:…",
         "clean_description": "grey new york th ave new york ny united states gray ny direction locationtaglinevaluetext sponsor t…",
         "industry": "Non-Profit",
         "_deepnote_index_column": 64
        },
        {
         "employers": "internal auditor, meta financial group",
         "description": "Meta Financial Group, Inc. 1 year 4 months Senior Internal Auditor Sep 2020 - Jun 202110 months Tro…",
         "clean_description": "meta financial group inc year month senior internal auditor sep jun month troy michigan united stat…",
         "industry": "Computer and Electronics",
         "_deepnote_index_column": 65
        },
        {
         "employers": "electronic security solutions",
         "description": "Electronic Security Solutions (ESS) is a valuable partner for our school system. As educators, our …",
         "clean_description": "electronic security solution ess valuable partner school system educator focus happening classroom …",
         "industry": "Computer and Electronics",
         "_deepnote_index_column": 66
        },
        {
         "employers": "larry smith sa",
         "description": "Larry Smith SA provides shopping centre development services. The company is based in Madrid, Spain…",
         "clean_description": "larry smith sa provide shopping centre development service company base madrid spain november larry…",
         "industry": "Computer and Electronics",
         "_deepnote_index_column": 67
        },
        {
         "employers": "2 go cleaning services",
         "description": "About Maid 2 Go Cleaning Service Be it residential or commercial cleaning \"Maid 2 Go Cleaning Servi…",
         "clean_description": "maid go clean service residential commercial cleaning maid go clean service ensure client home busi…",
         "industry": "Non-Profit",
         "_deepnote_index_column": 68
        },
        {
         "employers": "eventtemps",
         "description": "Part of our criteria for hiring is professionalism, enthusiasm, and communication skills. Whether y…",
         "clean_description": "part criterion hire professionalism enthusiasm communication skill whether need certify bartender f…",
         "industry": "Non-Profit",
         "_deepnote_index_column": 69
        },
        {
         "employers": "andrew peller limmited",
         "description": "Andrew Peller Limited Announces Timing of Fourth Quarter & Year-End Fiscal 2021 Results & Conferenc…",
         "clean_description": "andrew peller limited announce time fourth quarter yearend fiscal result conference callapril andre…",
         "industry": "Computer and Electronics",
         "_deepnote_index_column": 70
        },
        {
         "employers": "soc",
         "description": "A Security Operation Center (SOC) is a centralized function within an organization employing people…",
         "clean_description": "security operation center soc centralized function within organization employ people process techno…",
         "industry": "Agriculture and Mining",
         "_deepnote_index_column": 71
        },
        {
         "employers": "symic, inc",
         "description": "Symic Bio. Matrix-Targeting Biotherapeutics: A New Category of Therapeutics. Expanding Applications…",
         "clean_description": "symic bio matrixtargete biotherapeutic new category therapeutic expand application matrix biology e…",
         "industry": "Health, Pharma, and Biotech",
         "_deepnote_index_column": 72
        },
        {
         "employers": "priority settlement group of tx",
         "description": "Let Priority Settlement Group of Texas help you meet your client’s needs. We pride ourselves on our…",
         "clean_description": "let priority settlement group texas help meet client need pride ability provide smooth stressfree c…",
         "industry": "Computer and Electronics",
         "_deepnote_index_column": 73
        },
        {
         "employers": "lebreton & sons real estate,",
         "description": "David LeBreton. VP of Operations • 15+ years of strategic management and operations experience. • F…",
         "clean_description": "david lebreton vp operations year strategic management operation experience formerly principal lebr…",
         "industry": "Non-Profit",
         "_deepnote_index_column": 74
        },
        {
         "employers": "self-employed martin mangement group, martin management collective",
         "description": "CEO of Martin Management Group LLC | Digital Nomad & Location Free Living Self-employed Jan 2013 - …",
         "clean_description": "ceo martin management group llc digital nomad location free live selfemploye jan present year month…",
         "industry": "Computer and Electronics",
         "_deepnote_index_column": 75
        },
        {
         "employers": "petsmart pet hotel",
         "description": "PetsHotel Pet Boarding. Our comfortable accommodations & safety-certified associates provide a welc…",
         "clean_description": "petshotel pet boarding comfortable accommodation safetycertifie associate provide welcome place dog…",
         "industry": "Non-Profit",
         "_deepnote_index_column": 76
        },
        {
         "employers": "graduate ambassador, mba program at university of mary washington (2014-2014)",
         "description": "May 10, 2014 by Brynn Boyer. The University of Mary Washington graduated a total of 1,249 students …",
         "clean_description": "may brynn boyer university mary washington graduate total student rd commencement graduate ceremony…",
         "industry": "Non-Profit",
         "_deepnote_index_column": 77
        },
        {
         "employers": "sunwest aviation",
         "description": "Sunwest Aviation is the official Shell AeroCentre ™ at the Calgary International Airport (YYC). In …",
         "clean_description": "sunw aviation official shell aerocentre calgary international airport yyc addition provide shell fu…",
         "industry": "Agriculture and Mining",
         "_deepnote_index_column": 78
        },
        {
         "employers": "lapeer plating & plastics",
         "description": "LP+P is the premier manufacturer of Class A, high-visibility automotive components. LP+P has the ca…",
         "clean_description": "lpp premier manufacturer class highvisibility automotive component lpp capability require provide i…",
         "industry": "Computer and Electronics",
         "_deepnote_index_column": 79
        },
        {
         "employers": "math tutor, southern utah university",
         "description": "Southern Utah University has many tutors available for math, chemistry, biology, business, and many…",
         "clean_description": "southern utah university many tutor available math chemistry biology business many subject private …",
         "industry": "Government",
         "_deepnote_index_column": 80
        },
        {
         "employers": "denso manufacturing canada",
         "description": "DENSO Manufacturing Canada, Inc. (DMCN), located in Guelph, Ontario, Canada, manufactures heating v…",
         "clean_description": "denso manufacturing canada inc dmcn locate guelph ontario canada manufacture heat ventilation air c…",
         "industry": "Media and Entertainment",
         "_deepnote_index_column": 81
        },
        {
         "employers": "team lead, isc software",
         "description": "Meet the Executive Team. Olaf Laos. Olaf directs sales, consultancy services, and product developme…",
         "clean_description": "meet executive team olaf laos olaf direct sale consultancy service product development within isc s…",
         "industry": "Media and Entertainment",
         "_deepnote_index_column": 82
        },
        {
         "employers": "sucampo pharmaceuticals, inc.",
         "description": "Sucampo is now a part of Mallinckrodt. On February 13, 2018, Mallinckrodt closed on our acquisition…",
         "clean_description": "sucampo part mallinckrodt february mallinckrodt close acquisition sucampo pharmaceuticals inc full …",
         "industry": "Health, Pharma, and Biotech",
         "_deepnote_index_column": 83
        },
        {
         "employers": "chief financial officer, university of toledo medical center",
         "description": "Rick Swaine Chief Financial Officer at UNIVERSITY OF TOLEDO MEDICAL CENTER Toledo, Ohio Metropolita…",
         "clean_description": "rick swaine chief financial officer university toledo medical center toledo ohio metropolitan area …",
         "industry": "Non-Profit",
         "_deepnote_index_column": 84
        },
        {
         "employers": "self employed - mine support services",
         "description": "Mine Support Services is a highly skilled mining partner with 30 years experience. We provide civil…",
         "clean_description": "mine support service highly skilled mining partner year experience provide civil construction envir…",
         "industry": "Manufacturing",
         "_deepnote_index_column": 85
        },
        {
         "employers": "next",
         "description": "Shop the very latest fashion and childrens clothing online at Next USA :: FREE delivery available* …",
         "clean_description": "shop late fashion children clothing online next usa free delivery available great style great servi…",
         "industry": "Non-Profit",
         "_deepnote_index_column": 86
        },
        {
         "employers": "mobile software dev manager, neulion inc",
         "description": "NeuLion, Inc 21 years 4 months Mobile Application Development Manager Jun 2000 - Present21 years 4 …",
         "clean_description": "neulion inc years month mobile application development manager jun present year month plainview ny …",
         "industry": "Computer and Electronics",
         "_deepnote_index_column": 87
        },
        {
         "employers": "the auld dubliner",
         "description": "The Auld Dubliner has been part of the downtown Long Beach community for over 10 years. Come experi…",
         "clean_description": "auld dubliner part downtown long beach community year come experience place friend come celebrate s…",
         "industry": "Non-Profit",
         "_deepnote_index_column": 88
        },
        {
         "employers": "rocaton investment advisors inc",
         "description": "Rocaton was founded in April 2002 by a team of experienced investment professionals who had all pre…",
         "clean_description": "rocaton found april team experience investment professional previously work together another invest…",
         "industry": "Computer and Electronics",
         "_deepnote_index_column": 89
        },
        {
         "employers": "les banques alimentaires du québec",
         "description": "Le réseau des Banques alimentaires du Québec nourrit 500 000 personnes chaque mois. Ses 32 membres …",
         "clean_description": "le reseau des banques alimentaires du quebec nourrit personnes chaque mois se membre moisson et ass…",
         "industry": "Non-Profit",
         "_deepnote_index_column": 90
        },
        {
         "employers": "creativecircle",
         "description": "Creative Circle is an Equal Employment Opportunity Employer. All qualified applicants will receive …",
         "clean_description": "creative circle equal employment opportunity employer qualified applicant receive consideration emp…",
         "industry": "Non-Profit",
         "_deepnote_index_column": 91
        },
        {
         "employers": "marsh usa inc.",
         "description": "Marsh McLennan is a trusted advisor to clients around the world. A professional services firm like …",
         "clean_description": "marsh mclennan trust advisor client around world professional service firm like lead global expert …",
         "industry": "Agriculture and Mining",
         "_deepnote_index_column": 92
        },
        {
         "employers": "corus group (f/ british steel plc)",
         "description": "Late 1990s: Corus Group. On October 6, 1999, British Steel and Hoogovens merged, forming Corus Grou…",
         "clean_description": "late corus group october british steel hoogoven merge form corus group plc ceo two former company j…",
         "industry": "Computer and Electronics",
         "_deepnote_index_column": 93
        },
        {
         "employers": "seachange international inc",
         "description": "SeaChange International is a multinational supplier of Video Delivery Software Solutions that power…",
         "clean_description": "seachange international multinational supplier video delivery software solution power cloud onpremi…",
         "industry": "Consumer Services",
         "_deepnote_index_column": 94
        },
        {
         "employers": "ohiohealth|mcconnell heart health center",
         "description": "OhioHealth Home / Locations / Health and Fitness / / McConnell Heart Health Center McConnell Heart …",
         "clean_description": "ohiohealth home location health fitness mcconnell heart health center mcconnell heart health center…",
         "industry": "Non-Profit",
         "_deepnote_index_column": 95
        },
        {
         "employers": "covalentech llc",
         "description": "Power & Infra. The electric power industry provides the production and delivery of electric energy,…",
         "clean_description": "power infra electric power industry provide production delivery electric energy often know power el…",
         "industry": "Manufacturing",
         "_deepnote_index_column": 96
        },
        {
         "employers": "bolt solutions inc.",
         "description": "bolt is the world’s largest P&C insurance exchange. We match distributors with providers on a singl…",
         "clean_description": "bolt world large pc insurance exchange match distributor provider single digital platform offer sea…",
         "industry": "Manufacturing",
         "_deepnote_index_column": 97
        },
        {
         "employers": "registered dietitian / diabetes educator",
         "description": "A diabetes educator can be health care professionals from a variety of health disciplines, includin…",
         "clean_description": "diabetes educator health care professional variety health discipline include register dietitian nur…",
         "industry": "Non-Profit",
         "_deepnote_index_column": 98
        },
        {
         "employers": "kris's care",
         "description": "K risscare Personal Care Home. Providing the Best of Care and Comfort for your Loved One. Thanks fo…",
         "clean_description": "k risscare personal care home provide good care comfort love one thank visit krisscare personal car…",
         "industry": "Non-Profit",
         "_deepnote_index_column": 99
        },
        {
         "employers": "courtesy associate",
         "description": "Average Salary for a Courtesy Associate. Courtesy Associates in America make an average salary of $…",
         "clean_description": "average salary courtesy associate courtesy associate america make average salary per year per hour …",
         "industry": "Non-Profit",
         "_deepnote_index_column": 100
        },
        {
         "employers": "carrington mortgage services",
         "description": "Carrington Charitable Foundation, a 501(c)(3) nonprofit organization, is not regulated by New York …",
         "clean_description": "carrington charitable foundation c nonprofit organization regulate new york state department financ…",
         "industry": "Computer and Electronics",
         "_deepnote_index_column": 101
        },
        {
         "employers": "progressive learning",
         "description": "Progressive Learnings Progressive Learnings is a place of teaching excellence, where students can f…",
         "clean_description": "progressive learning progressive learning place teaching excellence student feel ease learn languag…",
         "industry": "Government",
         "_deepnote_index_column": 102
        },
        {
         "employers": "southern new hampshire university coce",
         "description": "Southern New Hampshire University is a leader in online education. Our online college degree progra…",
         "clean_description": "southern new hampshire university leader online education online college degree program develop sub…",
         "industry": "Non-Profit",
         "_deepnote_index_column": 103
        },
        {
         "employers": "zhengzhou city guancheng chinese people’s political consultative conference",
         "description": "The Chinese People’s Political Consultative Conference (CPPCC) is a creation of the Communist Party…",
         "clean_description": "chinese people political consultative conference cppcc creation communist party china cpc combine m…",
         "industry": "Non-Profit",
         "_deepnote_index_column": 104
        },
        {
         "employers": "westermo network technologies ab",
         "description": "Westermo provides a full range of industrial data communications solutions for demanding applicatio…",
         "clean_description": "westermo provide full range industrial datum communication solution demand application transport wa…",
         "industry": "Computer and Electronics",
         "_deepnote_index_column": 105
        },
        {
         "employers": "triton security",
         "description": "Triton Security is the trusted name for a wide range of professional business security and faciliti…",
         "clean_description": "triton security trust name wide range professional business security facility management service we…",
         "industry": "Media and Entertainment",
         "_deepnote_index_column": 106
        },
        {
         "employers": "breconridge manufacturing solutions",
         "description": "All workers of BreconRidge Manufacturing Solutions, now known as Sanmina-SCI Corporation, Division …",
         "clean_description": "worker breconridge manufacturing solution know sanminasci corporation division optoelectronic micro…",
         "industry": "Media and Entertainment",
         "_deepnote_index_column": 107
        },
        {
         "employers": "fujian minhua power source",
         "description": "Established in 1996, Fujian Minhua Power Source Co., Ltd (Former-Anxi Minhua Battery Co., Ltd Fujia…",
         "clean_description": "establish fujian minhua power source co ltd formeranxi minhua battery co ltd fujian mhb become one …",
         "industry": "Computer and Electronics",
         "_deepnote_index_column": 108
        },
        {
         "employers": "ruth's retreat",
         "description": "Ruth's Retreat – Beauty Salon Isle of Man Feel revitalised and relaxed... A warm welcome awaits Our…",
         "clean_description": "ruth retreat beauty salon isle man feel revitalise relaxed warm welcome await service escape perfec…",
         "industry": "Non-Profit",
         "_deepnote_index_column": 109
        },
        {
         "employers": "americans for prosperity",
         "description": "Home - Americans for Prosperity. We believe every person has unique gifts that enable them to reali…",
         "clean_description": "home americans prosperity believe every person unique gift enable realize american dream amazing po…",
         "industry": "Education",
         "_deepnote_index_column": 110
        },
        {
         "employers": "bell's nursery",
         "description": "…your local, family run nursery, gift boutique, and coffee bar since 1976. Wintering your baskets a…",
         "clean_description": "local family run nursery gift boutique coffee bar since winter basket bell cranberry opening basket…",
         "industry": "Non-Profit",
         "_deepnote_index_column": 111
        },
        {
         "employers": "psychology  software tools",
         "description": "The Most Comprehensive Software Available for Behavioral Research. E-Prime provides a truly easy-to…",
         "clean_description": "comprehensive software available behavioral research eprime provide truly easytouse environment com…",
         "industry": "Agriculture and Mining",
         "_deepnote_index_column": 112
        },
        {
         "employers": "sage search partners;",
         "description": "Sage Search Partners is a national, retained executive search firm serving higher education and non…",
         "clean_description": "sage search partner national retain executive search firm serve high education nonprofit institutio…",
         "industry": "Agriculture and Mining",
         "_deepnote_index_column": 113
        },
        {
         "employers": "mi l lennium health",
         "description": "Millennium Health is an accredited specialty laboratory with over a decade of experience in drug te…",
         "clean_description": "millennium health accredit specialty laboratory decade experience drug testing service help clinici…",
         "industry": "Government",
         "_deepnote_index_column": 114
        },
        {
         "employers": "1803 capital llc",
         "description": "At 1803 Capital LLC, we understand the automotive industry inside and out. Our streamlined processe…",
         "clean_description": "  capital llc understand automotive industry inside streamlined process design around provide easy …",
         "industry": "Computer and Electronics",
         "_deepnote_index_column": 115
        },
        {
         "employers": "axovant sciences, inc.",
         "description": "Sio Gene Therapies, formerly known as Axovant Gene Therapies, is a clinical-stage pharmaceutical co…",
         "clean_description": "sio gene therapy formerly know axovant gene therapy clinicalstage pharmaceutical company develop ge…",
         "industry": "Health, Pharma, and Biotech",
         "_deepnote_index_column": 116
        },
        {
         "employers": "seiler llp",
         "description": "ABOUT US. For over 60 years, Seiler has provided advisory, tax, and accounting services to some of …",
         "clean_description": "we year seiler provide advisory tax accounting service world affluent individual family prominent p…",
         "industry": "Computer and Electronics",
         "_deepnote_index_column": 117
        },
        {
         "employers": "evisions inc",
         "description": "Evisions creates higher education software that is innovative and easy-to-use. Request a demo today…",
         "clean_description": "evision create high education software innovative easytouse request demo today see evision web site…",
         "industry": "Manufacturing",
         "_deepnote_index_column": 118
        },
        {
         "employers": "foodcity",
         "description": "Food City. Fresh Salmon Savings! Find fresh savings for your family this week. Get fresh salmon fil…",
         "clean_description": "food city fresh salmon saving find fresh saving family week get fresh salmon filet pound restrictio…",
         "industry": "Non-Profit",
         "_deepnote_index_column": 119
        },
        {
         "employers": "journee",
         "description": "Our in-house design team carefully details each Journee Collection shoe with your journey in mind, …",
         "clean_description": "inhouse design team carefully detail journee collection shoe journey mind offer comfortable versati…",
         "industry": "Non-Profit",
         "_deepnote_index_column": 120
        },
        {
         "employers": "berkeley international",
         "description": "International Relations at Berkeley focuses on the study of contemporary and historical problems in…",
         "clean_description": "international relations berkeley focus study contemporary historical problem world politic include …",
         "industry": "Government",
         "_deepnote_index_column": 121
        },
        {
         "employers": "speer & associates",
         "description": "Speer & Associates LLC is a consulting firm formed to provide practical operational, financial and …",
         "clean_description": "speer associate llc consulting firm form provide practical operational financial strategic solution…",
         "industry": "Financial Services",
         "_deepnote_index_column": 122
        },
        {
         "employers": "graniteridge capital",
         "description": "At GBP, we differentiate with patient capital, certainty to close, and our team’s extensive experie…",
         "clean_description": "gbp differentiate patient capital certainty close team extensive experience low middlemarket privat…",
         "industry": "Computer and Electronics",
         "_deepnote_index_column": 123
        },
        {
         "employers": "shoe sensation",
         "description": "Shop for men, women, and kids shoes from brands like Nike, Under Armour, Skechers, Converse, and mo…",
         "clean_description": "shop man woman kid shoe brand like nike armour skecher converse good deal brand name shoe footwear …",
         "industry": "Non-Profit",
         "_deepnote_index_column": 124
        }
       ],
       "rows_bottom": [
        {
         "employers": "mayer, brown, rowe & maw llp",
         "description": "Mayer Brown is a global services provider comprising associated legal practices that are separate e…",
         "clean_description": "mayer brown global service provider comprising associate legal practice separate entity include may…",
         "industry": "Agriculture and Mining",
         "_deepnote_index_column": 19888
        },
        {
         "employers": "satori capital",
         "description": "A Satori investment encompasses more than just capital. Our experience, relationships, and guidance…",
         "clean_description": "satori investment encompass capital experience relationship guidance steer leadership team toward l…",
         "industry": "Computer and Electronics",
         "_deepnote_index_column": 19889
        },
        {
         "employers": "qixxit",
         "description": "Qixxit provides within one app a journey planner with a nationalwide travel information including a…",
         "clean_description": "qixxit provide within one app journey planner nationalwide travel information include mean transpor…",
         "industry": "Non-Profit",
         "_deepnote_index_column": 19890
        },
        {
         "employers": "product assistant - insurance at barclays (2014-unknown)",
         "description": "Careers at Barclays. A career at Barclays is truly unique and there’s no other business quite like …",
         "clean_description": "career barclay career barclay truly unique there s business quite like barclay bank consumer corpor…",
         "industry": "Manufacturing",
         "_deepnote_index_column": 19891
        },
        {
         "employers": "stearns financial group",
         "description": "Stearns Financial is an investment management firm that understands wealth management is more than …",
         "clean_description": "stearns financial investment management firm understand wealth management protect grow wealth vehic…",
         "industry": "Media and Entertainment",
         "_deepnote_index_column": 19892
        },
        {
         "employers": "wyss",
         "description": "At the Wyss Institute, we leverage recent insights into how Nature builds, controls and manufacture…",
         "clean_description": "wyss institute leverage recent insight nature build control manufacture develop new engineering inn…",
         "industry": "Non-Profit",
         "_deepnote_index_column": 19893
        },
        {
         "employers": "mannesmann mobilfunk gmbh",
         "description": "The network company was called Mannesmann Mobilfunk GmbH. It was the main competitor to Germany's i…",
         "clean_description": "network company call mannesmann mobilfunk gmbh main competitor germanys incumbent carrier deutsche …",
         "industry": "Real Estate and Construction",
         "_deepnote_index_column": 19894
        },
        {
         "employers": "mary's house cleaning",
         "description": "Mary's house cleaning. June 6 ·. 🥰. Karla Ford recommends Mary's house cleaning. October 22, 2020. …",
         "clean_description": "marys house cleaning june karla ford recommend marys house cleaning october she s part family last …",
         "industry": "Non-Profit",
         "_deepnote_index_column": 19895
        },
        {
         "employers": "other - freeman company",
         "description": "freeman-icon-action-link-arrow. Learn more. Event Services. Feel confident planning safe, in-person…",
         "clean_description": "freemaniconactionlinkarrow learn event service feel confident plan safe inperson hybrid trade show …",
         "industry": "Non-Profit",
         "_deepnote_index_column": 19896
        },
        {
         "employers": "financial consultant at blue leaf financial advisors (2012-2014)",
         "description": "Cost of Healthcare, Consultant Blue Shield of California ... Aug 2012 - Nov 2013 1 year 4 months. .…",
         "clean_description": "cost healthcare consultant blue shield california aug nov year month marygrove college christopher …",
         "industry": "Financial Services",
         "_deepnote_index_column": 19897
        },
        {
         "employers": "miami county sheriff's office",
         "description": "Miami County, OH 201 W Main Street Troy, Ohio 45373 Phone: 937-440-6085 Fax: 937-440-3524 8am - 4pm…",
         "clean_description": "miami county oh w main street troy ohio phone fax pm monday friday orval miller paola drive fourdoo…",
         "industry": "Government",
         "_deepnote_index_column": 19898
        },
        {
         "employers": "powertan",
         "description": "By continuing to use this website you are agreeing to our use of cookies. OK Power Tank was first d…",
         "clean_description": "continue use website agree use cookie ok power tank first develop need fast portable reliable air o…",
         "industry": "Non-Profit",
         "_deepnote_index_column": 19899
        },
        {
         "employers": "lipsitz green scime cambria",
         "description": "23 Attorney from Lipsitz Green Scime Cambria Named to 2021 Super Lawyers. The law firm of Lipsitz G…",
         "clean_description": "  attorney lipsitz green scime cambria name super lawyer law firm lipsitz green scime cambria llp p…",
         "industry": "Non-Profit",
         "_deepnote_index_column": 19900
        },
        {
         "employers": "cleveland road animal hospital",
         "description": "We are a full service, AAHA accredited veterinary hospital for cats, dogs, and other household pets…",
         "clean_description": "full service aaha accredit veterinary hospital cat dog household pet locate beautiful wooster ohio …",
         "industry": "Non-Profit",
         "_deepnote_index_column": 19901
        },
        {
         "employers": "stap struckscott",
         "description": "video footage proving that drew ryan scott from the band 'varsity fanclub' sings all the songs on t…",
         "clean_description": "video footage prove draw ryan scott band varsity fanclub sing song starstruck album except starstru…",
         "industry": "Non-Profit",
         "_deepnote_index_column": 19902
        },
        {
         "employers": "sapot systems inc",
         "description": "WELCOME TO SAPOT SYSTEMS Since its establishment in 2003, Sapot Systems is working consistently and…",
         "clean_description": "welcome sapot system since establishment sapot system work consistently diligently emerge lead staf…",
         "industry": "Manufacturing",
         "_deepnote_index_column": 19903
        },
        {
         "employers": "derrick jones",
         "description": "Latest on Chicago Bulls small forward Derrick Jones Jr. including news, stats, videos, highlights a…",
         "clean_description": "late chicago bull small forward derrick jones jr include news stat video highlight espn derrick jon…",
         "industry": "Non-Profit",
         "_deepnote_index_column": 19904
        },
        {
         "employers": "baseball factory",
         "description": "2021 Baseball Factory All-America Game 2021 Baseball Factory All-America Game. The Top High School …",
         "clean_description": "  baseball factory allamerica game baseball factory allamerica game top high school player country …",
         "industry": "Non-Profit",
         "_deepnote_index_column": 19905
        },
        {
         "employers": "service master",
         "description": "ServiceMaster Brands. Making everyday heroes more heroic. Learn More. Our Brands. ServiceMaster Bra…",
         "clean_description": "servicemaster brand make everyday hero heroic learn brands servicemaster brand leader home service …",
         "industry": "Computer and Electronics",
         "_deepnote_index_column": 19906
        },
        {
         "employers": "data analyst, healthcare, other",
         "description": "Healthcare data analysts may help hospitals, health systems, and physician groups decide whether to…",
         "clean_description": "healthcare datum analyst may help hospital health system physician group decide whether add new ser…",
         "industry": "Media and Entertainment",
         "_deepnote_index_column": 19907
        },
        {
         "employers": "eye associates northwest, pc",
         "description": "Eye Associates Northwest, PC is dedicated to providing the best in specialized eye care. ... I high…",
         "clean_description": "eye associates northwest pc dedicate provide good specialized eye care highly recommend eye associa…",
         "industry": "Non-Profit",
         "_deepnote_index_column": 19908
        },
        {
         "employers": "rancatore's ice cream and yogurt",
         "description": "Homepage for Rancatore's Ice Cream & Yogurt, located in Belmont, Lexington, and Newton, MA. Order i…",
         "clean_description": "homepage rancatore ice cream yogurt locate belmont lexington newton order ice cream gift card pick …",
         "industry": "Non-Profit",
         "_deepnote_index_column": 19909
        },
        {
         "employers": "ynhh",
         "description": "Yale New Haven Hospital. Nationally Recognized Yale New Haven Hospital is proud to be ranked among …",
         "clean_description": "yale new hospital nationally recognize yale new hospital proud rank among good nation eight special…",
         "industry": "Non-Profit",
         "_deepnote_index_column": 19910
        },
        {
         "employers": "ohio department of rehabilitation and corrections",
         "description": "Learn more about visitation opportunities. Contact the Ohio Department of Rehabilitation and Correc…",
         "clean_description": "learn visitation opportunity contact ohio department rehabilitation correction browse frequently as…",
         "industry": "Government",
         "_deepnote_index_column": 19911
        },
        {
         "employers": "qualtex laboratories",
         "description": "QualTex is one of the largest independent, nonprofit testing laboratories in the United States for …",
         "clean_description": "qualtex one large independent nonprofit testing laboratory united states blood plasma product locat…",
         "industry": "Non-Profit",
         "_deepnote_index_column": 19912
        },
        {
         "employers": "neos",
         "description": "(*) Be informed that the email address you have entered could be used to send a satisfaction survey…",
         "clean_description": "  inform email address enter could use send satisfaction survey anonymous optional neo service rese…",
         "industry": "Health, Pharma, and Biotech",
         "_deepnote_index_column": 19913
        },
        {
         "employers": "intec infocom pvt ltd",
         "description": "Intec Infocom Pvt Ltd Head Office is located in Haryana Gurgaon is a top player in the Information …",
         "clean_description": "intec infocom pvt ltd head office locate haryana gurgaon top player information technology software…",
         "industry": "Computer and Electronics",
         "_deepnote_index_column": 19914
        },
        {
         "employers": "vulcan management",
         "description": "Vulcan Management | 103 followers on LinkedIn. Provide Management Expertise To Enhance Enterprise V…",
         "clean_description": "vulcan management follower linkedin provide management expertise enhance enterprise value vulcan ma…",
         "industry": "Financial Services",
         "_deepnote_index_column": 19915
        },
        {
         "employers": "kforce contract pge",
         "description": "Kforce Midtown Tampa sit s at the intersection of work, life and play. Our home offices will remain…",
         "clean_description": "kforce midtown tampa sit intersection work life play home office remain heart work get do new space…",
         "industry": "Financial Services",
         "_deepnote_index_column": 19916
        },
        {
         "employers": "onshore outsourcing",
         "description": "Onshore Outsourcing delivers upon its mission of revitalizing underserved communities through its n…",
         "clean_description": "onshore outsourcing deliver upon mission revitalize underserved community novel approach workforce …",
         "industry": "Computer and Electronics",
         "_deepnote_index_column": 19917
        },
        {
         "employers": "ultra commerce internet pty ltd.",
         "description": "Built exclusively on AWS, the Ultra Commerce platform leverages the latest technologies, services a…",
         "clean_description": "build exclusively aw ultra commerce platform leverage late technology service good practice aw ensu…",
         "industry": "Agriculture and Mining",
         "_deepnote_index_column": 19918
        },
        {
         "employers": "mc marketing corporation ag",
         "description": "This page redirects to /content/us/en-us/contact-us.html in publish./content/us/en-us/contact-us.ht…",
         "clean_description": "page redirect contentusenuscontactushtml publishcontentusenuscontactushtml publish mercy corps glob…",
         "industry": "Financial Services",
         "_deepnote_index_column": 19919
        },
        {
         "employers": "polytechnic institute of new york university",
         "description": "Located in Brooklyn, New York, Polytechnic Institute of New York University is a mid-size four year…",
         "clean_description": "locate brooklyn new york polytechnic institute new york university midsize four year private colleg…",
         "industry": "Health, Pharma, and Biotech",
         "_deepnote_index_column": 19920
        },
        {
         "employers": "peer insight",
         "description": "Peer Insight is an innovation firm that partners with leaders to drive new growth and turn ideas in…",
         "clean_description": "peer insight innovation firm partner leader drive new growth turn idea reality client we ve privile…",
         "industry": "Computer and Electronics",
         "_deepnote_index_column": 19921
        },
        {
         "employers": "cleveland clinic prn aramark",
         "description": "Smoke-free/drug-free environment. If you are interested in applying for employment with Cleveland C…",
         "clean_description": "smokefreedrugfree environment interested apply employment cleveland clinic need special assistance …",
         "industry": "Non-Profit",
         "_deepnote_index_column": 19922
        },
        {
         "employers": "qinetiq, inc.",
         "description": "QinetiQ Satellite to Support European Union Horizon 2020 Programme. The European Space Agency (ESA)…",
         "clean_description": "qinetiq satellite support european union horizon programme european space agency esa confirm appoin…",
         "industry": "Manufacturing",
         "_deepnote_index_column": 19923
        },
        {
         "employers": "baltimore va medical center",
         "description": "The Baltimore VA Medical Center is a few blocks away from the Light Rail and Metro Subway Stations …",
         "clean_description": "baltimore va medical center block away light rail metro subway stations lexington market addition b…",
         "industry": "Non-Profit",
         "_deepnote_index_column": 19924
        },
        {
         "employers": "gabriel partners",
         "description": "Charles Gabriel Partners is a leading provider of professional search services with specialized exp…",
         "clean_description": "charles gabriel partners lead provider professional search service specialized expertise finance st…",
         "industry": "Financial Services",
         "_deepnote_index_column": 19925
        },
        {
         "employers": "veloce restaurant",
         "description": "Cafe Veloce | Italian Restaurant in Kirkland, WA LOADING... VELOCE’S RESTAURANT SOFTWARE IS A POS S…",
         "clean_description": "cafe veloce italian restaurant kirkland wa load veloce restaurant software pos solution tailor opti…",
         "industry": "Non-Profit",
         "_deepnote_index_column": 19926
        },
        {
         "employers": "applied systems and technology transfer",
         "description": "Applied Systems & Technology Transfer | 27 followers on LinkedIn. About AST2 Applied Systems and Te…",
         "clean_description": "apply system technology transfer follower linkedin ast apply system technology transfer ast small b…",
         "industry": "Agriculture and Mining",
         "_deepnote_index_column": 19927
        },
        {
         "employers": "great jone spa, 2015-01-07",
         "description": "gary r. jones - tyler, tx dsi transport inc. - cameron park, ca wrh ii - hopewell, pa sidhu trans i…",
         "clean_description": "gary r jones tyler tx dsi transport inc cameron park ca wrh ii hopewell pa sidhu trans inc bakersfi…",
         "industry": "Non-Profit",
         "_deepnote_index_column": 19928
        },
        {
         "employers": "managing director at managing director gitamo exam setters (2015-unknown)",
         "description": "Managing Director at Flying Exam London, United Kingdom. Join to Connect Flying Exam. Company Websi…",
         "clean_description": "manage director fly exam london united kingdom join connect fly exam company website report profile…",
         "industry": "Energy and Utilities",
         "_deepnote_index_column": 19929
        },
        {
         "employers": "lifepoint health st. francis hospital",
         "description": "\"LifePoint Health\" is a trade name used to refer to an organization of affiliated entities that own…",
         "clean_description": "lifepoint health trade name use refer organization affiliate entity operate hospital healthcare pro…",
         "industry": "Non-Profit",
         "_deepnote_index_column": 19930
        },
        {
         "employers": "johnson controls automotive experience",
         "description": "Johnson Controls, Inc. (Johnson Controls) requirements to the suppliers in our Automotive Experienc…",
         "clean_description": "johnson controls inc johnson control requirement supplier automotive experience division corporate …",
         "industry": "Computer and Electronics",
         "_deepnote_index_column": 19931
        },
        {
         "employers": "univ. of illinois at chicago",
         "description": "Located in the heart of one of the world’s great cities, the University of Illinois Chicago is a vi…",
         "clean_description": "locate heart one world great city university illinois chicago vital part educational technological …",
         "industry": "Non-Profit",
         "_deepnote_index_column": 19932
        },
        {
         "employers": "hunt's gymnastics",
         "description": "Hunt's Gymnastics Academy offers gymnastics and ninja classes that will build your child's strength…",
         "clean_description": "hunt gymnastic academy offer gymnastic ninja class build child strength provide challenge foster co…",
         "industry": "Non-Profit",
         "_deepnote_index_column": 19933
        },
        {
         "employers": "only parts supply chain solutions",
         "description": "Only Parts Supply Chain Solutions Inc. is a company governing under the Canada Business Corporation…",
         "clean_description": "part supply chain solutions inc company govern canada business corporation act february wednesday i…",
         "industry": "Energy and Utilities",
         "_deepnote_index_column": 19934
        },
        {
         "employers": "community loans of america,",
         "description": "At Community Loans of America, Inc. we make our loan products convenient and always strive to keep …",
         "clean_description": "community loans america inc make loan product convenient always strive keep customer service top pr…",
         "industry": "Computer and Electronics",
         "_deepnote_index_column": 19935
        },
        {
         "employers": "the pink elephant",
         "description": "The Pink Elephant Cafe. View menu. Now serving breakfast Monday - Friday from 7am Fresh Juices & sm…",
         "clean_description": "pink elephant cafe view menu serve breakfast monday friday fresh juice smoothie daily sit grab n go…",
         "industry": "Non-Profit",
         "_deepnote_index_column": 19936
        },
        {
         "employers": "regional director, state government affairs at america's health insurance plans (ahip) (2007-2009)",
         "description": "Contact Us 202.778.3200 | ahip@ahip.org. America’s Health Insurance Plans 601 Pennsylvania Avenue, …",
         "clean_description": "contact we america health insurance plan pennsylvania avenue nw south building suite washington dc …",
         "industry": "Education",
         "_deepnote_index_column": 19937
        },
        {
         "employers": "suffolk county delivery system reform incentive program",
         "description": "Delivery System Reform Incentive Payment (DSRIP) Program Achievement Value (AV) Scorecard DY2, Q1 A…",
         "clean_description": "delivery system reform incentive payment dsrip program achievement value av scorecard dy q april ju…",
         "industry": "Education",
         "_deepnote_index_column": 19938
        },
        {
         "employers": "the james cancer research hospital",
         "description": "At The James, patients have access to revolutionary cancer treatment methods and innovative clinica…",
         "clean_description": "james patients access revolutionary cancer treatment method innovative clinical research cancer exp…",
         "industry": "Non-Profit",
         "_deepnote_index_column": 19939
        },
        {
         "employers": "medallion oil i, llc",
         "description": "Medallion Midstream | Midstream Services for Crude Oil and Natural Gas Producers. Deliver Solutions…",
         "clean_description": "medallion midstream midstream service crude oil natural gas producer deliver solution ensure safety…",
         "industry": "Agriculture and Mining",
         "_deepnote_index_column": 19940
        },
        {
         "employers": "jonesall inc.",
         "description": "JonesAll Inc Roofing & Construction did a great job replacing our gutters. They answered all of our…",
         "clean_description": "jonesall inc roofing construction great job replace gutter answer question process price get estima…",
         "industry": "Non-Profit",
         "_deepnote_index_column": 19941
        },
        {
         "employers": "internal auditor",
         "description": "An internal auditor (IA) is a trained professional employed by companies to provide independent and…",
         "clean_description": "internal auditor ia train professional employ company provide independent objective evaluation fina…",
         "industry": "Computer and Electronics",
         "_deepnote_index_column": 19942
        },
        {
         "employers": "beaulieu of america inc.",
         "description": "Beaulieu of America, Inc. manufactures carpeting and rugs. The Company produces wall-to-wall carpet…",
         "clean_description": "beaulieu america inc manufacture carpeting rug company produce walltowall carpeting rug beaulieu se…",
         "industry": "Consumer Services",
         "_deepnote_index_column": 19943
        },
        {
         "employers": "other - rubino & company",
         "description": "During a review, Rubino will perform analytical procedures, inquiries, and other procedures to obta…",
         "clean_description": "review rubino perform analytical procedure inquiry procedure obtain limited assurance financial sta…",
         "industry": "Business Services",
         "_deepnote_index_column": 19944
        },
        {
         "employers": "kal tites",
         "description": "Kal Tire - Tires, Wheels, and Full Mechanical Service. SHOP NOW Adventures and everyday journeys ar…",
         "clean_description": "kal tire tire wheel full mechanical service shop adventure everyday journey around corner find perf…",
         "industry": "Real Estate and Construction",
         "_deepnote_index_column": 19945
        },
        {
         "employers": "bristol-myers squibb,  plainsboro, nj",
         "description": "About Bristol-Myers Squibb Community Health Center. Bristol-Myers Squibb Community Health Center is…",
         "clean_description": "bristolmyer squibb community health center bristolmyer squibb community health center group practic…",
         "industry": "Education",
         "_deepnote_index_column": 19946
        },
        {
         "employers": "millennium funding group",
         "description": "Millennium Funding Launches New and Improved Website 11/04/2019. An exciting and highly-anticipated…",
         "clean_description": "millennium funding launch new improve website excite highlyanticipate project millennium funding ne…",
         "industry": "Computer and Electronics",
         "_deepnote_index_column": 19947
        },
        {
         "employers": "compliance implementation services, llc",
         "description": "Compliance Implementation Services LLC Compliance Implementation Services, LLC was founded in 2004.…",
         "clean_description": "compliance implementation service llc compliance implementation service llc found company line busi…",
         "industry": "Energy and Utilities",
         "_deepnote_index_column": 19948
        },
        {
         "employers": "aaf birmingham iron bob wick immediate supervisor,",
         "description": "Former Chargers Equipment Manager Bob Wick Joined Scott & BR To Discuss His New AAF Job With Birmin…",
         "clean_description": "former charger equipment manager bob wick join scott br discuss new aaf job birmingham iron san die…",
         "industry": "Non-Profit",
         "_deepnote_index_column": 19949
        },
        {
         "employers": "upmc western psychiatric hospital",
         "description": "Pittsburgh, PA, 15213. 412-624-1000 or toll free 1-877-624-4100. Get directions. For more than 70 y…",
         "clean_description": "pittsburgh pa toll free get direction year upmc western psychiatric hospital nationally recognize l…",
         "industry": "Non-Profit",
         "_deepnote_index_column": 19950
        },
        {
         "employers": "caluent llc",
         "description": "No matter how big or small, standard or custom, we have the solutions you need for your application…",
         "clean_description": "matter big small standard custom solution need application specialize heating cool control thermal …",
         "industry": "Financial Services",
         "_deepnote_index_column": 19951
        },
        {
         "employers": "omnam investment group",
         "description": "Driven by an entrepreneurial spirit, Omnam is a pioneering and diverse global real estate group wit…",
         "clean_description": "drive entrepreneurial spirit omnam pioneer diverse global real estate group incisive vision source …",
         "industry": "Media and Entertainment",
         "_deepnote_index_column": 19952
        },
        {
         "employers": "empyrean",
         "description": "Empyrean definition is - empyreal. How to use empyrean in a sentence. Adjective movie scenes set in…",
         "clean_description": "empyrean definition empyreal use empyrean sentence adjective movie scene set heaven often suggest h…",
         "industry": "Real Estate and Construction",
         "_deepnote_index_column": 19953
        },
        {
         "employers": "jenner & block llp",
         "description": "Founded in 1914, Jenner & Block is a law firm of international reach with more than 500 lawyers. Ou…",
         "clean_description": "found jenner block law firm international reach lawyer firm widely recognize produce outstanding re…",
         "industry": "Agriculture and Mining",
         "_deepnote_index_column": 19954
        },
        {
         "employers": "other - nova business group llc",
         "description": "NOVA DISTRIBUTION GROUP LLC. NOVA DISTRIBUTION GROUP LLC (DOS ID: 5770839) was incorporated on 2020…",
         "clean_description": "nova distribution group llc nova distribution group llc do i d incorporate new york business record…",
         "industry": "Consumer Services",
         "_deepnote_index_column": 19955
        },
        {
         "employers": "ultra trace detection, llc",
         "description": "UltraTrace Detection, LLC. UTD manufactures devices that improve the performance of explosives dete…",
         "clean_description": "ultratrace detection llc utd manufacture device improve performance explosive detector utilize inno…",
         "industry": "Computer and Electronics",
         "_deepnote_index_column": 19956
        },
        {
         "employers": "etham east primary school, uk",
         "description": "Eltham East Primary School Official. 9 September at 16:13 ·. Yesterday, once again Eltham East Prim…",
         "clean_description": "eltham east primary school official september yesterday eltham east primary school please medium li…",
         "industry": "Non-Profit",
         "_deepnote_index_column": 19957
        },
        {
         "employers": "r adams cowley shock trauma center",
         "description": "Shock Trauma. Call for patient information: 410-328-6110. 410-328-6110. The Nation's First and Only…",
         "clean_description": "shock trauma call patient information nation first integrate trauma hospital dr r adams cowley cons…",
         "industry": "Non-Profit",
         "_deepnote_index_column": 19958
        },
        {
         "employers": "endesa geração",
         "description": "Endesa. No necesitas más teorías sobre la subida de la luz. Necesitas #UnaSoluciónÚnica. Un precio …",
         "clean_description": "endesa necesita mas teorias sobre la subida de la luz necesitas unasolucionunica un precio base de …",
         "industry": "Non-Profit",
         "_deepnote_index_column": 19959
        },
        {
         "employers": "stanford university office of residence education",
         "description": "ResX. Now, more than ever, is a time we need to bring community to our campus. ResX is a new, compr…",
         "clean_description": "resx ever time need bring community campus resx new comprehensive vision undergraduate residential …",
         "industry": "Government",
         "_deepnote_index_column": 19960
        },
        {
         "employers": "project manager at pepper construction group (1999-2004)",
         "description": "Jun 2004 - Apr 2007 2 years 11 months. ... Curry College Bachelor's degree Sociology. 1999 - 2003. …",
         "clean_description": "jun apr year month curry college bachelor degree sociology group senior project manager pepper cons…",
         "industry": "Media and Entertainment",
         "_deepnote_index_column": 19961
        },
        {
         "employers": "custom air transport",
         "description": "Custom Air Transport. Custom Air Transport was created back in 1995, and is a cargo based airline t…",
         "clean_description": "custom air transport custom air transport create back cargo base airline situate fort lauderdale fl…",
         "industry": "Agriculture and Mining",
         "_deepnote_index_column": 19962
        },
        {
         "employers": "decrescente distributing company inc.",
         "description": "DeCrescente Distributing Company is committed to ensuring that our website is accessible to everyon…",
         "clean_description": "decrescente distribute company commit ensure website accessible everyone compliance applicable law …",
         "industry": "Media and Entertainment",
         "_deepnote_index_column": 19963
        },
        {
         "employers": "intern, massachusetts institute of technology (mit)",
         "description": "Massachusetts Institute of Technology Career Advising & Professional Development Twitter Facebook B…",
         "clean_description": "massachusetts institute technology career advise professional development twitter facebook building…",
         "industry": "Education",
         "_deepnote_index_column": 19964
        },
        {
         "employers": "wachtell, lipton , rosen & katz",
         "description": "Wachtell Lipton is dedicated to providing advice and expertise at the highest levels and achieving …",
         "clean_description": "wachtell lipton dedicate provide advice expertise high level achieve extraordinary result client se…",
         "industry": "Computer and Electronics",
         "_deepnote_index_column": 19965
        },
        {
         "employers": "university ob/gyn specialties",
         "description": "Welcome from the 2021 Chief Class. We are very proud to be a part of the Ob/Gyn department here at …",
         "clean_description": "welcome chief class proud part obgyn department ohsu excite introduce residency program many streng…",
         "industry": "Non-Profit",
         "_deepnote_index_column": 19966
        },
        {
         "employers": "bierman aba",
         "description": "Through the scientific principles of ABA therapy and accelerated center-based learning, Bierman ABA…",
         "clean_description": "scientific principle aba therapy accelerate centerbase learning bierman aba dedicate focus provide …",
         "industry": "Education",
         "_deepnote_index_column": 19967
        },
        {
         "employers": "community mercy health partners",
         "description": "Community Mercy Health Partners. 100 Medical Center Drive. Springfield, Ohio 45504. Get Directions.…",
         "clean_description": "community mercy health partner medical center drive springfield ohio get direction community mercy …",
         "industry": "Non-Profit",
         "_deepnote_index_column": 19968
        },
        {
         "employers": "en masse entertainment",
         "description": "En Masse Entertainment, Inc. (formerly Bluehole Interactive, Inc.) was an American video game publi…",
         "clean_description": "en masse entertainment inc formerly bluehole interactive inc american video game publisherfounde ju…",
         "industry": "Non-Profit",
         "_deepnote_index_column": 19969
        },
        {
         "employers": "mediserve information systems",
         "description": "Company profile page for MediServe Information Systems Inc including stock price, company news, pre…",
         "clean_description": "company profile page mediserve information systems inc include stock price company news press relea…",
         "industry": "Computer and Electronics",
         "_deepnote_index_column": 19970
        },
        {
         "employers": "absa financial services ltd.",
         "description": "ABSA FINANCIAL SERVICES LTD is located in GAUTENG, Gauteng, South Africa and is part of the Banks &…",
         "clean_description": "absa financial services ltd locate gauteng gauteng south africa part bank credit union industry abs…",
         "industry": "Computer and Electronics",
         "_deepnote_index_column": 19971
        },
        {
         "employers": "vanwyn",
         "description": "At VanWyn, we are passionately driven to develop and implement meaningful, sustainable, unique solu…",
         "clean_description": "vanwyn passionately drive develop implement meaningful sustainable unique solution client address s…",
         "industry": "Real Estate and Construction",
         "_deepnote_index_column": 19972
        },
        {
         "employers": "hit detection",
         "description": "Hit Detection is a connected entertainment consultancy. Our consultants have worked at and with a v…",
         "clean_description": "hit detection connect entertainment consultancy consultant work variety worldrenowne company instit…",
         "industry": "Non-Profit",
         "_deepnote_index_column": 19973
        },
        {
         "employers": "rmoc city of ottawa",
         "description": "Rmoc, Company in Ottawa, Ontario, 1725 Saint Laurent Boulevard, Ottawa, ON K1G 3V4 – Hours of Opera…",
         "clean_description": "rmoc company ottawa ontario saint laurent boulevard ottawa kg v hour operation customer review rmoc…",
         "industry": "Non-Profit",
         "_deepnote_index_column": 19974
        },
        {
         "employers": "therpoint massage, 2016-04-13",
         "description": "In this review, massage therapy has been shown to have beneficial effects on varying conditions inc…",
         "clean_description": "review massage therapy show beneficial effect vary condition include prenatal depression preterm in…",
         "industry": "Non-Profit",
         "_deepnote_index_column": 19975
        },
        {
         "employers": "financial & consumer affairs authority of saskatchewan (fcaa)",
         "description": "Financial and Consumer Affairs Authority (FCAA) vision is to cultivate an environment in which ever…",
         "clean_description": "financial consumer affair authority fcaa vision cultivate environment everyone saskatchewan confide…",
         "industry": "Agriculture and Mining",
         "_deepnote_index_column": 19976
        },
        {
         "employers": "columbia association",
         "description": "Columbia Association (CA) is a nonprofit community services corporation that manages Columbia, MD, …",
         "clean_description": "columbia association ca nonprofit community service corporation manage columbia md home approximate…",
         "industry": "Non-Profit",
         "_deepnote_index_column": 19977
        },
        {
         "employers": "john muir physician network",
         "description": "John Muir Health Find A Doctor match for: John Muir Health Physician Network. Toggle navigation. Pa…",
         "clean_description": "john muir health find doctor match john muir health physician network toggle navigation patient myc…",
         "industry": "Non-Profit",
         "_deepnote_index_column": 19978
        },
        {
         "employers": " lenovo technology (uk) ltd.",
         "description": "Lenovo Technology United Kingdom Limited Redwood 3, Crockford Lane Chineham Business Park Basingsto…",
         "clean_description": "lenovo technology united kingdom limited redwood crockford lane chineham business park basingstoke …",
         "industry": "Consumer Services",
         "_deepnote_index_column": 19979
        },
        {
         "employers": "wissen it inc",
         "description": "Offering services in the areas of setting up Data-Center, IT Infrastructure, End User support and a…",
         "clean_description": "offer service area set datacenter infrastructure end user support assist complete onboarding proces…",
         "industry": "Consumer Services",
         "_deepnote_index_column": 19980
        },
        {
         "employers": "ahaclas realty llc",
         "description": "Ahaclas Realty LLC. 2472 North 770 West. Clearfield, UT (801) 725-8518. Categorized under Real Esta…",
         "clean_description": "ahaclas realty llc north west clearfield ut categorize real estate buyer representative lenorok rea…",
         "industry": "Health, Pharma, and Biotech",
         "_deepnote_index_column": 19981
        },
        {
         "employers": "crown wealth strategies ~",
         "description": "Crown Wealth Strategies provides quality financial strategies, focusing on wealth planning strategi…",
         "clean_description": "crown wealth strategy provide quality financial strategy focus wealth planning strategy professiona…",
         "industry": "Computer and Electronics",
         "_deepnote_index_column": 19982
        },
        {
         "employers": "other - cumming corporation",
         "description": "Cumming is an international project management and cost consulting company that delivers creative, …",
         "clean_description": "cumme international project management cost consulting company deliver creative customized solution…",
         "industry": "Financial Services",
         "_deepnote_index_column": 19983
        },
        {
         "employers": "cruise",
         "description": "Cruise.com offers cruises on all cruise lines, including Carnival Cruises, Celebrity Cruises, Princ…",
         "clean_description": "cruisecom offer cruise cruise line include carnival cruise celebrity cruise princess cruise host ot…",
         "industry": "Non-Profit",
         "_deepnote_index_column": 19984
        },
        {
         "employers": "verite films",
         "description": "VÉRITÉ FILMS INC • 15 Beaufort Road • Toronto, ON • M4E 1M6 T. 416.693.8245 • F.416.693.8252 ... Ty…",
         "clean_description": "verite films inc beaufort road toronto f type least character search home contact journal work home…",
         "industry": "Non-Profit",
         "_deepnote_index_column": 19985
        },
        {
         "employers": "roche singapore pte ltd",
         "description": "The Roche Group, including Genentech and Chugai, has brought many highly effective drugs onto the m…",
         "clean_description": "roche group include genentech chugai bring many highly effective drug onto market world leader inno…",
         "industry": "Health, Pharma, and Biotech",
         "_deepnote_index_column": 19986
        },
        {
         "employers": "behr-hella thermocontrol gmbh",
         "description": "Behr-Hella Thermocontrol GmbH (BHTC) is one of the world's leading companies in the field of climat…",
         "clean_description": "behrhella thermocontrol gmbh bhtc one world lead company field climate control thermal management a…",
         "industry": "Agriculture and Mining",
         "_deepnote_index_column": 19987
        },
        {
         "employers": "intercos spa",
         "description": "INTERCOS EUROPE S.p.A. Via Marconi, 84 20864 Agrate Brianza – MB ITALY TEL. +39 039 65521 FAX. +39 …",
         "clean_description": "intercos europe spa via marconi agrate brianza mb italy tel fax view map intercos europe spa dovera…",
         "industry": "Agriculture and Mining",
         "_deepnote_index_column": 19988
        },
        {
         "employers": "ermanno scervino",
         "description": "Le calzature Ermanno Scervino. L’impeccabile attenzione ai dettagli, i materiali ricercati e lussuo…",
         "clean_description": "le calzature ermanno scervino limpeccabile attenzione ai dettagli materiali ricercati e lussuosi e …",
         "industry": "Non-Profit",
         "_deepnote_index_column": 19989
        },
        {
         "employers": "logitech",
         "description": "Logitech is the first consumer electronics company to label its products with the amount of climate…",
         "clean_description": "logitech first consumer electronic company label product amount climatewarme carbon use create make…",
         "industry": "Health, Pharma, and Biotech",
         "_deepnote_index_column": 19990
        },
        {
         "employers": "accretive pas",
         "description": "The Care Management Industry Directory is the database dedicated to case managers, helping them fin…",
         "clean_description": "care management industry directory database dedicate case manager help find product service need ac…",
         "industry": "Agriculture and Mining",
         "_deepnote_index_column": 19991
        },
        {
         "employers": "f&c asset management plc",
         "description": "F&C Asset Management Plc was an international asset management company. It was acquired by BMO Glob…",
         "clean_description": "fc asset management plc international asset management company acquire bmo global asset management …",
         "industry": "Computer and Electronics",
         "_deepnote_index_column": 19992
        },
        {
         "employers": "the gap, inc.",
         "description": "HP Printer Case Printer Production HP invested $25,000,000 in “Eclipse,” a new system for automated…",
         "clean_description": "hp printer case printer production hp invest eclipse new system automate assembly print engine nort…",
         "industry": "Agriculture and Mining",
         "_deepnote_index_column": 19993
        },
        {
         "employers": "orient overseas container line limited",
         "description": "OOCL Logistics and OOCL announced the launch of a brand-new multi-modal container service from Chin…",
         "clean_description": "oocl logistic oocl announce launch brandnew multimodal container service china us east coast press …",
         "industry": "Computer and Electronics",
         "_deepnote_index_column": 19994
        },
        {
         "employers": "comprehensive surgical center of green",
         "description": "The current location address for Comprehensive Surgical Center Of Green, Llc is 1560 Corporate Wood…",
         "clean_description": "current location address comprehensive surgical center green llc corporate wood pkwy uniontown ohio…",
         "industry": "Non-Profit",
         "_deepnote_index_column": 19995
        },
        {
         "employers": "chlopak, leonard, schechter",
         "description": "Chlopak Leonard & Schechter Associates. 1850 M St Nw, Washington, DC 20036. Industry: Public Relati…",
         "clean_description": "chlopak leonard schechter associates st nw washington dc industry public relation agency business c…",
         "industry": "Manufacturing",
         "_deepnote_index_column": 19996
        },
        {
         "employers": "optimedia",
         "description": "Optimedia is a comprehensive storage system designed to accommodate conventional filing and advance…",
         "clean_description": "optimedia comprehensive storage system design accommodate conventional file advanced multimedia sto…",
         "industry": "Financial Services",
         "_deepnote_index_column": 19997
        },
        {
         "employers": "genta, inc.",
         "description": "Genta Incorporated was a biopharmaceutical company started in La Jolla, California, which discovere…",
         "clean_description": "genta incorporate biopharmaceutical company start la jolla california discover develop innovative d…",
         "industry": "Computer and Electronics",
         "_deepnote_index_column": 19998
        },
        {
         "employers": "hilton worldwide",
         "description": "Signia by Hilton. Signia by Hilton is a new portfolio of premier hotels in highly sought-after urba…",
         "clean_description": "signia hilton signia hilton new portfolio premier hotel highly soughtafter urban resort destination…",
         "industry": "Agriculture and Mining",
         "_deepnote_index_column": 19999
        },
        {
         "employers": "Financial Services",
         "description": "Financial services are the economic services provided by the finance industry, which encompasses a …",
         "clean_description": "financial service economic service provide finance industry encompass broad range business manage m…",
         "industry": "Financial Services",
         "_deepnote_index_column": 20000
        },
        {
         "employers": "Agriculture and Mining",
         "description": "Agriculture and Mining. IntelliScience provides flexible, high-fidelity, real-time, touch-free meas…",
         "clean_description": "agriculture mining intelliscience provide flexible highfidelity realtime touchfree measurement solu…",
         "industry": "Agriculture and Mining",
         "_deepnote_index_column": 20001
        },
        {
         "employers": "Business Services",
         "description": "Services used by the business enterprises in conducting the activities of the business. Example: Ba…",
         "clean_description": "service use business enterprise conduct activity business example banking insurance warehousing com…",
         "industry": "Business Services",
         "_deepnote_index_column": 20002
        },
        {
         "employers": "Computer and Electronics",
         "description": "Consumer Electronics Computers & Computer Equipment-Service & Repair Computer & Equipment Dealers (…",
         "clean_description": "consumer electronic computer computer equipmentservice repair computer equipment dealer year busine…",
         "industry": "Computer and Electronics",
         "_deepnote_index_column": 20003
        },
        {
         "employers": "Energy and Utilities",
         "description": "The future of energy, environment and utilities. In today’s changing energy landscape, business lea…",
         "clean_description": "future energy environment utility today change energy landscape business leader recognize sustainab…",
         "industry": "Energy and Utilities",
         "_deepnote_index_column": 20004
        },
        {
         "employers": "Government",
         "description": "Find government information on energy, green technology, pollution, wildlife, and more. Find govern…",
         "clean_description": "find government information energy green technology pollution wildlife find government information …",
         "industry": "Government",
         "_deepnote_index_column": 20005
        },
        {
         "employers": "Real Estate and Construction",
         "description": "Real Estate Development, Construction, and Management. MGMT X 477.12. This course identifies the st…",
         "clean_description": "real estate development construction management mgmt x course identify step require conceive execut…",
         "industry": "Real Estate and Construction",
         "_deepnote_index_column": 20006
        },
        {
         "employers": "Non-Profit",
         "description": "What is a \"Nonprofit\"? Printer-friendly version. Charitable nonprofits embody the best of America. …",
         "clean_description": "nonprofit printerfriendly version charitable nonprofit embody good america provide way people work …",
         "industry": "Non-Profit",
         "_deepnote_index_column": 20007
        },
        {
         "employers": "Manufacturing",
         "description": "Manufacturing is the production of goods through the use of labor, machines, tools, and chemical or…",
         "clean_description": "manufacture production good use labor machine tool chemical biological processing formulationit ess…",
         "industry": "Manufacturing",
         "_deepnote_index_column": 20008
        },
        {
         "employers": "Education",
         "description": "Education.com has multiple resources organized for any learning tool you might need as a teacher, p…",
         "clean_description": "educationcom multiple resource organize learn tool might need teacher parent student love ability a…",
         "industry": "Education",
         "_deepnote_index_column": 20009
        },
        {
         "employers": "Media and Entertainment",
         "description": "Microsoft empowers media, entertainment, and telecommunications organizations to achieve more with …",
         "clean_description": "microsoft empower medium entertainment telecommunication organization achieve trust secure platform…",
         "industry": "Media and Entertainment",
         "_deepnote_index_column": 20010
        },
        {
         "employers": "Consumer Services",
         "description": "Consumer services are services that are sold to individuals. Services are goods that derive much of…",
         "clean_description": "consumer service service sell individual service good derive much value intangible element ca nt to…",
         "industry": "Consumer Services",
         "_deepnote_index_column": 20011
        },
        {
         "employers": "Health, Pharma, and Biotech",
         "description": "Health, Pharma & Biotechnology. Change Region. North America South America EMEA Asia Pacific. At Im…",
         "clean_description": "health pharma biotechnology change region north america south america emea asia pacific imerys draw…",
         "industry": "Health, Pharma, and Biotech",
         "_deepnote_index_column": 20012
        }
       ]
      },
      "text/plain": "                             employers  \\\n0                          magic touch   \n1      indus valley partners pvt. ltd.   \n2                      mather hospital   \n3            macarena tapas restaurant   \n4        ashland specialty ingredients   \n...                                ...   \n20008                    Manufacturing   \n20009                        Education   \n20010          Media and Entertainment   \n20011                Consumer Services   \n20012      Health, Pharma, and Biotech   \n\n                                             description  \\\n0      Magic Touch USA has partnered with clicklease ...   \n1      Indus Valley Partners (India) Pvt. Ltd. Unit N...   \n2      Home - Mather Hospital Find a doctor Patient p...   \n3      The First Tapas Bar in Colombia - Tapas Macare...   \n4      Ashland specialty chemicals is driven by its v...   \n...                                                  ...   \n20008  Manufacturing is the production of goods throu...   \n20009  Education.com has multiple resources organized...   \n20010  Microsoft empowers media, entertainment, and t...   \n20011  Consumer services are services that are sold t...   \n20012  Health, Pharma & Biotechnology. Change Region....   \n\n                                       clean_description  \\\n0      magic touch usa partner clicklease provide bus...   \n1      indus valley partners india pvt ltd unit sdfv ...   \n2      home mather hospital find doctor patient porta...   \n3      first tapas bar colombia tapas macarena opport...   \n4      ashland specialty chemical drive vision make w...   \n...                                                  ...   \n20008  manufacture production good use labor machine ...   \n20009  educationcom multiple resource organize learn ...   \n20010  microsoft empower medium entertainment telecom...   \n20011  consumer service service sell individual servi...   \n20012  health pharma biotechnology change region nort...   \n\n                          industry  \n0                       Non-Profit  \n1         Computer and Electronics  \n2                       Non-Profit  \n3                       Non-Profit  \n4      Health, Pharma, and Biotech  \n...                            ...  \n20008                Manufacturing  \n20009                    Education  \n20010      Media and Entertainment  \n20011            Consumer Services  \n20012  Health, Pharma, and Biotech  \n\n[20013 rows x 4 columns]",
      "text/html": "<div>\n<style scoped>\n    .dataframe tbody tr th:only-of-type {\n        vertical-align: middle;\n    }\n\n    .dataframe tbody tr th {\n        vertical-align: top;\n    }\n\n    .dataframe thead th {\n        text-align: right;\n    }\n</style>\n<table border=\"1\" class=\"dataframe\">\n  <thead>\n    <tr style=\"text-align: right;\">\n      <th></th>\n      <th>employers</th>\n      <th>description</th>\n      <th>clean_description</th>\n      <th>industry</th>\n    </tr>\n  </thead>\n  <tbody>\n    <tr>\n      <th>0</th>\n      <td>magic touch</td>\n      <td>Magic Touch USA has partnered with clicklease ...</td>\n      <td>magic touch usa partner clicklease provide bus...</td>\n      <td>Non-Profit</td>\n    </tr>\n    <tr>\n      <th>1</th>\n      <td>indus valley partners pvt. ltd.</td>\n      <td>Indus Valley Partners (India) Pvt. Ltd. Unit N...</td>\n      <td>indus valley partners india pvt ltd unit sdfv ...</td>\n      <td>Computer and Electronics</td>\n    </tr>\n    <tr>\n      <th>2</th>\n      <td>mather hospital</td>\n      <td>Home - Mather Hospital Find a doctor Patient p...</td>\n      <td>home mather hospital find doctor patient porta...</td>\n      <td>Non-Profit</td>\n    </tr>\n    <tr>\n      <th>3</th>\n      <td>macarena tapas restaurant</td>\n      <td>The First Tapas Bar in Colombia - Tapas Macare...</td>\n      <td>first tapas bar colombia tapas macarena opport...</td>\n      <td>Non-Profit</td>\n    </tr>\n    <tr>\n      <th>4</th>\n      <td>ashland specialty ingredients</td>\n      <td>Ashland specialty chemicals is driven by its v...</td>\n      <td>ashland specialty chemical drive vision make w...</td>\n      <td>Health, Pharma, and Biotech</td>\n    </tr>\n    <tr>\n      <th>...</th>\n      <td>...</td>\n      <td>...</td>\n      <td>...</td>\n      <td>...</td>\n    </tr>\n    <tr>\n      <th>20008</th>\n      <td>Manufacturing</td>\n      <td>Manufacturing is the production of goods throu...</td>\n      <td>manufacture production good use labor machine ...</td>\n      <td>Manufacturing</td>\n    </tr>\n    <tr>\n      <th>20009</th>\n      <td>Education</td>\n      <td>Education.com has multiple resources organized...</td>\n      <td>educationcom multiple resource organize learn ...</td>\n      <td>Education</td>\n    </tr>\n    <tr>\n      <th>20010</th>\n      <td>Media and Entertainment</td>\n      <td>Microsoft empowers media, entertainment, and t...</td>\n      <td>microsoft empower medium entertainment telecom...</td>\n      <td>Media and Entertainment</td>\n    </tr>\n    <tr>\n      <th>20011</th>\n      <td>Consumer Services</td>\n      <td>Consumer services are services that are sold t...</td>\n      <td>consumer service service sell individual servi...</td>\n      <td>Consumer Services</td>\n    </tr>\n    <tr>\n      <th>20012</th>\n      <td>Health, Pharma, and Biotech</td>\n      <td>Health, Pharma &amp; Biotechnology. Change Region....</td>\n      <td>health pharma biotechnology change region nort...</td>\n      <td>Health, Pharma, and Biotech</td>\n    </tr>\n  </tbody>\n</table>\n<p>20013 rows × 4 columns</p>\n</div>"
     },
     "metadata": {}
    }
   ],
   "execution_count": null
  },
  {
   "cell_type": "code",
   "source": "",
   "metadata": {
    "tags": [],
    "cell_id": "00014-3a7ae7c1-5d04-47a6-9dcc-d4bc1c9b6c47",
    "deepnote_cell_type": "code"
   },
   "outputs": [],
   "execution_count": null
  },
  {
   "cell_type": "markdown",
   "source": "<a style='text-decoration:none;line-height:16px;display:flex;color:#5B5B62;padding:10px;justify-content:end;' href='https://deepnote.com?utm_source=created-in-deepnote-cell&projectId=0f8c70f2-5291-4247-be8a-0c0d763ed56d' target=\"_blank\">\n<img alt='Created in deepnote.com' style='display:inline;max-height:16px;margin:0px;margin-right:7.5px;' src='data:image/svg+xml;base64,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' > </img>\nCreated in <span style='font-weight:600;margin-left:4px;'>Deepnote</span></a>",
   "metadata": {
    "tags": [],
    "created_in_deepnote_cell": true,
    "deepnote_cell_type": "markdown"
   }
  }
 ],
 "nbformat": 4,
 "nbformat_minor": 2,
 "metadata": {
  "orig_nbformat": 2,
  "deepnote": {
   "is_reactive": false
  },
  "deepnote_notebook_id": "9bf901ed-d1cc-4731-a2a8-0cc0a0dfa82b",
  "deepnote_execution_queue": []
 }
}