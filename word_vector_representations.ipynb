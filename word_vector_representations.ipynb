{
 "cells": [
  {
   "cell_type": "code",
   "metadata": {
    "tags": [],
    "cell_id": "00000-67a60130-5d61-49f5-aba0-f77c65da9b2b",
    "deepnote_to_be_reexecuted": false,
    "source_hash": "c2f4e21",
    "execution_start": 1636050518622,
    "execution_millis": 0,
    "deepnote_cell_type": "code"
   },
   "source": "import pandas as pd\nimport numpy as np\nfrom sklearn.feature_extraction.text import TfidfVectorizer\nimport spacy\nimport nltk",
   "execution_count": 7,
   "outputs": []
  },
  {
   "cell_type": "code",
   "metadata": {
    "tags": [],
    "cell_id": "00001-69315346-e5c1-4c0d-bcf1-c659553a5e11",
    "deepnote_to_be_reexecuted": false,
    "source_hash": "7cc2298b",
    "execution_start": 1636050519552,
    "execution_millis": 1840,
    "deepnote_cell_type": "code"
   },
   "source": "!python -m nltk.downloader stopwords >> /dev/null",
   "execution_count": 8,
   "outputs": [
    {
     "name": "stdout",
     "text": "/usr/local/lib/python3.7/runpy.py:125: RuntimeWarning: 'nltk.downloader' found in sys.modules after import of package 'nltk', but prior to execution of 'nltk.downloader'; this may result in unpredictable behaviour\r\n  warn(RuntimeWarning(msg))\r\n[nltk_data] Downloading package stopwords to /root/nltk_data...\r\n[nltk_data]   Package stopwords is already up-to-date!\r\n",
     "output_type": "stream"
    }
   ]
  },
  {
   "cell_type": "code",
   "metadata": {
    "tags": [],
    "cell_id": "00002-dd37063b-3ef1-43bb-b738-33455c59613a",
    "deepnote_to_be_reexecuted": false,
    "source_hash": "e8bd7f76",
    "execution_start": 1636050521396,
    "execution_millis": 9904,
    "deepnote_cell_type": "code"
   },
   "source": "!python -m spacy download en_core_web_md",
   "execution_count": 9,
   "outputs": [
    {
     "name": "stdout",
     "text": "2021-11-04 18:28:44.139306: W tensorflow/stream_executor/platform/default/dso_loader.cc:60] Could not load dynamic library 'libcudart.so.11.0'; dlerror: libcudart.so.11.0: cannot open shared object file: No such file or directory\n2021-11-04 18:28:44.139343: I tensorflow/stream_executor/cuda/cudart_stub.cc:29] Ignore above cudart dlerror if you do not have a GPU set up on your machine.\nCollecting en-core-web-md==3.1.0\n  Downloading https://github.com/explosion/spacy-models/releases/download/en_core_web_md-3.1.0/en_core_web_md-3.1.0-py3-none-any.whl (45.4 MB)\n\u001b[K     |████████████████████████████████| 45.4 MB 41.8 MB/s \n\u001b[?25hRequirement already satisfied: spacy<3.2.0,>=3.1.0 in /shared-libs/python3.7/py/lib/python3.7/site-packages (from en-core-web-md==3.1.0) (3.1.3)\nRequirement already satisfied: murmurhash<1.1.0,>=0.28.0 in /shared-libs/python3.7/py/lib/python3.7/site-packages (from spacy<3.2.0,>=3.1.0->en-core-web-md==3.1.0) (1.0.5)\nRequirement already satisfied: blis<0.8.0,>=0.4.0 in /shared-libs/python3.7/py/lib/python3.7/site-packages (from spacy<3.2.0,>=3.1.0->en-core-web-md==3.1.0) (0.7.4)\nRequirement already satisfied: typing-extensions<4.0.0.0,>=3.7.4 in /shared-libs/python3.7/py-core/lib/python3.7/site-packages (from spacy<3.2.0,>=3.1.0->en-core-web-md==3.1.0) (3.10.0.2)\nRequirement already satisfied: spacy-legacy<3.1.0,>=3.0.8 in /shared-libs/python3.7/py/lib/python3.7/site-packages (from spacy<3.2.0,>=3.1.0->en-core-web-md==3.1.0) (3.0.8)\nRequirement already satisfied: requests<3.0.0,>=2.13.0 in /shared-libs/python3.7/py/lib/python3.7/site-packages (from spacy<3.2.0,>=3.1.0->en-core-web-md==3.1.0) (2.26.0)\nRequirement already satisfied: numpy>=1.15.0 in /shared-libs/python3.7/py/lib/python3.7/site-packages (from spacy<3.2.0,>=3.1.0->en-core-web-md==3.1.0) (1.19.5)\nRequirement already satisfied: tqdm<5.0.0,>=4.38.0 in /shared-libs/python3.7/py/lib/python3.7/site-packages (from spacy<3.2.0,>=3.1.0->en-core-web-md==3.1.0) (4.62.3)\nRequirement already satisfied: preshed<3.1.0,>=3.0.2 in /shared-libs/python3.7/py/lib/python3.7/site-packages (from spacy<3.2.0,>=3.1.0->en-core-web-md==3.1.0) (3.0.5)\nRequirement already satisfied: pathy>=0.3.5 in /shared-libs/python3.7/py/lib/python3.7/site-packages (from spacy<3.2.0,>=3.1.0->en-core-web-md==3.1.0) (0.6.0)\nRequirement already satisfied: jinja2 in /shared-libs/python3.7/py-core/lib/python3.7/site-packages (from spacy<3.2.0,>=3.1.0->en-core-web-md==3.1.0) (3.0.2)\nRequirement already satisfied: packaging>=20.0 in /shared-libs/python3.7/py-core/lib/python3.7/site-packages (from spacy<3.2.0,>=3.1.0->en-core-web-md==3.1.0) (21.0)\nRequirement already satisfied: typer<0.5.0,>=0.3.0 in /shared-libs/python3.7/py/lib/python3.7/site-packages (from spacy<3.2.0,>=3.1.0->en-core-web-md==3.1.0) (0.4.0)\nRequirement already satisfied: catalogue<2.1.0,>=2.0.6 in /shared-libs/python3.7/py/lib/python3.7/site-packages (from spacy<3.2.0,>=3.1.0->en-core-web-md==3.1.0) (2.0.6)\nRequirement already satisfied: cymem<2.1.0,>=2.0.2 in /shared-libs/python3.7/py/lib/python3.7/site-packages (from spacy<3.2.0,>=3.1.0->en-core-web-md==3.1.0) (2.0.5)\nRequirement already satisfied: srsly<3.0.0,>=2.4.1 in /shared-libs/python3.7/py/lib/python3.7/site-packages (from spacy<3.2.0,>=3.1.0->en-core-web-md==3.1.0) (2.4.1)\nRequirement already satisfied: setuptools in /root/venv/lib/python3.7/site-packages (from spacy<3.2.0,>=3.1.0->en-core-web-md==3.1.0) (58.1.0)\nRequirement already satisfied: pydantic!=1.8,!=1.8.1,<1.9.0,>=1.7.4 in /shared-libs/python3.7/py/lib/python3.7/site-packages (from spacy<3.2.0,>=3.1.0->en-core-web-md==3.1.0) (1.8.2)\nRequirement already satisfied: wasabi<1.1.0,>=0.8.1 in /shared-libs/python3.7/py/lib/python3.7/site-packages (from spacy<3.2.0,>=3.1.0->en-core-web-md==3.1.0) (0.8.2)\nRequirement already satisfied: thinc<8.1.0,>=8.0.9 in /shared-libs/python3.7/py/lib/python3.7/site-packages (from spacy<3.2.0,>=3.1.0->en-core-web-md==3.1.0) (8.0.10)\nRequirement already satisfied: zipp>=0.5 in /shared-libs/python3.7/py-core/lib/python3.7/site-packages (from catalogue<2.1.0,>=2.0.6->spacy<3.2.0,>=3.1.0->en-core-web-md==3.1.0) (3.6.0)\nRequirement already satisfied: pyparsing>=2.0.2 in /shared-libs/python3.7/py-core/lib/python3.7/site-packages (from packaging>=20.0->spacy<3.2.0,>=3.1.0->en-core-web-md==3.1.0) (2.4.7)\nRequirement already satisfied: smart-open<6.0.0,>=5.0.0 in /shared-libs/python3.7/py/lib/python3.7/site-packages (from pathy>=0.3.5->spacy<3.2.0,>=3.1.0->en-core-web-md==3.1.0) (5.2.1)\nRequirement already satisfied: charset-normalizer~=2.0.0 in /shared-libs/python3.7/py/lib/python3.7/site-packages (from requests<3.0.0,>=2.13.0->spacy<3.2.0,>=3.1.0->en-core-web-md==3.1.0) (2.0.7)\nRequirement already satisfied: certifi>=2017.4.17 in /shared-libs/python3.7/py/lib/python3.7/site-packages (from requests<3.0.0,>=2.13.0->spacy<3.2.0,>=3.1.0->en-core-web-md==3.1.0) (2021.10.8)\nRequirement already satisfied: idna<4,>=2.5 in /shared-libs/python3.7/py-core/lib/python3.7/site-packages (from requests<3.0.0,>=2.13.0->spacy<3.2.0,>=3.1.0->en-core-web-md==3.1.0) (3.3)\nRequirement already satisfied: urllib3<1.27,>=1.21.1 in /shared-libs/python3.7/py/lib/python3.7/site-packages (from requests<3.0.0,>=2.13.0->spacy<3.2.0,>=3.1.0->en-core-web-md==3.1.0) (1.26.7)\nRequirement already satisfied: click<9.0.0,>=7.1.1 in /shared-libs/python3.7/py/lib/python3.7/site-packages (from typer<0.5.0,>=0.3.0->spacy<3.2.0,>=3.1.0->en-core-web-md==3.1.0) (8.0.3)\nRequirement already satisfied: importlib-metadata in /shared-libs/python3.7/py-core/lib/python3.7/site-packages (from click<9.0.0,>=7.1.1->typer<0.5.0,>=0.3.0->spacy<3.2.0,>=3.1.0->en-core-web-md==3.1.0) (4.8.1)\nRequirement already satisfied: MarkupSafe>=2.0 in /shared-libs/python3.7/py-core/lib/python3.7/site-packages (from jinja2->spacy<3.2.0,>=3.1.0->en-core-web-md==3.1.0) (2.0.1)\n\u001b[33mWARNING: You are using pip version 21.2.4; however, version 21.3.1 is available.\nYou should consider upgrading via the '/root/venv/bin/python -m pip install --upgrade pip' command.\u001b[0m\n\u001b[38;5;2m✔ Download and installation successful\u001b[0m\nYou can now load the package via spacy.load('en_core_web_md')\n",
     "output_type": "stream"
    }
   ]
  },
  {
   "cell_type": "code",
   "metadata": {
    "tags": [],
    "cell_id": "00002-9aceb34e-b764-49fe-bf8f-43d43cda7c02",
    "deepnote_to_be_reexecuted": false,
    "source_hash": "bf9f8c00",
    "execution_start": 1636050531305,
    "execution_millis": 5,
    "deepnote_cell_type": "code"
   },
   "source": "STOP_WORDS = nltk.corpus.stopwords.words(\"english\")",
   "execution_count": 10,
   "outputs": []
  },
  {
   "cell_type": "code",
   "metadata": {
    "tags": [],
    "cell_id": "00003-37ff820a-f738-4fa1-9ee7-8c111803492f",
    "deepnote_to_be_reexecuted": false,
    "source_hash": "d1613a52",
    "execution_start": 1636050535329,
    "execution_millis": 2753,
    "deepnote_cell_type": "code"
   },
   "source": "# loading in data\ndf = pd.read_csv('employer_raw_data_group_1.csv')\ndf2 = pd.read_csv('industry_data.csv')",
   "execution_count": 11,
   "outputs": []
  },
  {
   "cell_type": "code",
   "metadata": {
    "tags": [],
    "cell_id": "00005-bb5522b3-c069-4c6f-90db-c1df498ff413",
    "deepnote_to_be_reexecuted": false,
    "source_hash": "930f4960",
    "execution_start": 1636050547149,
    "execution_millis": 354,
    "deepnote_cell_type": "code"
   },
   "source": "labels = df2['industry'].values\nindustry_data = df2['clean_description'].values.astype(str)\n\ncorpus = df['clean_description'].values.astype(str)",
   "execution_count": 12,
   "outputs": []
  },
  {
   "cell_type": "code",
   "metadata": {
    "tags": [],
    "cell_id": "00006-501778bb-1b53-4ff7-affa-315f78fb5892",
    "deepnote_to_be_reexecuted": false,
    "source_hash": "a6038f0a",
    "execution_start": 1636050552174,
    "execution_millis": 1612,
    "deepnote_cell_type": "code"
   },
   "source": "# spacy model for word embeddings\nmodel = spacy.load('en_core_web_md', disable=['parser', 'ner'])",
   "execution_count": 13,
   "outputs": []
  },
  {
   "cell_type": "code",
   "metadata": {
    "tags": [],
    "cell_id": "00007-e8f2c68c-33df-4f38-b32c-ea104b5679d7",
    "deepnote_to_be_reexecuted": false,
    "source_hash": "dc19e45e",
    "execution_start": 1636050702083,
    "execution_millis": 1,
    "deepnote_cell_type": "code"
   },
   "source": "# had to play around with these to get satisfactory results\nMIN_DF = 2 # gives the lower bound for which a word has to appear in the corpus, this case a word has to be in atleast 2 documents\nMAX_DF = 0.4 # give upper bound for which a word appears in a the corpus, this case if a word appears in 40% of documents, ignore it\n\nvec = TfidfVectorizer(\n    preprocessor=lambda s: s,\n    tokenizer=lambda s: s.split(),\n    stop_words=STOP_WORDS,\n    min_df=MIN_DF,\n    max_df=MAX_DF,\n    use_idf=True,\n    smooth_idf=True\n)",
   "execution_count": 15,
   "outputs": []
  },
  {
   "cell_type": "code",
   "metadata": {
    "tags": [],
    "cell_id": "00008-1a99b690-c377-4d38-9934-b2adf15fc554",
    "deepnote_to_be_reexecuted": false,
    "source_hash": "50767a0e",
    "execution_start": 1636050703601,
    "execution_millis": 11063,
    "deepnote_cell_type": "code"
   },
   "source": "# fitting and transforming employer data into vectors using TFIDF vectorizer\nraw_vec = vec.fit(corpus)\nraw_vectors = raw_vec.transform(corpus)",
   "execution_count": 16,
   "outputs": [
    {
     "name": "stderr",
     "text": "/shared-libs/python3.7/py/lib/python3.7/site-packages/sklearn/feature_extraction/text.py:517: UserWarning: The parameter 'token_pattern' will not be used since 'tokenizer' is not None'\n  \"The parameter 'token_pattern' will not be used\"\n/shared-libs/python3.7/py/lib/python3.7/site-packages/sklearn/feature_extraction/text.py:1209: UserWarning: Upper case characters found in vocabulary while 'lowercase' is True. These entries will not be matched with any documents\n  \"Upper case characters found in\"\n",
     "output_type": "stream"
    }
   ]
  },
  {
   "cell_type": "code",
   "metadata": {
    "tags": [],
    "cell_id": "00009-a3a36776-e89b-4968-a141-411df9675180",
    "deepnote_to_be_reexecuted": false,
    "source_hash": "8ca672f2",
    "execution_start": 1636050734217,
    "execution_millis": 0,
    "deepnote_cell_type": "code"
   },
   "source": "# the number of top relavant words we want in each employer description\n# also played around with this number to get better results\ntop_n = 50",
   "execution_count": 17,
   "outputs": []
  },
  {
   "cell_type": "code",
   "metadata": {
    "tags": [],
    "cell_id": "00009-f2fc0d7e-ecef-4396-b5b5-500cdc921121",
    "deepnote_to_be_reexecuted": false,
    "source_hash": "914ff68b",
    "execution_start": 1636050737486,
    "execution_millis": 50451,
    "deepnote_cell_type": "code"
   },
   "source": "# the vocabulary of employers description\nraw_words = np.array(raw_vec.get_feature_names())\n\n# stores the top 'top_n' number of words of each description\nraw_res = []\nfor i in range(raw_vectors.shape[0]):\n    # Will get the words that are in the TFIDF which have the higher score\n    # We use -vectors because the order is ascending\n    s = np.argsort(np.asarray(-raw_vectors[i, :].todense()).flatten())\n    raw_res.append(\" \".join(raw_words[s[:top_n]]))",
   "execution_count": 18,
   "outputs": [
    {
     "name": "stderr",
     "text": "/shared-libs/python3.7/py/lib/python3.7/site-packages/sklearn/utils/deprecation.py:87: FutureWarning: Function get_feature_names is deprecated; get_feature_names is deprecated in 1.0 and will be removed in 1.2. Please use get_feature_names_out instead.\n  warnings.warn(msg, category=FutureWarning)\n",
     "output_type": "stream"
    }
   ]
  },
  {
   "cell_type": "code",
   "metadata": {
    "tags": [],
    "cell_id": "00010-68576cb6-6778-410b-8b41-6d5305c547b5",
    "deepnote_to_be_reexecuted": false,
    "source_hash": "4eb9899c",
    "execution_start": 1636050803589,
    "execution_millis": 8,
    "is_output_hidden": false,
    "deepnote_cell_type": "code"
   },
   "source": "raw_res[:10] # needs better cleaning method, still see some random words that TFIDF thinks are relevant",
   "execution_count": 19,
   "outputs": [
    {
     "output_type": "execute_result",
     "execution_count": 19,
     "data": {
      "text/plain": "['magic touch shade massage carpet wash repair body parlor collision cst camper auto colour equipment transfer clean image portland rubmap monthursday beating hwy smithville tapestrie blinds misprint incense mandan swindon typo tulare honeycomb shading allow since erotic monthly bastrop goshen paper lagrange workwear gift visalia personalised systematically embroidery print lewisville',\n 'indus valley indu partners pvt india ltd noida partner buyside supermarkets uttar phase pradesh york rs mumbai datum brief ivp aima linksv gurvinder portola naukri ceofounder nisha glassdoor creation cgpa sulekhacom andheri oop decide incompatible sez product aptitude present sharma converge reasoning jun inbox donna incorporated payscale edinburgh technology singh',\n 'mather hospital jefferson portland regence nurse doctor port ny health oregon bsn david patient ca photo john physician bordonaro cmio soward pergamits tanika rn sayville cmsrn teaching memorial open ccu profile gme northwell bed medical folsom telemetry register metropolitan dermatologist manger medicalsurgical way linkedin ida informatic emanuel care directions transitional',\n 'tapas naperville tapa spanish restaurant menu font rte chef bar contemporary bogota eatery il por photo john flavor cheese dish la manchego sangrias meson vinoteca combinado seguimos maritza reduccion platos gastronomia paraiso de previa andina route hagan gastronomy fritter reserva premi gastronomic peruvian garza serrano lago columbian daddy illinois debido',\n 'ashland ingredient specialty hopewell xvii gp calvert va bargaining chemical solve polymer formulation food product lay collective benefit size semisynthetic polyurethanebase challenge chemicalswholesale market microbrewery personal solution ether hercules halfcentury ingredients metcalf cellulose security reservation wellness ticket direction polyester plan reviews isp section acrylic agreement layoff stabilize manufacturer lima ash',\n 'berkeley lawrence lab laboratory national energy lbnl scientific research california postdoc nobel internship doe ninth undergraduate appeals university prize court department kie llnl circuit jgi lawrences cyclotron removed kilowatt scientist science nazis plaintiffsappellant overlooks saving facultystudent alamos mixing fermentation blur overturn cci us disperse faculty contaminant blackboard ani summer livermore',\n 'neelkanth pipe abuse igh southall treatment tech meerut india ivf technology croydon mtech delhi rk galway ncr btech poly bca fertility uttar pvc bba helpdesk winnipeg alloy pradesh delete decorative language law lecture west mb solution app institution ulg ngi infonet kirol child normal beaconsfield vidyavihar mba steel patna bureau',\n 'partner shareholder manage managing jbr pc enrique firm weinstine bergeson partnership monteverde hussey raga clausen gbr winthrop cobb heute committee greece virginia monate jahre campbell christopher member consult miller understandings plunkett present partowner buenavista olmos cofounder distributive johnson share mpf consortia cooney acta tease president atria depend dolore hellas executive',\n 'show feedback solution rider sequence seller schedule dressage rama estate real showtime polyurethane stall showing abuse folder child agent animation realtor customizable explorer cd light concrete problem showingtime mlssassociation oddnumbere exercise diego chapter question solve rate thumbnail channel artful truss threeday galway destruction equestrian form alternative mud dropdown response hoyt',\n 'blackboard retiree fayette math login language portal winner school art contest password quarter writer parent hillsboro fayetteville unit young county recognition cdcif homeroom saundra johnson public whittington instructions dornsife sandi video whitewater stonewall teacher student log ead google current michael geometry jobseeker drexel resignation education step renee winchester fraction cindy']"
     },
     "metadata": {}
    }
   ]
  },
  {
   "cell_type": "code",
   "metadata": {
    "tags": [],
    "cell_id": "00012-ad58687b-f7e1-438f-aae3-17f08a03f1c1",
    "deepnote_to_be_reexecuted": false,
    "source_hash": "61fdb327",
    "execution_start": 1636050895219,
    "execution_millis": 76,
    "deepnote_cell_type": "code"
   },
   "source": "# fitting and transforming industry data into vectors using TFIDF vectorizer\nindustry_vec = vec.fit(industry_data)\nindustry_vectors = industry_vec.transform(industry_data)",
   "execution_count": 20,
   "outputs": []
  },
  {
   "cell_type": "code",
   "metadata": {
    "tags": [],
    "cell_id": "00013-b2e92bec-4218-4a4b-91b7-0f0682c67224",
    "deepnote_to_be_reexecuted": false,
    "source_hash": "39c044a4",
    "execution_start": 1636050897152,
    "execution_millis": 21,
    "deepnote_cell_type": "code"
   },
   "source": "# whole vocab for all the industries descriptions\nindustry_words = np.array(industry_vec.get_feature_names())\n\n# stores the top 'top_n' number of words of each description\n\nindustry_res = []\nfor i in range(industry_vectors.shape[0]):\n    # Will get the words that are in the TFIDF which have the higher score\n    # We use -vectors because the order is ascending\n    s = np.argsort(np.asarray(-industry_vectors[i, :].todense()).flatten())\n    industry_res.append(\" \".join(industry_words[s[:top_n]]))",
   "execution_count": 21,
   "outputs": []
  },
  {
   "cell_type": "code",
   "metadata": {
    "tags": [],
    "cell_id": "00014-b66e73fb-6abc-4414-a00f-6b5a24118552",
    "deepnote_to_be_reexecuted": false,
    "source_hash": "df588d74",
    "execution_start": 1636050900419,
    "execution_millis": 0,
    "output_cleared": false,
    "deepnote_cell_type": "code"
   },
   "source": "industry_res # again needs better cleaning techniques, some words are joined together that makes a fake compound word",
   "execution_count": 22,
   "outputs": [
    {
     "output_type": "execute_result",
     "execution_count": 22,
     "data": {
      "text/plain": "['banking credit bank insurance services lease card account institution loan motor real estate aw firm financing payment vary disaster license crisis corporation web infrastructure inc microsoft private natural site cloud right log cooperative perspective cash analyst compliance contractor status frontier advisor union banker strive nearly longterm title mark artificial consultant',\n 'mining agriculture construction forestry west robot study water equipment vehicle often cent contribute land output animal condition virginia crop potential south space motor electric mean per engineer render mineral ore abbreviate man abbreviation steel metal natural food increase category ltd worker estate load real total big billion gas october assistant',\n 'services document shipping small right social assist travel function filing personal intangible box accounting loan internet suite without corporation event represent commercial delivery insurance welcome securely liability partnership submit att note ave officer amazon advisor limited employer responsibility discount processing american name send secretary entrepreneur president blvd supplier dedicate commit',\n 'computer recycling hardware equipment price shop tablet seller manufacturing engineering fast repair degree saving store phone technician shopping amazon processor resident component item electrical save engineer problem welcome popular enjoy beverly shipping smart recycle although sensor surplus hope low selection workstation agriculture st study necessary monitor etc supplier buy electric',\n 'utility gas increase water electricity smart evolve optimize bill efficiency distribution natural supplier scale electric steel adapt quickly efficient model meet oil strategy storage dynamic maintain transformation data infrastructure accord reliable analytic globally disruption southern frontier refine regulator uk pressure rapidly thrive behind intelligent five requirement integration curriculum direct response',\n 'federal official branch agency executive political definition surplus administration auction rule legislative disability pronunciation young military event site tool grant trial compose pollution wage tape cookie draft territory manual english accessible organize authority budget engagement print culture eligibility president crisis citizen etc azure description administer mean collaboration minimum b efficiency',\n 'real estate construction land developer brokerage stage structure acquisition september back customize residential legal firm financing improvement license housing purchase aspect attorney brand strategy available option idea commercial come expertise inc november cash construct agreement east agenda canada effective detailed advice via operator obtain corporate advise know associate decade flow',\n 'nonprofit corporation profit status entity charitable purpose c director income cause foundation legal social notforprofit definition pay corporate organize certain equal filing incorporation earn educational board generate eligibility housing throughout llc know association protection accord often unit institution obligation executive internal officer jersey discount certificate rather duty publication advocate liability',\n 'manufacturing manufacture material raw equipment component machinery machine industrial workforce computer video manufacturer definition scale usa establishment engineer finish output mechanical custom plant cloud inc tool assembly continuous since integrate engineering line move advanced often abbreviation fabrication synonym metal optimize thing manual word technique robot shift iot worker typically degree',\n 'school culture child kind teacher formal apple mind belief progress sense skill college guidance definition delivery subject data ability actionable young amy civilized informal feel possibility charge express google early liquid learning grade method copyright acquire stability classroom faculty poverty love whose kid setting tremendous advertise creativity adult six privacy',\n 'entertainment medium content film television video engagement tn broadcast tool print embrace ever game streamline litigation commercial five radio pressure scale star book accelerate insight reach creation model right realtime blog dispute cagr quickly aw stripe g telecommunication gaming render z partnership maximize curriculum usd financing talent shift communicate launch',\n 'insurance agency protection appropriate debt agriculture respond inquiry florida assist utility assistance license credit services georgia commission street affair file staff unit protect enforce regard additional retirement rule housing regulate amend educate section web environmental marketplace care retail think enforcement intangible etf call ask travel legitimate banker train producer east',\n 'pharmaceutical healthcare medical patient billion percent care supplement section medicine th international operational interest believe hospital ingredient stat scientific national manufacture america brand manufacturer stock overview rate active animal longterm july venture mostly field study profit effective post registration announce amend necessary august launch usd rise big segment street regulatory']"
     },
     "metadata": {}
    }
   ]
  },
  {
   "cell_type": "code",
   "metadata": {
    "tags": [],
    "cell_id": "00015-e6a93b80-f983-4f97-b564-b6e01cf67563",
    "deepnote_to_be_reexecuted": false,
    "source_hash": "ad2702e2",
    "execution_start": 1635997861273,
    "execution_millis": 137976,
    "deepnote_cell_type": "code"
   },
   "source": "# using the spacy word embeddings model, all the top words are converted into word vector representations\nindustry_embeddings = [model(x) for x in industry_res]\nraw_embeddings = [model(x) for x in raw_res]",
   "execution_count": null,
   "outputs": []
  },
  {
   "cell_type": "code",
   "metadata": {
    "tags": [],
    "cell_id": "00016-28cbde9a-0a39-4f29-82d4-d4209940e811",
    "deepnote_to_be_reexecuted": false,
    "source_hash": "bab21b35",
    "execution_start": 1635998021893,
    "execution_millis": 9986,
    "deepnote_cell_type": "code"
   },
   "source": "industry_predict = []\n\n# takes each of the word embeddings in the employers data\nfor i in range(len(raw_embeddings)):\n    temp = []\n    # each employer description word embeddings is compared to the industry description word embeddings\n    for j in range(len(industry_embeddings)):\n        # checks how similar the two word embeddings are\n        temp.append(industry_embeddings[j].similarity(raw_embeddings[i]))\n    # takes the max of the percentage to see which industry the employer is closest to\n    mx = max(temp)\n    # classifies that employer using the labels\n    industry_predict.append(labels[temp.index(mx)])",
   "execution_count": null,
   "outputs": []
  },
  {
   "cell_type": "code",
   "metadata": {
    "tags": [],
    "cell_id": "00017-73551c2f-0231-4ad0-ae18-2e0bdac60464",
    "deepnote_to_be_reexecuted": false,
    "source_hash": "705da7bd",
    "execution_start": 1635998035276,
    "execution_millis": 4,
    "deepnote_cell_type": "code"
   },
   "source": "industry_predict[:10]",
   "execution_count": null,
   "outputs": [
    {
     "output_type": "execute_result",
     "execution_count": 37,
     "data": {
      "text/plain": "['Computer and Electronics',\n 'Business Services',\n 'Business Services',\n 'Agriculture and Mining',\n 'Health, Pharma, and Biotech',\n 'Education',\n 'Agriculture and Mining',\n 'Financial Services',\n 'Media and Entertainment',\n 'Education']"
     },
     "metadata": {}
    }
   ]
  },
  {
   "cell_type": "code",
   "metadata": {
    "tags": [],
    "cell_id": "00018-5e48858b-7628-44e5-8661-a26a05bcff80",
    "deepnote_to_be_reexecuted": false,
    "source_hash": "4bcb7e73",
    "execution_start": 1635998041701,
    "execution_millis": 2,
    "deepnote_cell_type": "code"
   },
   "source": "df['industry'] = industry_predict",
   "execution_count": null,
   "outputs": []
  },
  {
   "cell_type": "code",
   "metadata": {
    "tags": [],
    "cell_id": "00019-e4209393-84fe-4097-90ae-24f76a089822",
    "deepnote_to_be_reexecuted": false,
    "source_hash": "f804c160",
    "execution_start": 1635998044743,
    "execution_millis": 618,
    "deepnote_cell_type": "code"
   },
   "source": "df \n# from a first glance it kind of looks off, but actually it isnt that bad in my opinion\n# for example the mather hospital is classified as a Business Service, we would like it to be classified as Health\n# but it is technically a business service also",
   "execution_count": null,
   "outputs": [
    {
     "output_type": "execute_result",
     "execution_count": 39,
     "data": {
      "application/vnd.deepnote.dataframe.v2+json": {
       "row_count": 20000,
       "column_count": 5,
       "columns": [
        {
         "name": "Unnamed: 0",
         "dtype": "int64",
         "stats": {
          "unique_count": 20000,
          "nan_count": 0,
          "min": "0",
          "max": "19999",
          "histogram": [
           {
            "bin_start": 0,
            "bin_end": 1999.9,
            "count": 2000
           },
           {
            "bin_start": 1999.9,
            "bin_end": 3999.8,
            "count": 2000
           },
           {
            "bin_start": 3999.8,
            "bin_end": 5999.700000000001,
            "count": 2000
           },
           {
            "bin_start": 5999.700000000001,
            "bin_end": 7999.6,
            "count": 2000
           },
           {
            "bin_start": 7999.6,
            "bin_end": 9999.5,
            "count": 2000
           },
           {
            "bin_start": 9999.5,
            "bin_end": 11999.400000000001,
            "count": 2000
           },
           {
            "bin_start": 11999.400000000001,
            "bin_end": 13999.300000000001,
            "count": 2000
           },
           {
            "bin_start": 13999.300000000001,
            "bin_end": 15999.2,
            "count": 2000
           },
           {
            "bin_start": 15999.2,
            "bin_end": 17999.100000000002,
            "count": 2000
           },
           {
            "bin_start": 17999.100000000002,
            "bin_end": 19999,
            "count": 2000
           }
          ]
         }
        },
        {
         "name": "employers",
         "dtype": "object",
         "stats": {
          "unique_count": 19999,
          "nan_count": 1,
          "categories": [
           {
            "name": "magic touch",
            "count": 1
           },
           {
            "name": "19998 others",
            "count": 19998
           },
           {
            "name": "Missing",
            "count": 1
           }
          ]
         }
        },
        {
         "name": "description",
         "dtype": "object",
         "stats": {
          "unique_count": 19991,
          "nan_count": 0,
          "categories": [
           {
            "name": ".",
            "count": 7
           },
           {
            "name": "Best European Restaurants in Portland, Oregon: Find Tripadvisor traveler reviews of Portland European restaurants and search by price, location, and more. COVID update: Otto & Anita's European Restaurant has updated their hours, takeout & delivery options. 242 reviews of Otto & Anita's European Restaurant \"it was quiet on the weekday night that i visited the homey german restaurant. the service was very warm and i felt like one of the family. i got to try a sample of the pickle soup which surprising as it sounds was very tasty. Eat at the best Modern European Restaurants in Portland, OR. Read local reviews, browse local photos, & discover where to eat the best food. Your search for the right Modern European Restaurants ends here. Know, then go—and never miss a thing near you - Swiss Hibiscus, NORMANDIE, Bosnia Restaurant, Grandpa's Cafe, Küchenhaus, Lovely Rita, Two Brothers Cafe and Grill, Castagna Restaurant ... Find European restaurants near you from 5 million restaurants worldwide with 760 million reviews and opinions from Tripadvisor travelers. Find European Restaurants local business listings in and near Portland, OR. Get European Restaurants business addresses, phone numbers, driving directions, maps, reviews and more. Whether it's breakfast in Post Falls or Pullman that you are in the mood for or a traditional European lunch, The Old European Restaurant is sure to surprise you with their traditional culinary menu. We provide quality dishes and serve them with great affection to offer a captivating eating experience for guests. European foods. catering. our services. our story. about edelweiss. contact us. get started (503) 238-4411 edelweissdeli@aol.com. 0 item(s) - $0.00. Search. Featured. Schweinebauch (Stuffed Bacon) $8.49/lb. In Store Only. Wine Cured Salami . $15.00/lb. In Store Only. Rosemary Garlic Bologna ... European’s Best Restaurant and Bakery welcomes you to enjoy an exceptional dining experience filled with old-world flavor and comfort. We are family…at European’s Best Restaurant and Bakery. It’s family that supports us and grounds us in what truly matters. That’s why at European’s Best Restaurant and Bakery, we’re all family here. Welcome to Phillips European Restaurant. Many guests think of us as their favorite lunch restaurant. For others we are a casual evening retreat for dinner after a busy day. For some the romantic atmosphere in a hidden corner or a secluded booth provides the ideal place for the special moment of engagement, anniversary, birthday or celebration. European's Best Restaurant and Bakery 19608 West 130th Street Strongsville, Ohio 44136 440-572-0600 Business Hours Mon-Thur 7am-3pm Fri 7am-7pm Sat & Sun 7am-3pm We are currently Closed Payment methods We accept cash or check only ©2021 European's Best Bakery and More, LLC. Bruno's European Restaurant in Lakewood, WA. Bruno's European Restaurant proudly serves authentic German and Polish cuisine. They have great food, and friendly service, in a fun, casual atmosphere. Featured on Diners, Drive-ins, and Dives. European Street Cafe is a family-owned restaurant providing award-winning food, beer selection and service for more than 40 years. Four locations throughout Jacksonville, Fla. Locations. Riverside. 2753 Park St. Jacksonville, FL 32205 904-384-9999 info@europeanstreet.com. Ado's Taste of Europe is a European restaurant serving all kinds of authentic dishes. You can split a platter with friends and family or enjoy a European hamburger on flatbread. With flavors from Germany, Slovenia, Italy, Poland and the Balkan area, there's something for everyone. Restaurant menu, map for European Republic located in 11520, Freeport NY, 126 W Merrick Rd. 4147 Labyrinth Rd. Baltimore, Md 21215 Restaurant, B anquet Hall 1.888.450.4555 Catering 410.764.0722 The European is a hybrid creation that evokes memories (and the occasional bit of longing) for the wine bars and cafes of all those places; and the extent to which the concept resonates with Melbournians can be measured in the place's longevity….” Buttercraft is your Sellwood-moreland neighborhood specialty food and wine shop in Portland, Oregon. We stock an assortment of curated wines, farmstead cheese, handcrafted butters, local meats, and french macarons. (503) 238-4411 edelweissdeli@aol.com. 0 item(s) - $0.00. Search old european restaurant menu, the old european post falls, site:zomato.com old europe english restaurant, old european restaurant cour d alene idaho, old bohemian post falls Select Country India",
            "count": 2
           },
           {
            "name": "19989 others",
            "count": 19991
           }
          ]
         }
        },
        {
         "name": "clean_description",
         "dtype": "object",
         "stats": {
          "unique_count": 19990,
          "nan_count": 7,
          "categories": [
           {
            "name": "good european restaurant portland oregon find tripadvisor traveler review portland european restaurant search price location covid update otto anitas european restaurant update hour takeout delivery option review otto anitas european restaurant quiet weekday night visit homey german restaurant service warm feel like one family get try sample pickle soup surprising sound tasty eat good modern european restaurant portland read local review browse local photo discover eat good food search right modern european restaurant end know goand never miss thing near swiss hibiscus normandie bosnia restaurant grandpas cafe kuchenhaus lovely rita two brother cafe grill castagna restaurant find european restaurant near million restaurant worldwide million review opinion tripadvisor traveler find european restaurant local business listing near portland get european restaurant business address phone number drive direction map review whether breakfast post fall pullman mood traditional european lunch old european restaurant sure surprise traditional culinary menu provide quality dish serve great affection offer captivate eat experience guest european food catering services story edelweiss contact we get start item search feature schweinebauch stuff bacon lb store wine cure salami lb store rosemary garlic bologna europeans good restaurant bakery welcome enjoy exceptional dining experience fill oldworld flavor comfort familyat european good restaurant bakery family support we ground we truly matter that s europeans good restaurant bakery family welcome phillip european restaurant many guest think we favorite lunch restaurant other casual evening retreat dinner busy day romantic atmosphere hide corner secluded booth provide ideal place special moment engagement anniversary birthday celebration european good restaurant bakery west th street strongsville ohio business hours monthur ampm fri ampm sat sun ampm currently close payment method accept cash check european good bakery llc brunos european restaurant lakewood wa brunos european restaurant proudly serve authentic german polish cuisine great food friendly service fun casual atmosphere feature diner drivein dive european street cafe familyowne restaurant provide awardwinne food beer selection service year four location throughout jacksonville fla location riverside park st jacksonville fl ado taste europe european restaurant serve kind authentic dish split platter friend family enjoy european hamburger flatbread flavor germany slovenia italy poland balkan area there s something everyone restaurant menu map european republic locate freeport ny w merrick rd labyrinth rd baltimore md restaurant b anquet hall cater european hybrid creation evoke memory occasional bit long wine bar cafe place extent concept resonate melbournian measure place longevity buttercraft sellwoodmoreland neighborhood specialty food wine shop portland oregon stock assortment curate wines farmstead cheese handcraft butter local meat french macaron item search old european restaurant menu old european post fall sitezomatocom old europe english restaurant old european restaurant cour alene idaho old bohemian post fall select country india",
            "count": 2
           },
           {
            "name": "19989 others",
            "count": 19991
           },
           {
            "name": "Missing",
            "count": 7
           }
          ]
         }
        },
        {
         "name": "industry",
         "dtype": "object",
         "stats": {
          "unique_count": 13,
          "nan_count": 0,
          "categories": [
           {
            "name": "Agriculture and Mining",
            "count": 3334
           },
           {
            "name": "Business Services",
            "count": 2956
           },
           {
            "name": "11 others",
            "count": 13710
           }
          ]
         }
        },
        {
         "name": "_deepnote_index_column",
         "dtype": "int64"
        }
       ],
       "rows_top": [
        {
         "Unnamed: 0": 0,
         "employers": "magic touch",
         "description": "Magic Touch USA has partnered with clicklease to provide your business with industry-leading screen…",
         "clean_description": "magic touch usa partner clicklease provide business industryleade screen print equipment low monthl…",
         "industry": "Computer and Electronics",
         "_deepnote_index_column": 0
        },
        {
         "Unnamed: 0": 1,
         "employers": "indus valley partners pvt. ltd.",
         "description": "Indus Valley Partners (India) Pvt. Ltd. Unit No. 154, SDF-V, 2nd Floor, SEEPZ SEZ, Andheri (East), …",
         "clean_description": "indus valley partners india pvt ltd unit sdfv nd floor seepz sez andheri east mumbai india indus va…",
         "industry": "Business Services",
         "_deepnote_index_column": 1
        },
        {
         "Unnamed: 0": 2,
         "employers": "mather hospital",
         "description": "Home - Mather Hospital Find a doctor Patient portal Pay a bill Upcoming Events Due to the COVID-19 …",
         "clean_description": "home mather hospital find doctor patient portal pay bill upcoming event due covid pandemic mather h…",
         "industry": "Business Services",
         "_deepnote_index_column": 2
        },
        {
         "Unnamed: 0": 3,
         "employers": "macarena tapas restaurant",
         "description": "The First Tapas Bar in Colombia - Tapas Macarena. At this opportunity we have brought dishes from o…",
         "clean_description": "first tapas bar colombia tapas macarena opportunity bring dish gastronomic history year icon rememb…",
         "industry": "Agriculture and Mining",
         "_deepnote_index_column": 3
        },
        {
         "Unnamed: 0": 4,
         "employers": "ashland specialty ingredients",
         "description": "Ashland specialty chemicals is driven by its vision to make a better world by providing creative so…",
         "clean_description": "ashland specialty chemical drive vision make well world provide creative solution application speci…",
         "industry": "Health, Pharma, and Biotech",
         "_deepnote_index_column": 4
        },
        {
         "Unnamed: 0": 5,
         "employers": "lawrence berkeley labratory",
         "description": "Lawrence Berkeley National Laboratory (Berkeley Lab) is a Department of Energy (DOE) Office of Scie…",
         "clean_description": "lawrence berkeley national laboratory berkeley lab department energy doe office science lab manage …",
         "industry": "Education",
         "_deepnote_index_column": 5
        },
        {
         "Unnamed: 0": 6,
         "employers": "neelkanth tech services",
         "description": "Neelkanth Tech Services Inc. Brooklands. House Cleaning. Get a free quote from this professional. G…",
         "clean_description": "neelkanth tech services inc brooklands house cleaning get free quote professional get free quote pr…",
         "industry": "Agriculture and Mining",
         "_deepnote_index_column": 6
        },
        {
         "Unnamed: 0": 7,
         "employers": "shareholder and managing partner",
         "description": "A managing partner is paid in two ways: As a partner, they receive a distributive share of the part…",
         "clean_description": "manage partner pay two way partner receive distributive share partnership income every year share p…",
         "industry": "Financial Services",
         "_deepnote_index_column": 7
        },
        {
         "Unnamed: 0": 8,
         "employers": "showing solutions,",
         "description": "Appointment Center 800‑SHOWING (800-746‑9464) Support 800‑379‑0057 Sales 800‑347-8001 626-588-2528 …",
         "clean_description": "appointment center show support sale main menu main menu home truss product angle block base plate …",
         "industry": "Media and Entertainment",
         "_deepnote_index_column": 8
        },
        {
         "Unnamed: 0": 9,
         "employers": "fcboe",
         "description": "webmaster@fcboe.org | Site Map. Connect with Us... Fayette County Public Schools does not discrimin…",
         "clean_description": "  site map connect us fayette county public school discriminate basis race color religion sex natio…",
         "industry": "Education",
         "_deepnote_index_column": 9
        },
        {
         "Unnamed: 0": 10,
         "employers": "ocbc corporation ltd",
         "description": "OCBC Bank launches first Sustainability-Linked Structured Deposit in Singapore 24 Sep 2021. By addi…",
         "clean_description": "ocbc bank launch first sustainabilitylinke structured deposit singapore sep add diversity sustainab…",
         "industry": "Financial Services",
         "_deepnote_index_column": 10
        },
        {
         "Unnamed: 0": 11,
         "employers": "lab 49",
         "description": "Lab49 is a specialist consultancy that designs and develops bespoke and innovative technology solut…",
         "clean_description": "lab specialist consultancy design develop bespoke innovative technology solution partnership key fi…",
         "industry": "Energy and Utilities",
         "_deepnote_index_column": 11
        },
        {
         "Unnamed: 0": 12,
         "employers": "jabil inc.",
         "description": "With Jabil's help, Shavelogic is here to defy convention and transform a market dominated by a few …",
         "clean_description": "jabil help shavelogic defy convention transform market dominate household brand feature insight we …",
         "industry": "Health, Pharma, and Biotech",
         "_deepnote_index_column": 12
        },
        {
         "Unnamed: 0": 13,
         "employers": "pacific pipeline",
         "description": "Pacific Pipeline Supply was established in 1987 on the foundation of exceptional service at the loc…",
         "clean_description": "pacific pipeline supply establish foundation exceptional service local level water agency contracto…",
         "industry": "Agriculture and Mining",
         "_deepnote_index_column": 13
        },
        {
         "Unnamed: 0": 14,
         "employers": "priority medical centers",
         "description": "Priority Medical & Rehab Centers is a state-of-the-art multi-disciplinary practice offering the fol…",
         "clean_description": "priority medical rehab center stateoftheart multidisciplinary practice offering follow service medi…",
         "industry": "Health, Pharma, and Biotech",
         "_deepnote_index_column": 14
        },
        {
         "Unnamed: 0": 15,
         "employers": "lc chen's restaurant",
         "description": "Online ordering menu for LC Chen's. LC Chen's serves Pan-Asian dining with new takes on Asian class…",
         "clean_description": "online ordering menu lc chen lc chen serve panasian dining new take asian classic proud one neighbo…",
         "industry": "Agriculture and Mining",
         "_deepnote_index_column": 15
        },
        {
         "Unnamed: 0": 16,
         "employers": "nawather trading co.",
         "description": "Click company name to browse the detail information. 这是本站沙特阿拉伯买家列表，点击公司名称浏览详细信息。. MODERN BUILDING C…",
         "clean_description": "click company name browse detail information modern building contract e al safia trading intl est s…",
         "industry": "Agriculture and Mining",
         "_deepnote_index_column": 16
        },
        {
         "Unnamed: 0": 17,
         "employers": "other financial firm - figure technologies",
         "description": "Figure Technologies, Inc. operates as a financial technology company in both the home equity and bl…",
         "clean_description": "figure technologies inc operate financial technology company home equity blockchain space company o…",
         "industry": "Financial Services",
         "_deepnote_index_column": 17
        },
        {
         "Unnamed: 0": 18,
         "employers": "msl",
         "description": "All the latest MLS news, scores, stats, standings and highlights. Plus special coverage of US Socce…",
         "clean_description": "late mls news score stat standing highlight plus special coverage we soccer canada soccer multiple …",
         "industry": "Agriculture and Mining",
         "_deepnote_index_column": 18
        },
        {
         "Unnamed: 0": 19,
         "employers": "cleveland clinic (contract)",
         "description": "Important Information Regarding Cleveland Clinic and UnitedHealthcare At this time, we are discussi…",
         "clean_description": "important information regard cleveland clinic unitedhealthcare time discuss new contract unitedheal…",
         "industry": "Consumer Services",
         "_deepnote_index_column": 19
        },
        {
         "Unnamed: 0": 20,
         "employers": "collection front end manager at citi (2000-2009)",
         "description": "Collection Front end Head (Snr. Manager) Bank Internasional Indonesia Jan 2007 - Mei ... Jun 2000 -…",
         "clean_description": "collection front end head snr manager bank internasional indonesia jan mei jun sep tahun bulan band…",
         "industry": "Business Services",
         "_deepnote_index_column": 20
        },
        {
         "Unnamed: 0": 21,
         "employers": "heritage medical systems",
         "description": "Our Vision. Coming Soon. About Us Heritage Medical Associates is made up of physicians from differe…",
         "clean_description": "vision come soon we heritage medical associate make physician different area medicine include aller…",
         "industry": "Health, Pharma, and Biotech",
         "_deepnote_index_column": 21
        },
        {
         "Unnamed: 0": 22,
         "employers": "endoceutics pharma",
         "description": "Lupin Pharma Canada Announces Partnership with Endoceutics for the Commercialization of INTRAROSA® …",
         "clean_description": "lupin pharma canada announce partnership endoceutics commercialization intrarosa march lupin pharma…",
         "industry": "Health, Pharma, and Biotech",
         "_deepnote_index_column": 22
        },
        {
         "Unnamed: 0": 23,
         "employers": "home health lvnmission healthcare services, inc",
         "description": "To view previous revisions of the rule, click the revision date (s) at the bottom of the rule page.…",
         "clean_description": "view previous revision rule click revision date bottom rule page revision available back need old r…",
         "industry": "Consumer Services",
         "_deepnote_index_column": 23
        },
        {
         "Unnamed: 0": 24,
         "employers": "guidewire software, inc.",
         "description": "Guidewire is the platform P&C insurers trust to engage, innovate, and grow efficiently. We combine …",
         "clean_description": "guidewire platform pc insurer trust engage innovate grow efficiently combine digital core analytic …",
         "industry": "Non-Profit",
         "_deepnote_index_column": 24
        },
        {
         "Unnamed: 0": 25,
         "employers": "admin assit at robert half - office team (2013-2013)",
         "description": "Experience Elsevier June 2015 - Present Robert Half/Office Team December 2013 - December 2014 Carri…",
         "clean_description": "experience elsevi june present robert halfoffice team december december carrier johnson culture aug…",
         "industry": "Government",
         "_deepnote_index_column": 25
        },
        {
         "Unnamed: 0": 26,
         "employers": "solectrix inc.",
         "description": "Each Solectrix solar project is a site-specific, custom installation. Our aim is to get the custome…",
         "clean_description": "solectrix solar project sitespecific custom installation aim get customer start path energy indepen…",
         "industry": "Computer and Electronics",
         "_deepnote_index_column": 26
        },
        {
         "Unnamed: 0": 27,
         "employers": "georgia regents university/georgia regents health system",
         "description": "Georgia Regents University Institution Mission Statement Our mission is to provide leadership and e…",
         "clean_description": "georgia regents university institution mission statement mission provide leadership excellence teac…",
         "industry": "Government",
         "_deepnote_index_column": 27
        },
        {
         "Unnamed: 0": 28,
         "employers": "jilin province changhong water conservancy project company",
         "description": "The Jilin Lot 3 tunnel is part of the Jilin Yinsong Water Supply Project, which will convey water t…",
         "clean_description": "jilin lot tunnel part jilin yinsong water supply project convey water central city jilin province l…",
         "industry": "Agriculture and Mining",
         "_deepnote_index_column": 28
        },
        {
         "Unnamed: 0": 29,
         "employers": "sendinblue (formerly newsletter2go)",
         "description": "Everything! Except for the brand name. We still have our office in Berlin and the whole team that f…",
         "clean_description": "everything except brand name still office berlin whole team formerly work newslettergo everything m…",
         "industry": "Media and Entertainment",
         "_deepnote_index_column": 29
        },
        {
         "Unnamed: 0": 30,
         "employers": "harrison medical center",
         "description": "St. Michael Medical Center proudly builds on the rich legacy of care that began with the Harrison f…",
         "clean_description": "st michael medical center proudly build rich legacy care begin harrison family year ago premier med…",
         "industry": "Health, Pharma, and Biotech",
         "_deepnote_index_column": 30
        },
        {
         "Unnamed: 0": 31,
         "employers": "asymmetry capital management l.p",
         "description": "Asymmetry Capital Management, L.P. is a San Francisco-based alternative asset management firm found…",
         "clean_description": "asymmetry capital management lp san franciscobase alternative asset management firm found scott kay…",
         "industry": "Financial Services",
         "_deepnote_index_column": 31
        },
        {
         "Unnamed: 0": 32,
         "employers": "iyengar institute of new york ~",
         "description": "Institute of New York – Daily Class Schedule. Classes are determined by levels. These levels are de…",
         "clean_description": "institute new york daily class schedule class determine level level design take learn process encom…",
         "industry": "Education",
         "_deepnote_index_column": 32
        },
        {
         "Unnamed: 0": 33,
         "employers": " ​​​​​​​​​pricap advisors llc",
         "description": "About Us. Founded in 2009, PriCap seeks to produce superior risk adjusted returns investing in high…",
         "clean_description": "we found pricap seek produce superior risk adjust return invest high yield security utilize value d…",
         "industry": "Financial Services",
         "_deepnote_index_column": 33
        },
        {
         "Unnamed: 0": 34,
         "employers": "receptionist at volkswagen of america, inc (2013-2013)",
         "description": "Receptionist at Volkswagen of America, Inc Tampa, Florida, United States 27 connections. Join to Co…",
         "clean_description": "receptionist volkswagen america inc tampa florida united states connection join connect volkswagen …",
         "industry": "Business Services",
         "_deepnote_index_column": 34
        },
        {
         "Unnamed: 0": 35,
         "employers": "mda",
         "description": "MDA is the nonprofit health agency dedicated to curing muscular dystrophy, ALS and related diseases…",
         "clean_description": "mda nonprofit health agency dedicate cure muscular dystrophy al related disease fund worldwide rese…",
         "industry": "Health, Pharma, and Biotech",
         "_deepnote_index_column": 35
        },
        {
         "Unnamed: 0": 36,
         "employers": "supreme court, nassau county",
         "description": "Supreme Court, Nassau County. 100 Supreme Court Drive. Mineola, New York 11501. 516-493-3400. Admin…",
         "clean_description": "supreme court nassau county supreme court drive mineola new york administration act district admini…",
         "industry": "Government",
         "_deepnote_index_column": 36
        },
        {
         "Unnamed: 0": 37,
         "employers": "warner brothers entertainment inc",
         "description": "Home of Warner Bros Movies, TV Shows and Video Games including Harry Potter, DC Comics and more! Wa…",
         "clean_description": "home warner bro movie tv show video game include harry potter dc comics warner bros entertainment i…",
         "industry": "Media and Entertainment",
         "_deepnote_index_column": 37
        },
        {
         "Unnamed: 0": 38,
         "employers": "german research center for artificial intelligence",
         "description": "For the eighth time, B-Human, the team from the University of Bremen and the German Research Center…",
         "clean_description": "eighth time bhuman team university bremen german research center artificial intelligence dfki succe…",
         "industry": "Manufacturing",
         "_deepnote_index_column": 38
        },
        {
         "Unnamed: 0": 39,
         "employers": "hydro-quebec",
         "description": "The Hydro-Québec home page (www.hydroquebec.com) is also the home page of the section for residenti…",
         "clean_description": "hydroquebec home page wwwhydroquebeccom also home page section residential customer link service we…",
         "industry": "Agriculture and Mining",
         "_deepnote_index_column": 39
        },
        {
         "Unnamed: 0": 40,
         "employers": "thescore",
         "description": "HEADLINES. No. 1 Alabama's Young shines with 4 TD passes in rout of Miami. No. 2 Oklahoma hangs on …",
         "clean_description": "headline alabamas young shine td pass rout miami oklahoma hang narrow win tulane roger stun rank ba…",
         "industry": "Media and Entertainment",
         "_deepnote_index_column": 40
        },
        {
         "Unnamed: 0": 41,
         "employers": "palmetto pediatrics",
         "description": "Welcome To Palmetto Pediatric & Adolescents Clinic. We emphasize comprehensive care for all our pat…",
         "clean_description": "welcome palmetto pediatric adolescent clinic emphasize comprehensive care patient location hour exp…",
         "industry": "Health, Pharma, and Biotech",
         "_deepnote_index_column": 41
        },
        {
         "Unnamed: 0": 42,
         "employers": "copperweld",
         "description": "Copperweld wire combines the strength of steel with the conductivity and corrosion resistance of co…",
         "clean_description": "copperweld wire combine strength steel conductivity corrosion resistance copper property achieve pe…",
         "industry": "Agriculture and Mining",
         "_deepnote_index_column": 42
        },
        {
         "Unnamed: 0": 43,
         "employers": "iii / blue technologies",
         "description": "5885 Grant Ave. Cleveland, OH 44105 Phone: 216.271.4800 Service Hotline: 216.271.5800 24x7 IT Suppo…",
         "clean_description": "  grant ave cleveland oh phone service hotline x support toll free blue canyon technologies inc bct…",
         "industry": "Manufacturing",
         "_deepnote_index_column": 43
        },
        {
         "Unnamed: 0": 44,
         "employers": "clinique physio accès",
         "description": "Lâ€™EncÃ©phale (2011) Hors-sÃ©rie 3, 6-8 Â© Lâ€™EncÃ©phale, Paris, 2011. Tous droits rÃ©servÃ©s. Ac…",
         "clean_description": "la encaphale horssarie la encaphale paris tous droit raservas actualitas sur le thermalisme intaraa…",
         "industry": "Education",
         "_deepnote_index_column": 44
        },
        {
         "Unnamed: 0": 45,
         "employers": "exp realty",
         "description": "eXp is a global online brokerage that’s powered by top agents and cutting-edge technology. Whether …",
         "clean_description": "exp global online brokerage that s powered top agent cuttingedge technology whether you re real est…",
         "industry": "Real Estate and Construction",
         "_deepnote_index_column": 45
        },
        {
         "Unnamed: 0": 46,
         "employers": "hospital quality improvement specialist at kaiser permanente (2014-2016)",
         "description": "Kaiser Permanente Hawaii maintains a Quality Improvement Program ... No waiting for charts to be se…",
         "clean_description": "kaiser permanente hawaii maintain quality improvement program wait chart send kaiser permanente spe…",
         "industry": "Health, Pharma, and Biotech",
         "_deepnote_index_column": 46
        },
        {
         "Unnamed: 0": 47,
         "employers": "warehouse worker, amazon",
         "description": "newAmazon Warehouse Worker - Earn Up to $19.30/hour. Amazon Workforce Staffing 3.5. Colorado Spring…",
         "clean_description": "newamazon warehouse worker earn hour amazon workforce staff colorado springs co peterson air force …",
         "industry": "Consumer Services",
         "_deepnote_index_column": 47
        },
        {
         "Unnamed: 0": 48,
         "employers": "bain & company (hong kong) ltd",
         "description": "Bain passionately participates in important pro bono work in Greater China, partnering with organiz…",
         "clean_description": "bain passionately participate important pro bono work great china partnering organization like hong…",
         "industry": "Business Services",
         "_deepnote_index_column": 48
        },
        {
         "Unnamed: 0": 49,
         "employers": "bridgewater interiors",
         "description": "Bridgewater Interiors was founded in 1998 as a joint venture with Johnson Controls (JCI) to manufac…",
         "clean_description": "bridgewater interior found joint venture johnson control jci manufacture seat general motors curren…",
         "industry": "Agriculture and Mining",
         "_deepnote_index_column": 49
        },
        {
         "Unnamed: 0": 50,
         "employers": "de foods inc.",
         "description": "De Foods, Inc., Norwell, MA. 112 likes · 8 talking about this. DE Foods is a growing family run #KF…",
         "clean_description": "de foods inc norwell like talk de food grow family run kfc franchise year today operate kfc kfctaco…",
         "industry": "Agriculture and Mining",
         "_deepnote_index_column": 50
        },
        {
         "Unnamed: 0": 51,
         "employers": "restaurants on the run",
         "description": "Restaurants on the Run | 2,980 followers on LinkedIn. Restaurants on the Run Foodgistics: The scien…",
         "clean_description": "restaurant run follower linkedin restaurant run foodgistic science behind corporate food delivery y…",
         "industry": "Business Services",
         "_deepnote_index_column": 51
        },
        {
         "Unnamed: 0": 52,
         "employers": "green-wood cemetery",
         "description": "Green-Wood is open 7 days a week. PLAN YOUR VISIT. 478 Acres of Art, History, AND NATURE in the hea…",
         "clean_description": "greenwood open day week plan visit acre art history nature heart brooklyn free open public day year…",
         "industry": "Agriculture and Mining",
         "_deepnote_index_column": 52
        },
        {
         "Unnamed: 0": 53,
         "employers": "ask chemicals ( east plant)",
         "description": "ASK Chemicals employees do sports for a good cause. Details ASK Chemicals Metallurgy launches new g…",
         "clean_description": "ask chemical employee sport good cause detail ask chemical metallurgy launch new generation inocula…",
         "industry": "Agriculture and Mining",
         "_deepnote_index_column": 53
        },
        {
         "Unnamed: 0": 54,
         "employers": "assemblee nationale",
         "description": "Presentation de l'Assemblee nationale, du palais Bourbon, de ses membres (deputes), de son fonction…",
         "clean_description": "presentation de lassemblee nationale du palais bourbon de ses membre depute de son fonctionnement e…",
         "industry": "Government",
         "_deepnote_index_column": 54
        },
        {
         "Unnamed: 0": 55,
         "employers": "nick's bar and grill",
         "description": "Nick’s Bar closed their doors for the first time in 40 years in 2018 as they went under major renov…",
         "clean_description": "nick bar closed door first time year go major renovation restaurant nearly completely rebuild origi…",
         "industry": "Agriculture and Mining",
         "_deepnote_index_column": 55
        },
        {
         "Unnamed: 0": 56,
         "employers": "axyz automation group",
         "description": "We are a global team of advanced manufacturing specialists, providing tailored cutting solutions to…",
         "clean_description": "global team advance manufacturing specialist provide tailor cut solution help automate well competi…",
         "industry": "Manufacturing",
         "_deepnote_index_column": 56
        },
        {
         "Unnamed: 0": 57,
         "employers": "mary’s haven",
         "description": "Stories. A Place of Peace, Caring and Compassion. Welcome to Mary's Haven. 35 New Street, Saratoga …",
         "clean_description": "story place peace care compassion welcome mary new street saratoga springs ny phone fax mary bedroo…",
         "industry": "Education",
         "_deepnote_index_column": 57
        },
        {
         "Unnamed: 0": 58,
         "employers": "intuitive bodywork",
         "description": "“I have been going to Intuitive Bodywork for almost 2 years and I couldn’t say better things. They …",
         "clean_description": "go intuitive bodywork almost year could nt say well thing great hour convenient location easy sched…",
         "industry": "Education",
         "_deepnote_index_column": 58
        },
        {
         "Unnamed: 0": 59,
         "employers": "duke street capital (f/ hambros european ventures)",
         "description": "Duke Street, the leading European midmarket private equity group, announces that it has agreed to a…",
         "clean_description": "duke street lead european midmarket private equity group announce agree acquire kent pharmaceutical…",
         "industry": "Financial Services",
         "_deepnote_index_column": 59
        },
        {
         "Unnamed: 0": 60,
         "employers": "saskatoon health region",
         "description": "Saskatoon Health Region commits to Reconciliation Read more Flowcast Model The Region's predictive …",
         "clean_description": "saskatoon health region commit reconciliation read flowcast model region predictive model forecast …",
         "industry": "Consumer Services",
         "_deepnote_index_column": 60
        },
        {
         "Unnamed: 0": 61,
         "employers": "the institute for the blind and partially sighted (ibos)",
         "description": "The Institute for the Blind and Partially Sighted (IBOS) is the national competence- and rehabilita…",
         "clean_description": "institute blind partially sight ibo national competence rehabilitation centre denmark young adult v…",
         "industry": "Education",
         "_deepnote_index_column": 61
        },
        {
         "Unnamed: 0": 62,
         "employers": "willow park nursing home",
         "description": "Willow Park is a skilled nursing facility nestled directly in the great city of Cleveland, and has …",
         "clean_description": "willow park skilled nursing facility nestle directly great city cleveland friend community year bed…",
         "industry": "Consumer Services",
         "_deepnote_index_column": 62
        },
        {
         "Unnamed: 0": 63,
         "employers": "domino's pizza inc.",
         "description": "Order pizza, pasta, sandwiches & more online for carryout or delivery from Domino's. View menu, fin…",
         "clean_description": "order pizza pasta sandwich online carryout delivery domino view menu find location track order sign…",
         "industry": "Computer and Electronics",
         "_deepnote_index_column": 63
        },
        {
         "Unnamed: 0": 64,
         "employers": "grey ny",
         "description": "Grey New York. 200 5th Ave New York, NY 10010 United States +1 212 546 2000 Gray, NY Directions {{:…",
         "clean_description": "grey new york th ave new york ny united states gray ny direction locationtaglinevaluetext sponsor t…",
         "industry": "Education",
         "_deepnote_index_column": 64
        },
        {
         "Unnamed: 0": 65,
         "employers": "internal auditor, meta financial group",
         "description": "Meta Financial Group, Inc. 1 year 4 months Senior Internal Auditor Sep 2020 - Jun 202110 months Tro…",
         "clean_description": "meta financial group inc year month senior internal auditor sep jun month troy michigan united stat…",
         "industry": "Financial Services",
         "_deepnote_index_column": 65
        },
        {
         "Unnamed: 0": 66,
         "employers": "electronic security solutions",
         "description": "Electronic Security Solutions (ESS) is a valuable partner for our school system. As educators, our …",
         "clean_description": "electronic security solution ess valuable partner school system educator focus happening classroom …",
         "industry": "Computer and Electronics",
         "_deepnote_index_column": 66
        },
        {
         "Unnamed: 0": 67,
         "employers": "larry smith sa",
         "description": "Larry Smith SA provides shopping centre development services. The company is based in Madrid, Spain…",
         "clean_description": "larry smith sa provide shopping centre development service company base madrid spain november larry…",
         "industry": "Business Services",
         "_deepnote_index_column": 67
        },
        {
         "Unnamed: 0": 68,
         "employers": "2 go cleaning services",
         "description": "About Maid 2 Go Cleaning Service Be it residential or commercial cleaning \"Maid 2 Go Cleaning Servi…",
         "clean_description": "maid go clean service residential commercial cleaning maid go clean service ensure client home busi…",
         "industry": "Computer and Electronics",
         "_deepnote_index_column": 68
        },
        {
         "Unnamed: 0": 69,
         "employers": "eventtemps",
         "description": "Part of our criteria for hiring is professionalism, enthusiasm, and communication skills. Whether y…",
         "clean_description": "part criterion hire professionalism enthusiasm communication skill whether need certify bartender f…",
         "industry": "Business Services",
         "_deepnote_index_column": 69
        },
        {
         "Unnamed: 0": 70,
         "employers": "andrew peller limmited",
         "description": "Andrew Peller Limited Announces Timing of Fourth Quarter & Year-End Fiscal 2021 Results & Conferenc…",
         "clean_description": "andrew peller limited announce time fourth quarter yearend fiscal result conference callapril andre…",
         "industry": "Consumer Services",
         "_deepnote_index_column": 70
        },
        {
         "Unnamed: 0": 71,
         "employers": "soc",
         "description": "A Security Operation Center (SOC) is a centralized function within an organization employing people…",
         "clean_description": "security operation center soc centralized function within organization employ people process techno…",
         "industry": "Education",
         "_deepnote_index_column": 71
        },
        {
         "Unnamed: 0": 72,
         "employers": "symic, inc",
         "description": "Symic Bio. Matrix-Targeting Biotherapeutics: A New Category of Therapeutics. Expanding Applications…",
         "clean_description": "symic bio matrixtargete biotherapeutic new category therapeutic expand application matrix biology e…",
         "industry": "Health, Pharma, and Biotech",
         "_deepnote_index_column": 72
        },
        {
         "Unnamed: 0": 73,
         "employers": "priority settlement group of tx",
         "description": "Let Priority Settlement Group of Texas help you meet your client’s needs. We pride ourselves on our…",
         "clean_description": "let priority settlement group texas help meet client need pride ability provide smooth stressfree c…",
         "industry": "Financial Services",
         "_deepnote_index_column": 73
        },
        {
         "Unnamed: 0": 74,
         "employers": "lebreton & sons real estate,",
         "description": "David LeBreton. VP of Operations • 15+ years of strategic management and operations experience. • F…",
         "clean_description": "david lebreton vp operations year strategic management operation experience formerly principal lebr…",
         "industry": "Business Services",
         "_deepnote_index_column": 74
        },
        {
         "Unnamed: 0": 75,
         "employers": "self-employed martin mangement group, martin management collective",
         "description": "CEO of Martin Management Group LLC | Digital Nomad & Location Free Living Self-employed Jan 2013 - …",
         "clean_description": "ceo martin management group llc digital nomad location free live selfemploye jan present year month…",
         "industry": "Education",
         "_deepnote_index_column": 75
        },
        {
         "Unnamed: 0": 76,
         "employers": "petsmart pet hotel",
         "description": "PetsHotel Pet Boarding. Our comfortable accommodations & safety-certified associates provide a welc…",
         "clean_description": "petshotel pet boarding comfortable accommodation safetycertifie associate provide welcome place dog…",
         "industry": "Education",
         "_deepnote_index_column": 76
        },
        {
         "Unnamed: 0": 77,
         "employers": "graduate ambassador, mba program at university of mary washington (2014-2014)",
         "description": "May 10, 2014 by Brynn Boyer. The University of Mary Washington graduated a total of 1,249 students …",
         "clean_description": "may brynn boyer university mary washington graduate total student rd commencement graduate ceremony…",
         "industry": "Education",
         "_deepnote_index_column": 77
        },
        {
         "Unnamed: 0": 78,
         "employers": "sunwest aviation",
         "description": "Sunwest Aviation is the official Shell AeroCentre ™ at the Calgary International Airport (YYC). In …",
         "clean_description": "sunw aviation official shell aerocentre calgary international airport yyc addition provide shell fu…",
         "industry": "Agriculture and Mining",
         "_deepnote_index_column": 78
        },
        {
         "Unnamed: 0": 79,
         "employers": "lapeer plating & plastics",
         "description": "LP+P is the premier manufacturer of Class A, high-visibility automotive components. LP+P has the ca…",
         "clean_description": "lpp premier manufacturer class highvisibility automotive component lpp capability require provide i…",
         "industry": "Agriculture and Mining",
         "_deepnote_index_column": 79
        },
        {
         "Unnamed: 0": 80,
         "employers": "math tutor, southern utah university",
         "description": "Southern Utah University has many tutors available for math, chemistry, biology, business, and many…",
         "clean_description": "southern utah university many tutor available math chemistry biology business many subject private …",
         "industry": "Education",
         "_deepnote_index_column": 80
        },
        {
         "Unnamed: 0": 81,
         "employers": "denso manufacturing canada",
         "description": "DENSO Manufacturing Canada, Inc. (DMCN), located in Guelph, Ontario, Canada, manufactures heating v…",
         "clean_description": "denso manufacturing canada inc dmcn locate guelph ontario canada manufacture heat ventilation air c…",
         "industry": "Agriculture and Mining",
         "_deepnote_index_column": 81
        },
        {
         "Unnamed: 0": 82,
         "employers": "team lead, isc software",
         "description": "Meet the Executive Team. Olaf Laos. Olaf directs sales, consultancy services, and product developme…",
         "clean_description": "meet executive team olaf laos olaf direct sale consultancy service product development within isc s…",
         "industry": "Business Services",
         "_deepnote_index_column": 82
        },
        {
         "Unnamed: 0": 83,
         "employers": "sucampo pharmaceuticals, inc.",
         "description": "Sucampo is now a part of Mallinckrodt. On February 13, 2018, Mallinckrodt closed on our acquisition…",
         "clean_description": "sucampo part mallinckrodt february mallinckrodt close acquisition sucampo pharmaceuticals inc full …",
         "industry": "Health, Pharma, and Biotech",
         "_deepnote_index_column": 83
        },
        {
         "Unnamed: 0": 84,
         "employers": "chief financial officer, university of toledo medical center",
         "description": "Rick Swaine Chief Financial Officer at UNIVERSITY OF TOLEDO MEDICAL CENTER Toledo, Ohio Metropolita…",
         "clean_description": "rick swaine chief financial officer university toledo medical center toledo ohio metropolitan area …",
         "industry": "Business Services",
         "_deepnote_index_column": 84
        },
        {
         "Unnamed: 0": 85,
         "employers": "self employed - mine support services",
         "description": "Mine Support Services is a highly skilled mining partner with 30 years experience. We provide civil…",
         "clean_description": "mine support service highly skilled mining partner year experience provide civil construction envir…",
         "industry": "Consumer Services",
         "_deepnote_index_column": 85
        },
        {
         "Unnamed: 0": 86,
         "employers": "next",
         "description": "Shop the very latest fashion and childrens clothing online at Next USA :: FREE delivery available* …",
         "clean_description": "shop late fashion children clothing online next usa free delivery available great style great servi…",
         "industry": "Computer and Electronics",
         "_deepnote_index_column": 86
        },
        {
         "Unnamed: 0": 87,
         "employers": "mobile software dev manager, neulion inc",
         "description": "NeuLion, Inc 21 years 4 months Mobile Application Development Manager Jun 2000 - Present21 years 4 …",
         "clean_description": "neulion inc years month mobile application development manager jun present year month plainview ny …",
         "industry": "Media and Entertainment",
         "_deepnote_index_column": 87
        },
        {
         "Unnamed: 0": 88,
         "employers": "the auld dubliner",
         "description": "The Auld Dubliner has been part of the downtown Long Beach community for over 10 years. Come experi…",
         "clean_description": "auld dubliner part downtown long beach community year come experience place friend come celebrate s…",
         "industry": "Agriculture and Mining",
         "_deepnote_index_column": 88
        },
        {
         "Unnamed: 0": 89,
         "employers": "rocaton investment advisors inc",
         "description": "Rocaton was founded in April 2002 by a team of experienced investment professionals who had all pre…",
         "clean_description": "rocaton found april team experience investment professional previously work together another invest…",
         "industry": "Financial Services",
         "_deepnote_index_column": 89
        },
        {
         "Unnamed: 0": 90,
         "employers": "les banques alimentaires du québec",
         "description": "Le réseau des Banques alimentaires du Québec nourrit 500 000 personnes chaque mois. Ses 32 membres …",
         "clean_description": "le reseau des banques alimentaires du quebec nourrit personnes chaque mois se membre moisson et ass…",
         "industry": "Media and Entertainment",
         "_deepnote_index_column": 90
        },
        {
         "Unnamed: 0": 91,
         "employers": "creativecircle",
         "description": "Creative Circle is an Equal Employment Opportunity Employer. All qualified applicants will receive …",
         "clean_description": "creative circle equal employment opportunity employer qualified applicant receive consideration emp…",
         "industry": "Education",
         "_deepnote_index_column": 91
        },
        {
         "Unnamed: 0": 92,
         "employers": "marsh usa inc.",
         "description": "Marsh McLennan is a trusted advisor to clients around the world. A professional services firm like …",
         "clean_description": "marsh mclennan trust advisor client around world professional service firm like lead global expert …",
         "industry": "Financial Services",
         "_deepnote_index_column": 92
        },
        {
         "Unnamed: 0": 93,
         "employers": "corus group (f/ british steel plc)",
         "description": "Late 1990s: Corus Group. On October 6, 1999, British Steel and Hoogovens merged, forming Corus Grou…",
         "clean_description": "late corus group october british steel hoogoven merge form corus group plc ceo two former company j…",
         "industry": "Financial Services",
         "_deepnote_index_column": 93
        },
        {
         "Unnamed: 0": 94,
         "employers": "seachange international inc",
         "description": "SeaChange International is a multinational supplier of Video Delivery Software Solutions that power…",
         "clean_description": "seachange international multinational supplier video delivery software solution power cloud onpremi…",
         "industry": "Health, Pharma, and Biotech",
         "_deepnote_index_column": 94
        },
        {
         "Unnamed: 0": 95,
         "employers": "ohiohealth|mcconnell heart health center",
         "description": "OhioHealth Home / Locations / Health and Fitness / / McConnell Heart Health Center McConnell Heart …",
         "clean_description": "ohiohealth home location health fitness mcconnell heart health center mcconnell heart health center…",
         "industry": "Health, Pharma, and Biotech",
         "_deepnote_index_column": 95
        },
        {
         "Unnamed: 0": 96,
         "employers": "covalentech llc",
         "description": "Power & Infra. The electric power industry provides the production and delivery of electric energy,…",
         "clean_description": "power infra electric power industry provide production delivery electric energy often know power el…",
         "industry": "Agriculture and Mining",
         "_deepnote_index_column": 96
        },
        {
         "Unnamed: 0": 97,
         "employers": "bolt solutions inc.",
         "description": "bolt is the world’s largest P&C insurance exchange. We match distributors with providers on a singl…",
         "clean_description": "bolt world large pc insurance exchange match distributor provider single digital platform offer sea…",
         "industry": "Real Estate and Construction",
         "_deepnote_index_column": 97
        },
        {
         "Unnamed: 0": 98,
         "employers": "registered dietitian / diabetes educator",
         "description": "A diabetes educator can be health care professionals from a variety of health disciplines, includin…",
         "clean_description": "diabetes educator health care professional variety health discipline include register dietitian nur…",
         "industry": "Health, Pharma, and Biotech",
         "_deepnote_index_column": 98
        },
        {
         "Unnamed: 0": 99,
         "employers": "kris's care",
         "description": "K risscare Personal Care Home. Providing the Best of Care and Comfort for your Loved One. Thanks fo…",
         "clean_description": "k risscare personal care home provide good care comfort love one thank visit krisscare personal car…",
         "industry": "Education",
         "_deepnote_index_column": 99
        }
       ],
       "rows_bottom": [
        {
         "Unnamed: 0": 19900,
         "employers": "lipsitz green scime cambria",
         "description": "23 Attorney from Lipsitz Green Scime Cambria Named to 2021 Super Lawyers. The law firm of Lipsitz G…",
         "clean_description": "  attorney lipsitz green scime cambria name super lawyer law firm lipsitz green scime cambria llp p…",
         "industry": "Business Services",
         "_deepnote_index_column": 19900
        },
        {
         "Unnamed: 0": 19901,
         "employers": "cleveland road animal hospital",
         "description": "We are a full service, AAHA accredited veterinary hospital for cats, dogs, and other household pets…",
         "clean_description": "full service aaha accredit veterinary hospital cat dog household pet locate beautiful wooster ohio …",
         "industry": "Consumer Services",
         "_deepnote_index_column": 19901
        },
        {
         "Unnamed: 0": 19902,
         "employers": "stap struckscott",
         "description": "video footage proving that drew ryan scott from the band 'varsity fanclub' sings all the songs on t…",
         "clean_description": "video footage prove draw ryan scott band varsity fanclub sing song starstruck album except starstru…",
         "industry": "Media and Entertainment",
         "_deepnote_index_column": 19902
        },
        {
         "Unnamed: 0": 19903,
         "employers": "sapot systems inc",
         "description": "WELCOME TO SAPOT SYSTEMS Since its establishment in 2003, Sapot Systems is working consistently and…",
         "clean_description": "welcome sapot system since establishment sapot system work consistently diligently emerge lead staf…",
         "industry": "Manufacturing",
         "_deepnote_index_column": 19903
        },
        {
         "Unnamed: 0": 19904,
         "employers": "derrick jones",
         "description": "Latest on Chicago Bulls small forward Derrick Jones Jr. including news, stats, videos, highlights a…",
         "clean_description": "late chicago bull small forward derrick jones jr include news stat video highlight espn derrick jon…",
         "industry": "Education",
         "_deepnote_index_column": 19904
        },
        {
         "Unnamed: 0": 19905,
         "employers": "baseball factory",
         "description": "2021 Baseball Factory All-America Game 2021 Baseball Factory All-America Game. The Top High School …",
         "clean_description": "  baseball factory allamerica game baseball factory allamerica game top high school player country …",
         "industry": "Education",
         "_deepnote_index_column": 19905
        },
        {
         "Unnamed: 0": 19906,
         "employers": "service master",
         "description": "ServiceMaster Brands. Making everyday heroes more heroic. Learn More. Our Brands. ServiceMaster Bra…",
         "clean_description": "servicemaster brand make everyday hero heroic learn brands servicemaster brand leader home service …",
         "industry": "Consumer Services",
         "_deepnote_index_column": 19906
        },
        {
         "Unnamed: 0": 19907,
         "employers": "data analyst, healthcare, other",
         "description": "Healthcare data analysts may help hospitals, health systems, and physician groups decide whether to…",
         "clean_description": "healthcare datum analyst may help hospital health system physician group decide whether add new ser…",
         "industry": "Health, Pharma, and Biotech",
         "_deepnote_index_column": 19907
        },
        {
         "Unnamed: 0": 19908,
         "employers": "eye associates northwest, pc",
         "description": "Eye Associates Northwest, PC is dedicated to providing the best in specialized eye care. ... I high…",
         "clean_description": "eye associates northwest pc dedicate provide good specialized eye care highly recommend eye associa…",
         "industry": "Health, Pharma, and Biotech",
         "_deepnote_index_column": 19908
        },
        {
         "Unnamed: 0": 19909,
         "employers": "rancatore's ice cream and yogurt",
         "description": "Homepage for Rancatore's Ice Cream & Yogurt, located in Belmont, Lexington, and Newton, MA. Order i…",
         "clean_description": "homepage rancatore ice cream yogurt locate belmont lexington newton order ice cream gift card pick …",
         "industry": "Agriculture and Mining",
         "_deepnote_index_column": 19909
        },
        {
         "Unnamed: 0": 19910,
         "employers": "ynhh",
         "description": "Yale New Haven Hospital. Nationally Recognized Yale New Haven Hospital is proud to be ranked among …",
         "clean_description": "yale new hospital nationally recognize yale new hospital proud rank among good nation eight special…",
         "industry": "Health, Pharma, and Biotech",
         "_deepnote_index_column": 19910
        },
        {
         "Unnamed: 0": 19911,
         "employers": "ohio department of rehabilitation and corrections",
         "description": "Learn more about visitation opportunities. Contact the Ohio Department of Rehabilitation and Correc…",
         "clean_description": "learn visitation opportunity contact ohio department rehabilitation correction browse frequently as…",
         "industry": "Consumer Services",
         "_deepnote_index_column": 19911
        },
        {
         "Unnamed: 0": 19912,
         "employers": "qualtex laboratories",
         "description": "QualTex is one of the largest independent, nonprofit testing laboratories in the United States for …",
         "clean_description": "qualtex one large independent nonprofit testing laboratory united states blood plasma product locat…",
         "industry": "Agriculture and Mining",
         "_deepnote_index_column": 19912
        },
        {
         "Unnamed: 0": 19913,
         "employers": "neos",
         "description": "(*) Be informed that the email address you have entered could be used to send a satisfaction survey…",
         "clean_description": "  inform email address enter could use send satisfaction survey anonymous optional neo service rese…",
         "industry": "Business Services",
         "_deepnote_index_column": 19913
        },
        {
         "Unnamed: 0": 19914,
         "employers": "intec infocom pvt ltd",
         "description": "Intec Infocom Pvt Ltd Head Office is located in Haryana Gurgaon is a top player in the Information …",
         "clean_description": "intec infocom pvt ltd head office locate haryana gurgaon top player information technology software…",
         "industry": "Computer and Electronics",
         "_deepnote_index_column": 19914
        },
        {
         "Unnamed: 0": 19915,
         "employers": "vulcan management",
         "description": "Vulcan Management | 103 followers on LinkedIn. Provide Management Expertise To Enhance Enterprise V…",
         "clean_description": "vulcan management follower linkedin provide management expertise enhance enterprise value vulcan ma…",
         "industry": "Financial Services",
         "_deepnote_index_column": 19915
        },
        {
         "Unnamed: 0": 19916,
         "employers": "kforce contract pge",
         "description": "Kforce Midtown Tampa sit s at the intersection of work, life and play. Our home offices will remain…",
         "clean_description": "kforce midtown tampa sit intersection work life play home office remain heart work get do new space…",
         "industry": "Business Services",
         "_deepnote_index_column": 19916
        },
        {
         "Unnamed: 0": 19917,
         "employers": "onshore outsourcing",
         "description": "Onshore Outsourcing delivers upon its mission of revitalizing underserved communities through its n…",
         "clean_description": "onshore outsourcing deliver upon mission revitalize underserved community novel approach workforce …",
         "industry": "Consumer Services",
         "_deepnote_index_column": 19917
        },
        {
         "Unnamed: 0": 19918,
         "employers": "ultra commerce internet pty ltd.",
         "description": "Built exclusively on AWS, the Ultra Commerce platform leverages the latest technologies, services a…",
         "clean_description": "build exclusively aw ultra commerce platform leverage late technology service good practice aw ensu…",
         "industry": "Business Services",
         "_deepnote_index_column": 19918
        },
        {
         "Unnamed: 0": 19919,
         "employers": "mc marketing corporation ag",
         "description": "This page redirects to /content/us/en-us/contact-us.html in publish./content/us/en-us/contact-us.ht…",
         "clean_description": "page redirect contentusenuscontactushtml publishcontentusenuscontactushtml publish mercy corps glob…",
         "industry": "Agriculture and Mining",
         "_deepnote_index_column": 19919
        },
        {
         "Unnamed: 0": 19920,
         "employers": "polytechnic institute of new york university",
         "description": "Located in Brooklyn, New York, Polytechnic Institute of New York University is a mid-size four year…",
         "clean_description": "locate brooklyn new york polytechnic institute new york university midsize four year private colleg…",
         "industry": "Education",
         "_deepnote_index_column": 19920
        },
        {
         "Unnamed: 0": 19921,
         "employers": "peer insight",
         "description": "Peer Insight is an innovation firm that partners with leaders to drive new growth and turn ideas in…",
         "clean_description": "peer insight innovation firm partner leader drive new growth turn idea reality client we ve privile…",
         "industry": "Education",
         "_deepnote_index_column": 19921
        },
        {
         "Unnamed: 0": 19922,
         "employers": "cleveland clinic prn aramark",
         "description": "Smoke-free/drug-free environment. If you are interested in applying for employment with Cleveland C…",
         "clean_description": "smokefreedrugfree environment interested apply employment cleveland clinic need special assistance …",
         "industry": "Business Services",
         "_deepnote_index_column": 19922
        },
        {
         "Unnamed: 0": 19923,
         "employers": "qinetiq, inc.",
         "description": "QinetiQ Satellite to Support European Union Horizon 2020 Programme. The European Space Agency (ESA)…",
         "clean_description": "qinetiq satellite support european union horizon programme european space agency esa confirm appoin…",
         "industry": "Energy and Utilities",
         "_deepnote_index_column": 19923
        },
        {
         "Unnamed: 0": 19924,
         "employers": "baltimore va medical center",
         "description": "The Baltimore VA Medical Center is a few blocks away from the Light Rail and Metro Subway Stations …",
         "clean_description": "baltimore va medical center block away light rail metro subway stations lexington market addition b…",
         "industry": "Health, Pharma, and Biotech",
         "_deepnote_index_column": 19924
        },
        {
         "Unnamed: 0": 19925,
         "employers": "gabriel partners",
         "description": "Charles Gabriel Partners is a leading provider of professional search services with specialized exp…",
         "clean_description": "charles gabriel partners lead provider professional search service specialized expertise finance st…",
         "industry": "Financial Services",
         "_deepnote_index_column": 19925
        },
        {
         "Unnamed: 0": 19926,
         "employers": "veloce restaurant",
         "description": "Cafe Veloce | Italian Restaurant in Kirkland, WA LOADING... VELOCE’S RESTAURANT SOFTWARE IS A POS S…",
         "clean_description": "cafe veloce italian restaurant kirkland wa load veloce restaurant software pos solution tailor opti…",
         "industry": "Computer and Electronics",
         "_deepnote_index_column": 19926
        },
        {
         "Unnamed: 0": 19927,
         "employers": "applied systems and technology transfer",
         "description": "Applied Systems & Technology Transfer | 27 followers on LinkedIn. About AST2 Applied Systems and Te…",
         "clean_description": "apply system technology transfer follower linkedin ast apply system technology transfer ast small b…",
         "industry": "Manufacturing",
         "_deepnote_index_column": 19927
        },
        {
         "Unnamed: 0": 19928,
         "employers": "great jone spa, 2015-01-07",
         "description": "gary r. jones - tyler, tx dsi transport inc. - cameron park, ca wrh ii - hopewell, pa sidhu trans i…",
         "clean_description": "gary r jones tyler tx dsi transport inc cameron park ca wrh ii hopewell pa sidhu trans inc bakersfi…",
         "industry": "Agriculture and Mining",
         "_deepnote_index_column": 19928
        },
        {
         "Unnamed: 0": 19929,
         "employers": "managing director at managing director gitamo exam setters (2015-unknown)",
         "description": "Managing Director at Flying Exam London, United Kingdom. Join to Connect Flying Exam. Company Websi…",
         "clean_description": "manage director fly exam london united kingdom join connect fly exam company website report profile…",
         "industry": "Media and Entertainment",
         "_deepnote_index_column": 19929
        },
        {
         "Unnamed: 0": 19930,
         "employers": "lifepoint health st. francis hospital",
         "description": "\"LifePoint Health\" is a trade name used to refer to an organization of affiliated entities that own…",
         "clean_description": "lifepoint health trade name use refer organization affiliate entity operate hospital healthcare pro…",
         "industry": "Consumer Services",
         "_deepnote_index_column": 19930
        },
        {
         "Unnamed: 0": 19931,
         "employers": "johnson controls automotive experience",
         "description": "Johnson Controls, Inc. (Johnson Controls) requirements to the suppliers in our Automotive Experienc…",
         "clean_description": "johnson controls inc johnson control requirement supplier automotive experience division corporate …",
         "industry": "Energy and Utilities",
         "_deepnote_index_column": 19931
        },
        {
         "Unnamed: 0": 19932,
         "employers": "univ. of illinois at chicago",
         "description": "Located in the heart of one of the world’s great cities, the University of Illinois Chicago is a vi…",
         "clean_description": "locate heart one world great city university illinois chicago vital part educational technological …",
         "industry": "Health, Pharma, and Biotech",
         "_deepnote_index_column": 19932
        },
        {
         "Unnamed: 0": 19933,
         "employers": "hunt's gymnastics",
         "description": "Hunt's Gymnastics Academy offers gymnastics and ninja classes that will build your child's strength…",
         "clean_description": "hunt gymnastic academy offer gymnastic ninja class build child strength provide challenge foster co…",
         "industry": "Education",
         "_deepnote_index_column": 19933
        },
        {
         "Unnamed: 0": 19934,
         "employers": "only parts supply chain solutions",
         "description": "Only Parts Supply Chain Solutions Inc. is a company governing under the Canada Business Corporation…",
         "clean_description": "part supply chain solutions inc company govern canada business corporation act february wednesday i…",
         "industry": "Agriculture and Mining",
         "_deepnote_index_column": 19934
        },
        {
         "Unnamed: 0": 19935,
         "employers": "community loans of america,",
         "description": "At Community Loans of America, Inc. we make our loan products convenient and always strive to keep …",
         "clean_description": "community loans america inc make loan product convenient always strive keep customer service top pr…",
         "industry": "Financial Services",
         "_deepnote_index_column": 19935
        },
        {
         "Unnamed: 0": 19936,
         "employers": "the pink elephant",
         "description": "The Pink Elephant Cafe. View menu. Now serving breakfast Monday - Friday from 7am Fresh Juices & sm…",
         "clean_description": "pink elephant cafe view menu serve breakfast monday friday fresh juice smoothie daily sit grab n go…",
         "industry": "Agriculture and Mining",
         "_deepnote_index_column": 19936
        },
        {
         "Unnamed: 0": 19937,
         "employers": "regional director, state government affairs at america's health insurance plans (ahip) (2007-2009)",
         "description": "Contact Us 202.778.3200 | ahip@ahip.org. America’s Health Insurance Plans 601 Pennsylvania Avenue, …",
         "clean_description": "contact we america health insurance plan pennsylvania avenue nw south building suite washington dc …",
         "industry": "Government",
         "_deepnote_index_column": 19937
        },
        {
         "Unnamed: 0": 19938,
         "employers": "suffolk county delivery system reform incentive program",
         "description": "Delivery System Reform Incentive Payment (DSRIP) Program Achievement Value (AV) Scorecard DY2, Q1 A…",
         "clean_description": "delivery system reform incentive payment dsrip program achievement value av scorecard dy q april ju…",
         "industry": "Government",
         "_deepnote_index_column": 19938
        },
        {
         "Unnamed: 0": 19939,
         "employers": "the james cancer research hospital",
         "description": "At The James, patients have access to revolutionary cancer treatment methods and innovative clinica…",
         "clean_description": "james patients access revolutionary cancer treatment method innovative clinical research cancer exp…",
         "industry": "Health, Pharma, and Biotech",
         "_deepnote_index_column": 19939
        },
        {
         "Unnamed: 0": 19940,
         "employers": "medallion oil i, llc",
         "description": "Medallion Midstream | Midstream Services for Crude Oil and Natural Gas Producers. Deliver Solutions…",
         "clean_description": "medallion midstream midstream service crude oil natural gas producer deliver solution ensure safety…",
         "industry": "Agriculture and Mining",
         "_deepnote_index_column": 19940
        },
        {
         "Unnamed: 0": 19941,
         "employers": "jonesall inc.",
         "description": "JonesAll Inc Roofing & Construction did a great job replacing our gutters. They answered all of our…",
         "clean_description": "jonesall inc roofing construction great job replace gutter answer question process price get estima…",
         "industry": "Computer and Electronics",
         "_deepnote_index_column": 19941
        },
        {
         "Unnamed: 0": 19942,
         "employers": "internal auditor",
         "description": "An internal auditor (IA) is a trained professional employed by companies to provide independent and…",
         "clean_description": "internal auditor ia train professional employ company provide independent objective evaluation fina…",
         "industry": "Non-Profit",
         "_deepnote_index_column": 19942
        },
        {
         "Unnamed: 0": 19943,
         "employers": "beaulieu of america inc.",
         "description": "Beaulieu of America, Inc. manufactures carpeting and rugs. The Company produces wall-to-wall carpet…",
         "clean_description": "beaulieu america inc manufacture carpeting rug company produce walltowall carpeting rug beaulieu se…",
         "industry": "Business Services",
         "_deepnote_index_column": 19943
        },
        {
         "Unnamed: 0": 19944,
         "employers": "other - rubino & company",
         "description": "During a review, Rubino will perform analytical procedures, inquiries, and other procedures to obta…",
         "clean_description": "review rubino perform analytical procedure inquiry procedure obtain limited assurance financial sta…",
         "industry": "Financial Services",
         "_deepnote_index_column": 19944
        },
        {
         "Unnamed: 0": 19945,
         "employers": "kal tites",
         "description": "Kal Tire - Tires, Wheels, and Full Mechanical Service. SHOP NOW Adventures and everyday journeys ar…",
         "clean_description": "kal tire tire wheel full mechanical service shop adventure everyday journey around corner find perf…",
         "industry": "Agriculture and Mining",
         "_deepnote_index_column": 19945
        },
        {
         "Unnamed: 0": 19946,
         "employers": "bristol-myers squibb,  plainsboro, nj",
         "description": "About Bristol-Myers Squibb Community Health Center. Bristol-Myers Squibb Community Health Center is…",
         "clean_description": "bristolmyer squibb community health center bristolmyer squibb community health center group practic…",
         "industry": "Health, Pharma, and Biotech",
         "_deepnote_index_column": 19946
        },
        {
         "Unnamed: 0": 19947,
         "employers": "millennium funding group",
         "description": "Millennium Funding Launches New and Improved Website 11/04/2019. An exciting and highly-anticipated…",
         "clean_description": "millennium funding launch new improve website excite highlyanticipate project millennium funding ne…",
         "industry": "Financial Services",
         "_deepnote_index_column": 19947
        },
        {
         "Unnamed: 0": 19948,
         "employers": "compliance implementation services, llc",
         "description": "Compliance Implementation Services LLC Compliance Implementation Services, LLC was founded in 2004.…",
         "clean_description": "compliance implementation service llc compliance implementation service llc found company line busi…",
         "industry": "Consumer Services",
         "_deepnote_index_column": 19948
        },
        {
         "Unnamed: 0": 19949,
         "employers": "aaf birmingham iron bob wick immediate supervisor,",
         "description": "Former Chargers Equipment Manager Bob Wick Joined Scott & BR To Discuss His New AAF Job With Birmin…",
         "clean_description": "former charger equipment manager bob wick join scott br discuss new aaf job birmingham iron san die…",
         "industry": "Business Services",
         "_deepnote_index_column": 19949
        },
        {
         "Unnamed: 0": 19950,
         "employers": "upmc western psychiatric hospital",
         "description": "Pittsburgh, PA, 15213. 412-624-1000 or toll free 1-877-624-4100. Get directions. For more than 70 y…",
         "clean_description": "pittsburgh pa toll free get direction year upmc western psychiatric hospital nationally recognize l…",
         "industry": "Health, Pharma, and Biotech",
         "_deepnote_index_column": 19950
        },
        {
         "Unnamed: 0": 19951,
         "employers": "caluent llc",
         "description": "No matter how big or small, standard or custom, we have the solutions you need for your application…",
         "clean_description": "matter big small standard custom solution need application specialize heating cool control thermal …",
         "industry": "Agriculture and Mining",
         "_deepnote_index_column": 19951
        },
        {
         "Unnamed: 0": 19952,
         "employers": "omnam investment group",
         "description": "Driven by an entrepreneurial spirit, Omnam is a pioneering and diverse global real estate group wit…",
         "clean_description": "drive entrepreneurial spirit omnam pioneer diverse global real estate group incisive vision source …",
         "industry": "Real Estate and Construction",
         "_deepnote_index_column": 19952
        },
        {
         "Unnamed: 0": 19953,
         "employers": "empyrean",
         "description": "Empyrean definition is - empyreal. How to use empyrean in a sentence. Adjective movie scenes set in…",
         "clean_description": "empyrean definition empyreal use empyrean sentence adjective movie scene set heaven often suggest h…",
         "industry": "Agriculture and Mining",
         "_deepnote_index_column": 19953
        },
        {
         "Unnamed: 0": 19954,
         "employers": "jenner & block llp",
         "description": "Founded in 1914, Jenner & Block is a law firm of international reach with more than 500 lawyers. Ou…",
         "clean_description": "found jenner block law firm international reach lawyer firm widely recognize produce outstanding re…",
         "industry": "Consumer Services",
         "_deepnote_index_column": 19954
        },
        {
         "Unnamed: 0": 19955,
         "employers": "other - nova business group llc",
         "description": "NOVA DISTRIBUTION GROUP LLC. NOVA DISTRIBUTION GROUP LLC (DOS ID: 5770839) was incorporated on 2020…",
         "clean_description": "nova distribution group llc nova distribution group llc do i d incorporate new york business record…",
         "industry": "Business Services",
         "_deepnote_index_column": 19955
        },
        {
         "Unnamed: 0": 19956,
         "employers": "ultra trace detection, llc",
         "description": "UltraTrace Detection, LLC. UTD manufactures devices that improve the performance of explosives dete…",
         "clean_description": "ultratrace detection llc utd manufacture device improve performance explosive detector utilize inno…",
         "industry": "Manufacturing",
         "_deepnote_index_column": 19956
        },
        {
         "Unnamed: 0": 19957,
         "employers": "etham east primary school, uk",
         "description": "Eltham East Primary School Official. 9 September at 16:13 ·. Yesterday, once again Eltham East Prim…",
         "clean_description": "eltham east primary school official september yesterday eltham east primary school please medium li…",
         "industry": "Business Services",
         "_deepnote_index_column": 19957
        },
        {
         "Unnamed: 0": 19958,
         "employers": "r adams cowley shock trauma center",
         "description": "Shock Trauma. Call for patient information: 410-328-6110. 410-328-6110. The Nation's First and Only…",
         "clean_description": "shock trauma call patient information nation first integrate trauma hospital dr r adams cowley cons…",
         "industry": "Health, Pharma, and Biotech",
         "_deepnote_index_column": 19958
        },
        {
         "Unnamed: 0": 19959,
         "employers": "endesa geração",
         "description": "Endesa. No necesitas más teorías sobre la subida de la luz. Necesitas #UnaSoluciónÚnica. Un precio …",
         "clean_description": "endesa necesita mas teorias sobre la subida de la luz necesitas unasolucionunica un precio base de …",
         "industry": "Media and Entertainment",
         "_deepnote_index_column": 19959
        },
        {
         "Unnamed: 0": 19960,
         "employers": "stanford university office of residence education",
         "description": "ResX. Now, more than ever, is a time we need to bring community to our campus. ResX is a new, compr…",
         "clean_description": "resx ever time need bring community campus resx new comprehensive vision undergraduate residential …",
         "industry": "Education",
         "_deepnote_index_column": 19960
        },
        {
         "Unnamed: 0": 19961,
         "employers": "project manager at pepper construction group (1999-2004)",
         "description": "Jun 2004 - Apr 2007 2 years 11 months. ... Curry College Bachelor's degree Sociology. 1999 - 2003. …",
         "clean_description": "jun apr year month curry college bachelor degree sociology group senior project manager pepper cons…",
         "industry": "Agriculture and Mining",
         "_deepnote_index_column": 19961
        },
        {
         "Unnamed: 0": 19962,
         "employers": "custom air transport",
         "description": "Custom Air Transport. Custom Air Transport was created back in 1995, and is a cargo based airline t…",
         "clean_description": "custom air transport custom air transport create back cargo base airline situate fort lauderdale fl…",
         "industry": "Agriculture and Mining",
         "_deepnote_index_column": 19962
        },
        {
         "Unnamed: 0": 19963,
         "employers": "decrescente distributing company inc.",
         "description": "DeCrescente Distributing Company is committed to ensuring that our website is accessible to everyon…",
         "clean_description": "decrescente distribute company commit ensure website accessible everyone compliance applicable law …",
         "industry": "Business Services",
         "_deepnote_index_column": 19963
        },
        {
         "Unnamed: 0": 19964,
         "employers": "intern, massachusetts institute of technology (mit)",
         "description": "Massachusetts Institute of Technology Career Advising & Professional Development Twitter Facebook B…",
         "clean_description": "massachusetts institute technology career advise professional development twitter facebook building…",
         "industry": "Education",
         "_deepnote_index_column": 19964
        },
        {
         "Unnamed: 0": 19965,
         "employers": "wachtell, lipton , rosen & katz",
         "description": "Wachtell Lipton is dedicated to providing advice and expertise at the highest levels and achieving …",
         "clean_description": "wachtell lipton dedicate provide advice expertise high level achieve extraordinary result client se…",
         "industry": "Real Estate and Construction",
         "_deepnote_index_column": 19965
        },
        {
         "Unnamed: 0": 19966,
         "employers": "university ob/gyn specialties",
         "description": "Welcome from the 2021 Chief Class. We are very proud to be a part of the Ob/Gyn department here at …",
         "clean_description": "welcome chief class proud part obgyn department ohsu excite introduce residency program many streng…",
         "industry": "Health, Pharma, and Biotech",
         "_deepnote_index_column": 19966
        },
        {
         "Unnamed: 0": 19967,
         "employers": "bierman aba",
         "description": "Through the scientific principles of ABA therapy and accelerated center-based learning, Bierman ABA…",
         "clean_description": "scientific principle aba therapy accelerate centerbase learning bierman aba dedicate focus provide …",
         "industry": "Education",
         "_deepnote_index_column": 19967
        },
        {
         "Unnamed: 0": 19968,
         "employers": "community mercy health partners",
         "description": "Community Mercy Health Partners. 100 Medical Center Drive. Springfield, Ohio 45504. Get Directions.…",
         "clean_description": "community mercy health partner medical center drive springfield ohio get direction community mercy …",
         "industry": "Consumer Services",
         "_deepnote_index_column": 19968
        },
        {
         "Unnamed: 0": 19969,
         "employers": "en masse entertainment",
         "description": "En Masse Entertainment, Inc. (formerly Bluehole Interactive, Inc.) was an American video game publi…",
         "clean_description": "en masse entertainment inc formerly bluehole interactive inc american video game publisherfounde ju…",
         "industry": "Media and Entertainment",
         "_deepnote_index_column": 19969
        },
        {
         "Unnamed: 0": 19970,
         "employers": "mediserve information systems",
         "description": "Company profile page for MediServe Information Systems Inc including stock price, company news, pre…",
         "clean_description": "company profile page mediserve information systems inc include stock price company news press relea…",
         "industry": "Business Services",
         "_deepnote_index_column": 19970
        },
        {
         "Unnamed: 0": 19971,
         "employers": "absa financial services ltd.",
         "description": "ABSA FINANCIAL SERVICES LTD is located in GAUTENG, Gauteng, South Africa and is part of the Banks &…",
         "clean_description": "absa financial services ltd locate gauteng gauteng south africa part bank credit union industry abs…",
         "industry": "Financial Services",
         "_deepnote_index_column": 19971
        },
        {
         "Unnamed: 0": 19972,
         "employers": "vanwyn",
         "description": "At VanWyn, we are passionately driven to develop and implement meaningful, sustainable, unique solu…",
         "clean_description": "vanwyn passionately drive develop implement meaningful sustainable unique solution client address s…",
         "industry": "Media and Entertainment",
         "_deepnote_index_column": 19972
        },
        {
         "Unnamed: 0": 19973,
         "employers": "hit detection",
         "description": "Hit Detection is a connected entertainment consultancy. Our consultants have worked at and with a v…",
         "clean_description": "hit detection connect entertainment consultancy consultant work variety worldrenowne company instit…",
         "industry": "Media and Entertainment",
         "_deepnote_index_column": 19973
        },
        {
         "Unnamed: 0": 19974,
         "employers": "rmoc city of ottawa",
         "description": "Rmoc, Company in Ottawa, Ontario, 1725 Saint Laurent Boulevard, Ottawa, ON K1G 3V4 – Hours of Opera…",
         "clean_description": "rmoc company ottawa ontario saint laurent boulevard ottawa kg v hour operation customer review rmoc…",
         "industry": "Business Services",
         "_deepnote_index_column": 19974
        },
        {
         "Unnamed: 0": 19975,
         "employers": "therpoint massage, 2016-04-13",
         "description": "In this review, massage therapy has been shown to have beneficial effects on varying conditions inc…",
         "clean_description": "review massage therapy show beneficial effect vary condition include prenatal depression preterm in…",
         "industry": "Media and Entertainment",
         "_deepnote_index_column": 19975
        },
        {
         "Unnamed: 0": 19976,
         "employers": "financial & consumer affairs authority of saskatchewan (fcaa)",
         "description": "Financial and Consumer Affairs Authority (FCAA) vision is to cultivate an environment in which ever…",
         "clean_description": "financial consumer affair authority fcaa vision cultivate environment everyone saskatchewan confide…",
         "industry": "Consumer Services",
         "_deepnote_index_column": 19976
        },
        {
         "Unnamed: 0": 19977,
         "employers": "columbia association",
         "description": "Columbia Association (CA) is a nonprofit community services corporation that manages Columbia, MD, …",
         "clean_description": "columbia association ca nonprofit community service corporation manage columbia md home approximate…",
         "industry": "Agriculture and Mining",
         "_deepnote_index_column": 19977
        },
        {
         "Unnamed: 0": 19978,
         "employers": "john muir physician network",
         "description": "John Muir Health Find A Doctor match for: John Muir Health Physician Network. Toggle navigation. Pa…",
         "clean_description": "john muir health find doctor match john muir health physician network toggle navigation patient myc…",
         "industry": "Health, Pharma, and Biotech",
         "_deepnote_index_column": 19978
        },
        {
         "Unnamed: 0": 19979,
         "employers": " lenovo technology (uk) ltd.",
         "description": "Lenovo Technology United Kingdom Limited Redwood 3, Crockford Lane Chineham Business Park Basingsto…",
         "clean_description": "lenovo technology united kingdom limited redwood crockford lane chineham business park basingstoke …",
         "industry": "Computer and Electronics",
         "_deepnote_index_column": 19979
        },
        {
         "Unnamed: 0": 19980,
         "employers": "wissen it inc",
         "description": "Offering services in the areas of setting up Data-Center, IT Infrastructure, End User support and a…",
         "clean_description": "offer service area set datacenter infrastructure end user support assist complete onboarding proces…",
         "industry": "Business Services",
         "_deepnote_index_column": 19980
        },
        {
         "Unnamed: 0": 19981,
         "employers": "ahaclas realty llc",
         "description": "Ahaclas Realty LLC. 2472 North 770 West. Clearfield, UT (801) 725-8518. Categorized under Real Esta…",
         "clean_description": "ahaclas realty llc north west clearfield ut categorize real estate buyer representative lenorok rea…",
         "industry": "Business Services",
         "_deepnote_index_column": 19981
        },
        {
         "Unnamed: 0": 19982,
         "employers": "crown wealth strategies ~",
         "description": "Crown Wealth Strategies provides quality financial strategies, focusing on wealth planning strategi…",
         "clean_description": "crown wealth strategy provide quality financial strategy focus wealth planning strategy professiona…",
         "industry": "Financial Services",
         "_deepnote_index_column": 19982
        },
        {
         "Unnamed: 0": 19983,
         "employers": "other - cumming corporation",
         "description": "Cumming is an international project management and cost consulting company that delivers creative, …",
         "clean_description": "cumme international project management cost consulting company deliver creative customized solution…",
         "industry": "Government",
         "_deepnote_index_column": 19983
        },
        {
         "Unnamed: 0": 19984,
         "employers": "cruise",
         "description": "Cruise.com offers cruises on all cruise lines, including Carnival Cruises, Celebrity Cruises, Princ…",
         "clean_description": "cruisecom offer cruise cruise line include carnival cruise celebrity cruise princess cruise host ot…",
         "industry": "Agriculture and Mining",
         "_deepnote_index_column": 19984
        },
        {
         "Unnamed: 0": 19985,
         "employers": "verite films",
         "description": "VÉRITÉ FILMS INC • 15 Beaufort Road • Toronto, ON • M4E 1M6 T. 416.693.8245 • F.416.693.8252 ... Ty…",
         "clean_description": "verite films inc beaufort road toronto f type least character search home contact journal work home…",
         "industry": "Media and Entertainment",
         "_deepnote_index_column": 19985
        },
        {
         "Unnamed: 0": 19986,
         "employers": "roche singapore pte ltd",
         "description": "The Roche Group, including Genentech and Chugai, has brought many highly effective drugs onto the m…",
         "clean_description": "roche group include genentech chugai bring many highly effective drug onto market world leader inno…",
         "industry": "Health, Pharma, and Biotech",
         "_deepnote_index_column": 19986
        },
        {
         "Unnamed: 0": 19987,
         "employers": "behr-hella thermocontrol gmbh",
         "description": "Behr-Hella Thermocontrol GmbH (BHTC) is one of the world's leading companies in the field of climat…",
         "clean_description": "behrhella thermocontrol gmbh bhtc one world lead company field climate control thermal management a…",
         "industry": "Computer and Electronics",
         "_deepnote_index_column": 19987
        },
        {
         "Unnamed: 0": 19988,
         "employers": "intercos spa",
         "description": "INTERCOS EUROPE S.p.A. Via Marconi, 84 20864 Agrate Brianza – MB ITALY TEL. +39 039 65521 FAX. +39 …",
         "clean_description": "intercos europe spa via marconi agrate brianza mb italy tel fax view map intercos europe spa dovera…",
         "industry": "Business Services",
         "_deepnote_index_column": 19988
        },
        {
         "Unnamed: 0": 19989,
         "employers": "ermanno scervino",
         "description": "Le calzature Ermanno Scervino. L’impeccabile attenzione ai dettagli, i materiali ricercati e lussuo…",
         "clean_description": "le calzature ermanno scervino limpeccabile attenzione ai dettagli materiali ricercati e lussuosi e …",
         "industry": "Computer and Electronics",
         "_deepnote_index_column": 19989
        },
        {
         "Unnamed: 0": 19990,
         "employers": "logitech",
         "description": "Logitech is the first consumer electronics company to label its products with the amount of climate…",
         "clean_description": "logitech first consumer electronic company label product amount climatewarme carbon use create make…",
         "industry": "Computer and Electronics",
         "_deepnote_index_column": 19990
        },
        {
         "Unnamed: 0": 19991,
         "employers": "accretive pas",
         "description": "The Care Management Industry Directory is the database dedicated to case managers, helping them fin…",
         "clean_description": "care management industry directory database dedicate case manager help find product service need ac…",
         "industry": "Health, Pharma, and Biotech",
         "_deepnote_index_column": 19991
        },
        {
         "Unnamed: 0": 19992,
         "employers": "f&c asset management plc",
         "description": "F&C Asset Management Plc was an international asset management company. It was acquired by BMO Glob…",
         "clean_description": "fc asset management plc international asset management company acquire bmo global asset management …",
         "industry": "Financial Services",
         "_deepnote_index_column": 19992
        },
        {
         "Unnamed: 0": 19993,
         "employers": "the gap, inc.",
         "description": "HP Printer Case Printer Production HP invested $25,000,000 in “Eclipse,” a new system for automated…",
         "clean_description": "hp printer case printer production hp invest eclipse new system automate assembly print engine nort…",
         "industry": "Computer and Electronics",
         "_deepnote_index_column": 19993
        },
        {
         "Unnamed: 0": 19994,
         "employers": "orient overseas container line limited",
         "description": "OOCL Logistics and OOCL announced the launch of a brand-new multi-modal container service from Chin…",
         "clean_description": "oocl logistic oocl announce launch brandnew multimodal container service china us east coast press …",
         "industry": "Business Services",
         "_deepnote_index_column": 19994
        },
        {
         "Unnamed: 0": 19995,
         "employers": "comprehensive surgical center of green",
         "description": "The current location address for Comprehensive Surgical Center Of Green, Llc is 1560 Corporate Wood…",
         "clean_description": "current location address comprehensive surgical center green llc corporate wood pkwy uniontown ohio…",
         "industry": "Health, Pharma, and Biotech",
         "_deepnote_index_column": 19995
        },
        {
         "Unnamed: 0": 19996,
         "employers": "chlopak, leonard, schechter",
         "description": "Chlopak Leonard & Schechter Associates. 1850 M St Nw, Washington, DC 20036. Industry: Public Relati…",
         "clean_description": "chlopak leonard schechter associates st nw washington dc industry public relation agency business c…",
         "industry": "Business Services",
         "_deepnote_index_column": 19996
        },
        {
         "Unnamed: 0": 19997,
         "employers": "optimedia",
         "description": "Optimedia is a comprehensive storage system designed to accommodate conventional filing and advance…",
         "clean_description": "optimedia comprehensive storage system design accommodate conventional file advanced multimedia sto…",
         "industry": "Media and Entertainment",
         "_deepnote_index_column": 19997
        },
        {
         "Unnamed: 0": 19998,
         "employers": "genta, inc.",
         "description": "Genta Incorporated was a biopharmaceutical company started in La Jolla, California, which discovere…",
         "clean_description": "genta incorporate biopharmaceutical company start la jolla california discover develop innovative d…",
         "industry": "Health, Pharma, and Biotech",
         "_deepnote_index_column": 19998
        },
        {
         "Unnamed: 0": 19999,
         "employers": "hilton worldwide",
         "description": "Signia by Hilton. Signia by Hilton is a new portfolio of premier hotels in highly sought-after urba…",
         "clean_description": "signia hilton signia hilton new portfolio premier hotel highly soughtafter urban resort destination…",
         "industry": "Real Estate and Construction",
         "_deepnote_index_column": 19999
        }
       ]
      },
      "text/plain": "       Unnamed: 0                               employers  \\\n0               0                             magic touch   \n1               1         indus valley partners pvt. ltd.   \n2               2                         mather hospital   \n3               3               macarena tapas restaurant   \n4               4           ashland specialty ingredients   \n...           ...                                     ...   \n19995       19995  comprehensive surgical center of green   \n19996       19996             chlopak, leonard, schechter   \n19997       19997                               optimedia   \n19998       19998                             genta, inc.   \n19999       19999                        hilton worldwide   \n\n                                             description  \\\n0      Magic Touch USA has partnered with clicklease ...   \n1      Indus Valley Partners (India) Pvt. Ltd. Unit N...   \n2      Home - Mather Hospital Find a doctor Patient p...   \n3      The First Tapas Bar in Colombia - Tapas Macare...   \n4      Ashland specialty chemicals is driven by its v...   \n...                                                  ...   \n19995  The current location address for Comprehensive...   \n19996  Chlopak Leonard & Schechter Associates. 1850 M...   \n19997  Optimedia is a comprehensive storage system de...   \n19998  Genta Incorporated was a biopharmaceutical com...   \n19999  Signia by Hilton. Signia by Hilton is a new po...   \n\n                                       clean_description  \\\n0      magic touch usa partner clicklease provide bus...   \n1      indus valley partners india pvt ltd unit sdfv ...   \n2      home mather hospital find doctor patient porta...   \n3      first tapas bar colombia tapas macarena opport...   \n4      ashland specialty chemical drive vision make w...   \n...                                                  ...   \n19995  current location address comprehensive surgica...   \n19996  chlopak leonard schechter associates st nw was...   \n19997  optimedia comprehensive storage system design ...   \n19998  genta incorporate biopharmaceutical company st...   \n19999  signia hilton signia hilton new portfolio prem...   \n\n                           industry  \n0          Computer and Electronics  \n1                 Business Services  \n2                 Business Services  \n3            Agriculture and Mining  \n4       Health, Pharma, and Biotech  \n...                             ...  \n19995   Health, Pharma, and Biotech  \n19996             Business Services  \n19997       Media and Entertainment  \n19998   Health, Pharma, and Biotech  \n19999  Real Estate and Construction  \n\n[20000 rows x 5 columns]",
      "text/html": "<div>\n<style scoped>\n    .dataframe tbody tr th:only-of-type {\n        vertical-align: middle;\n    }\n\n    .dataframe tbody tr th {\n        vertical-align: top;\n    }\n\n    .dataframe thead th {\n        text-align: right;\n    }\n</style>\n<table border=\"1\" class=\"dataframe\">\n  <thead>\n    <tr style=\"text-align: right;\">\n      <th></th>\n      <th>Unnamed: 0</th>\n      <th>employers</th>\n      <th>description</th>\n      <th>clean_description</th>\n      <th>industry</th>\n    </tr>\n  </thead>\n  <tbody>\n    <tr>\n      <th>0</th>\n      <td>0</td>\n      <td>magic touch</td>\n      <td>Magic Touch USA has partnered with clicklease ...</td>\n      <td>magic touch usa partner clicklease provide bus...</td>\n      <td>Computer and Electronics</td>\n    </tr>\n    <tr>\n      <th>1</th>\n      <td>1</td>\n      <td>indus valley partners pvt. ltd.</td>\n      <td>Indus Valley Partners (India) Pvt. Ltd. Unit N...</td>\n      <td>indus valley partners india pvt ltd unit sdfv ...</td>\n      <td>Business Services</td>\n    </tr>\n    <tr>\n      <th>2</th>\n      <td>2</td>\n      <td>mather hospital</td>\n      <td>Home - Mather Hospital Find a doctor Patient p...</td>\n      <td>home mather hospital find doctor patient porta...</td>\n      <td>Business Services</td>\n    </tr>\n    <tr>\n      <th>3</th>\n      <td>3</td>\n      <td>macarena tapas restaurant</td>\n      <td>The First Tapas Bar in Colombia - Tapas Macare...</td>\n      <td>first tapas bar colombia tapas macarena opport...</td>\n      <td>Agriculture and Mining</td>\n    </tr>\n    <tr>\n      <th>4</th>\n      <td>4</td>\n      <td>ashland specialty ingredients</td>\n      <td>Ashland specialty chemicals is driven by its v...</td>\n      <td>ashland specialty chemical drive vision make w...</td>\n      <td>Health, Pharma, and Biotech</td>\n    </tr>\n    <tr>\n      <th>...</th>\n      <td>...</td>\n      <td>...</td>\n      <td>...</td>\n      <td>...</td>\n      <td>...</td>\n    </tr>\n    <tr>\n      <th>19995</th>\n      <td>19995</td>\n      <td>comprehensive surgical center of green</td>\n      <td>The current location address for Comprehensive...</td>\n      <td>current location address comprehensive surgica...</td>\n      <td>Health, Pharma, and Biotech</td>\n    </tr>\n    <tr>\n      <th>19996</th>\n      <td>19996</td>\n      <td>chlopak, leonard, schechter</td>\n      <td>Chlopak Leonard &amp; Schechter Associates. 1850 M...</td>\n      <td>chlopak leonard schechter associates st nw was...</td>\n      <td>Business Services</td>\n    </tr>\n    <tr>\n      <th>19997</th>\n      <td>19997</td>\n      <td>optimedia</td>\n      <td>Optimedia is a comprehensive storage system de...</td>\n      <td>optimedia comprehensive storage system design ...</td>\n      <td>Media and Entertainment</td>\n    </tr>\n    <tr>\n      <th>19998</th>\n      <td>19998</td>\n      <td>genta, inc.</td>\n      <td>Genta Incorporated was a biopharmaceutical com...</td>\n      <td>genta incorporate biopharmaceutical company st...</td>\n      <td>Health, Pharma, and Biotech</td>\n    </tr>\n    <tr>\n      <th>19999</th>\n      <td>19999</td>\n      <td>hilton worldwide</td>\n      <td>Signia by Hilton. Signia by Hilton is a new po...</td>\n      <td>signia hilton signia hilton new portfolio prem...</td>\n      <td>Real Estate and Construction</td>\n    </tr>\n  </tbody>\n</table>\n<p>20000 rows × 5 columns</p>\n</div>"
     },
     "metadata": {}
    }
   ]
  },
  {
   "cell_type": "code",
   "metadata": {
    "tags": [],
    "cell_id": "00020-b5b2a6af-8d8a-4020-b639-2399197b13b1",
    "deepnote_to_be_reexecuted": false,
    "source_hash": "7dd53365",
    "execution_start": 1635998162675,
    "execution_millis": 3613,
    "deepnote_cell_type": "code"
   },
   "source": "df.to_csv(\"word_embeddings_predictions.csv\") # writes final classifications to csv",
   "execution_count": null,
   "outputs": []
  },
  {
   "cell_type": "code",
   "metadata": {
    "tags": [],
    "cell_id": "00021-c1b2208c-afd7-40d9-a602-4c6e59090164",
    "deepnote_cell_type": "code"
   },
   "source": "",
   "execution_count": null,
   "outputs": []
  },
  {
   "cell_type": "markdown",
   "source": "<a style='text-decoration:none;line-height:16px;display:flex;color:#5B5B62;padding:10px;justify-content:end;' href='https://deepnote.com?utm_source=created-in-deepnote-cell&projectId=0f8c70f2-5291-4247-be8a-0c0d763ed56d' target=\"_blank\">\n<img alt='Created in deepnote.com' style='display:inline;max-height:16px;margin:0px;margin-right:7.5px;' src='data:image/svg+xml;base64,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' > </img>\nCreated in <span style='font-weight:600;margin-left:4px;'>Deepnote</span></a>",
   "metadata": {
    "tags": [],
    "created_in_deepnote_cell": true,
    "deepnote_cell_type": "markdown"
   }
  }
 ],
 "nbformat": 4,
 "nbformat_minor": 2,
 "metadata": {
  "orig_nbformat": 2,
  "deepnote": {
   "is_reactive": false
  },
  "deepnote_notebook_id": "6211318d-c98d-4b31-9ae3-fa386156efa9",
  "deepnote_execution_queue": []
 }
}