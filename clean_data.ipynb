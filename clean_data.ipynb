{
 "cells": [
  {
   "cell_type": "code",
   "metadata": {
    "tags": [],
    "cell_id": "00000-2dc6bddd-7930-458d-b8e9-ad25d7061320",
    "deepnote_to_be_reexecuted": false,
    "source_hash": "254e20a3",
    "execution_start": 1634937190656,
    "execution_millis": 19576,
    "deepnote_cell_type": "code"
   },
   "source": "import pandas as pd\nimport regex as re\nimport unicodedata\nimport string\nimport nltk\nimport numpy as np\nimport spacy",
   "execution_count": 1,
   "outputs": []
  },
  {
   "cell_type": "code",
   "metadata": {
    "tags": [],
    "cell_id": "00001-7e1bd734-3cf3-4895-aaea-d0ad46120e85",
    "deepnote_to_be_reexecuted": false,
    "source_hash": "9215e735",
    "execution_start": 1634937309442,
    "execution_millis": 2375,
    "deepnote_cell_type": "code"
   },
   "source": "df = pd.read_csv('employer_raw_data_group_1.csv')",
   "execution_count": 2,
   "outputs": []
  },
  {
   "cell_type": "code",
   "metadata": {
    "tags": [],
    "cell_id": "00002-1e801a2a-45ed-4456-ad7b-62455d89060e",
    "deepnote_to_be_reexecuted": false,
    "source_hash": "5516d938",
    "execution_start": 1634937313336,
    "execution_millis": 19752,
    "deepnote_cell_type": "code"
   },
   "source": "!python -m spacy download en_core_web_sm >> /dev/null\n!python -m nltk.downloader stopwords >> /dev/null",
   "execution_count": 3,
   "outputs": [
    {
     "name": "stdout",
     "text": "2021-10-22 21:15:15.766659: W tensorflow/stream_executor/platform/default/dso_loader.cc:60] Could not load dynamic library 'libcudart.so.11.0'; dlerror: libcudart.so.11.0: cannot open shared object file: No such file or directory\n2021-10-22 21:15:15.766723: I tensorflow/stream_executor/cuda/cudart_stub.cc:29] Ignore above cudart dlerror if you do not have a GPU set up on your machine.\n\u001b[33mWARNING: You are using pip version 21.2.4; however, version 21.3.1 is available.\nYou should consider upgrading via the '/root/venv/bin/python -m pip install --upgrade pip' command.\u001b[0m\n/usr/local/lib/python3.7/runpy.py:125: RuntimeWarning: 'nltk.downloader' found in sys.modules after import of package 'nltk', but prior to execution of 'nltk.downloader'; this may result in unpredictable behaviour\n  warn(RuntimeWarning(msg))\n[nltk_data] Downloading package stopwords to /root/nltk_data...\n[nltk_data]   Unzipping corpora/stopwords.zip.\n",
     "output_type": "stream"
    }
   ]
  },
  {
   "cell_type": "code",
   "metadata": {
    "tags": [],
    "cell_id": "00003-ded0b309-c81b-4e0d-bdaa-c67a1a9ba1ce",
    "deepnote_to_be_reexecuted": false,
    "source_hash": "a5ebdcf",
    "execution_start": 1634937508630,
    "execution_millis": 1119,
    "deepnote_cell_type": "code"
   },
   "source": "PUNCT_TO_REMOVE = string.punctuation\nSNOWBALL_STEMMER = nltk.stem.SnowballStemmer(\"english\")\nNLP = spacy.load('en_core_web_sm', disable=['parser', 'ner'])\nSTOP_WORDS = nltk.corpus.stopwords.words(\"english\")",
   "execution_count": 4,
   "outputs": []
  },
  {
   "cell_type": "code",
   "metadata": {
    "tags": [],
    "cell_id": "00000-aa27cea0-330f-4cf8-8e75-bfe2d99103fe",
    "deepnote_to_be_reexecuted": false,
    "source_hash": "a1ef37cb",
    "execution_start": 1634937512957,
    "execution_millis": 21,
    "deepnote_cell_type": "code"
   },
   "source": "def get_preprocessing_function(\n    use_phone_number: bool = True,\n    use_emoji: bool = True,\n    use_lower: bool = True,\n    use_email: bool = True,\n    use_normalize: bool = True,\n    use_url: bool = True,\n    use_rand_digits: bool = True,\n    use_punctuation: bool = True,\n    use_stopwords: bool = True,\n    use_lemmatizer: bool = True,\n    use_stemming: bool = False\n):\n\n    def remove_phone_number(text: str):\n        phone_number_pattern = re.compile(r'\\+?([0-9]{1,2})?\\s?-?\\s?\\(?\\d{3}\\)?\\s?-?\\s?\\d{3,4}\\s?-?\\s?\\d{4}')\n        return phone_number_pattern.sub(\"\", text) if use_phone_number else text\n\n    def remove_emoji(text: str):\n        emoji_pattern = re.compile(\"[\"\n            u\"\\U0001F600-\\U0001F64F\"  # emoticons\n            u\"\\U0001F300-\\U0001F5FF\"  # symbols & pictographs\n            u\"\\U0001F680-\\U0001F6FF\"  # transport & map symbols\n            u\"\\U0001F1E0-\\U0001F1FF\"  # flags (iOS)\n            u\"\\U00002702-\\U000027B0\"\n            u\"\\U000024C2-\\U0001F251\"\n            u\"\\U0000231B-\\U0001F566\"  # time\n            \"]+\", flags=re.UNICODE)\n        \n        return emoji_pattern.sub(r'', text) if use_emoji else text\n    \n    def remove_email_address(text: str):\n        email_address_pattern = re.compile(r\"[\\w.-]+@[\\w.]+\\.[a-zA-Z]{2,4}\")\n        return email_address_pattern.sub(r'', text) if use_email else text\n    \n    def remove_urls(text: str):\n        url_pattern = re.compile(r'(https?):\\/\\/(\\w{2,3}\\.[A-Za-z-]{2,256}\\.[a-z]{2,6})([-a-zA-Z-0-9@:%_\\+.~#?&//=]*)')\n        return url_pattern.sub(r'', text) if use_url else text\n    \n    def remove_punctuation(text: str):\n        return text.translate(str.maketrans('', '', PUNCT_TO_REMOVE)) if use_punctuation else text\n    \n    def all_lower_case(text: str):\n        return text.lower() if use_lower else text\n    \n    def remove_random_digits(text: str):\n        return ''.join([i for i in text if not i.isdigit()]) if use_rand_digits else text\n\n    def normalize_text(text: str):\n        return unicodedata.normalize('NFKD', text).encode('ascii', 'ignore').decode('utf-8', 'ignore') if use_normalize else text\n    \n    def clean_stopwords(text: str):\n        temp = text.split(\" \")\n        return \" \".join([token for token in temp if token not in STOP_WORDS]) if use_stopwords else text\n\n    def apply_spacy_lemm(text: str):\n        temp = NLP(text)\n        return \" \".join([word.lemma_ for word in temp]) if use_lemmatizer else text\n    \n    def apply_snowball_stemmer(text: str):\n        temp = text.split(\" \")\n        return ' '.join([SNOWBALL_STEMMER.stem(word) for word in temp]) if use_stemming else text\n\n    def preprocess(text: str):\n        funcs = [remove_emoji, \n                remove_phone_number, \n                all_lower_case, \n                remove_email_address, \n                normalize_text,\n                remove_urls, \n                remove_random_digits, \n                remove_punctuation,\n                clean_stopwords,\n                apply_spacy_lemm,\n                apply_snowball_stemmer]\n        for func in funcs:\n            text = func(text)\n        \n        return text\n        \n    return preprocess",
   "execution_count": 5,
   "outputs": []
  },
  {
   "cell_type": "code",
   "metadata": {
    "tags": [],
    "cell_id": "00004-52191887-7098-4efa-8fb9-de54d3376acd",
    "deepnote_to_be_reexecuted": false,
    "source_hash": "74e6f99e",
    "execution_start": 1634937529307,
    "execution_millis": 0,
    "deepnote_cell_type": "code"
   },
   "source": "preprocess = get_preprocessing_function(\n    use_phone_number = True,\n    use_emoji = True,\n    use_lower = True,\n    use_email = True,\n    use_normalize = True,\n    use_url = True,\n    use_rand_digits = True,\n    use_punctuation = True,\n    use_stopwords = True,\n    use_lemmatizer = True,\n    use_stemming = False\n)",
   "execution_count": 6,
   "outputs": []
  },
  {
   "cell_type": "code",
   "metadata": {
    "tags": [],
    "cell_id": "00005-9e177e76-ff9c-4743-8583-673f7b99a529",
    "deepnote_to_be_reexecuted": false,
    "source_hash": "aeff5254",
    "execution_start": 1634937535233,
    "execution_millis": 1426637,
    "deepnote_cell_type": "code"
   },
   "source": "df['description'] = df['description'].fillna(\".\")\ndf['description'] = df['description'].astype(str)\ndf['description'] = df['description'].apply(preprocess)",
   "execution_count": 7,
   "outputs": []
  },
  {
   "cell_type": "markdown",
   "source": "<a style='text-decoration:none;line-height:16px;display:flex;color:#5B5B62;padding:10px;justify-content:end;' href='https://deepnote.com?utm_source=created-in-deepnote-cell&projectId=0f8c70f2-5291-4247-be8a-0c0d763ed56d' target=\"_blank\">\n<img alt='Created in deepnote.com' style='display:inline;max-height:16px;margin:0px;margin-right:7.5px;' src='data:image/svg+xml;base64,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' > </img>\nCreated in <span style='font-weight:600;margin-left:4px;'>Deepnote</span></a>",
   "metadata": {
    "tags": [],
    "created_in_deepnote_cell": true,
    "deepnote_cell_type": "markdown"
   }
  }
 ],
 "nbformat": 4,
 "nbformat_minor": 2,
 "metadata": {
  "orig_nbformat": 2,
  "deepnote": {
   "is_reactive": false
  },
  "deepnote_notebook_id": "d4e2aa9b-9c3f-4970-87f4-91a36a1a023c",
  "deepnote_execution_queue": []
 }
}